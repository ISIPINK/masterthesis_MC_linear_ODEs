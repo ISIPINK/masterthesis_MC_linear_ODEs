{
 "cells": [
  {
   "attachments": {},
   "cell_type": "markdown",
   "metadata": {},
   "source": [
    "# RMC on the boundary\n",
    "Lets solve \n",
    "$$y'' = 2$$ \n",
    "with $y(0) = 1, y(1)=2$ with recursive Monte Carlo, the analytical solution is <br>\n",
    "$$y = x^2 + 1$$\n",
    "\n",
    "Lets use as base the boundary and source green function of $-1 \\rightarrow 1$ evaluated in $0$ which by symmetry gives scaled and translated versions of those."
   ]
  },
  {
   "attachments": {},
   "cell_type": "markdown",
   "metadata": {},
   "source": [
    "## The green fucntions for $-1 \\rightarrow 1$ in $0$\n",
    "The boundary green function in $0$ is 0.5 for both left and right. (can easily be checked) <br>\n",
    "The source green function isn't trivial:\n",
    "$G''_{t} = \\delta(x-t)$ with $G_{t}(-1)=G_{t}(1)= 0$.\n",
    "\n",
    "$G'_{t}(x)= c_1$ for $x<t$ <br>\n",
    "$G'_{t}(x)= 1+c_1$ for $x>t$ <br>\n",
    "\n",
    "$G_{t}(x)= c_1 x + c_2$ for $x<t$ <br>\n",
    "$G_{t}(x)= (c_1+1) x + c_3$ for $x>t$ <br>\n",
    "\n",
    "Boundary conditions:<br>\n",
    "$G_{t}(-1)= 0 = -c_1 + c_2$ for $x<t$ <br>\n",
    "$G_{t}(1)= 0 = c_1 + 1 + c_3$ for $x<t$ <br>\n",
    "We also want G to be continuous <br>\n",
    "$  c_1 t + c_2= (c_1+1)t + c_3$  <br>\n",
    "Solving that linear equation gives: <br>\n",
    "\n",
    "$c_1 = c_2 = \\frac{t-1}{2}$<br>\n",
    "$c_3 = \\frac{-1-t}{2} $<br>\n",
    "Evaluating the green functions in $0$: <br>\n",
    "$G_t(0)=\\frac{t-1}{2}$ for $x<t$ <br>\n",
    "$G_t(0)=\\frac{-1-t}{2}$ for $x>t$ <br>"
   ]
  },
  {
   "attachments": {},
   "cell_type": "markdown",
   "metadata": {},
   "source": [
    "## The green fucntions for $x_0-R \\rightarrow x_0+R$ in $x_0$.\n",
    "The boundary green function stays unchanged.<br>\n",
    "To derive to source green function with previous case we scale and translate the space with following transformation:<br>\n",
    "$$z= \\frac{z-x_0}{R}$$ \n",
    "$$\\frac{\\partial}{\\partial x} = \\frac{\\partial}{\\partial z}\\frac{\\partial z}{\\partial x}= \\frac{1}{R}\\frac{\\partial}{\\partial z}$$\n",
    "$$\\frac{\\partial^2}{\\partial x^2} = \\frac{1}{R^2}\\frac{\\partial^2}{\\partial z^2}$$"
   ]
  }
 ],
 "metadata": {
  "kernelspec": {
   "display_name": "Python 3",
   "language": "python",
   "name": "python3"
  },
  "language_info": {
   "name": "python",
   "version": "3.10.8 (tags/v3.10.8:aaaf517, Oct 11 2022, 16:50:30) [MSC v.1933 64 bit (AMD64)]"
  },
  "orig_nbformat": 4,
  "vscode": {
   "interpreter": {
    "hash": "61dcd53c54624714075f66cf77d2f4f7b806bcd73e530a683be31ad82b480a0b"
   }
  }
 },
 "nbformat": 4,
 "nbformat_minor": 2
}
