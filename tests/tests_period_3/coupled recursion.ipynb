{
 "cells": [
  {
   "attachments": {},
   "cell_type": "markdown",
   "metadata": {},
   "source": [
    "The idea of coupled recursion is combining multiple recursion processes together in a way they can use each others recursion calls to reduce variance. This is path reuse like. In the example of period $2$ the next point position was independent of the current one (always $\\text{Uniform(0,1)}$). Coupled recursion in that case is similar to splitting but instead of making new recursion calls you reuse the recursion calls from the coupled processes. <br>\n",
    "\n",
    "This works well when working with only $1$ Green function. The implementation of coupled processes can be  thought of a \"recursion\" vector where each recursion all recursive calls get shared.\n",
    "\n"
   ]
  },
  {
   "attachments": {},
   "cell_type": "markdown",
   "metadata": {},
   "source": [
    "An good example of coupled recursion is \"Path replay backpropagation\" like in Solving Inverse PDE Problems using Grid-Free Monte Carlo Estimators (we aren't sure if this is like tree walking from Monte Carlo Geometry Processing: A Grid-Free Approach to PDE-Based Methods on Volumetric Domains). Let's work out the same example as in local model via SALT but this time with a estimator of local information obtained via pathwise differentiation:\n",
    "\n",
    "$$\n",
    "y'=ay,y(0)=1,a=1\n",
    "$$ \n",
    "This has as solution $y(t,a) = e^{at}$ and is equivalent with following integral equation:\n",
    "$$\n",
    "y(t,a) = 1 + \\int_{0}^{t} a y(s,a)ds .\n",
    "$$ \n",
    "Differentiating this in $a$ gives\n",
    "$$\n",
    "\\partial_{a} y(t,a) = \\int_{0}^{t} y(s,a) + a \\partial_{a} y(t,a) ds .\n",
    "$$ \n",
    "if you simulate this last expression you get a branching estimator this can be avoided by russian roulette but also by combining it with the first equation and sharing recursions:\n",
    "\n",
    "$$ \n",
    "\\left(\\begin{array}{l}\n",
    "y(t, a) \\\\\n",
    "\\partial_a y(t, a)\n",
    "\\end{array}\\right)=\\left(\\begin{array}{l}\n",
    "1 \\\\\n",
    "0\n",
    "\\end{array}\\right)+\\int_0^t\\left(\\begin{array}{l}\n",
    "a y(s, a) \\\\\n",
    "y(s, a)+a \\partial_{a}y(s, a)\n",
    "\\end{array}\\right) d s\n",
    "$$\n",
    "Turning that into a recursive estimator implemented in code it looks like this:"
   ]
  },
  {
   "cell_type": "code",
   "execution_count": 34,
   "metadata": {},
   "outputs": [
    {
     "name": "stdout",
     "output_type": "stream",
     "text": [
      "E = [2.7276 1.3946]\n",
      "%error is [0.00342796 0.02608934]\n"
     ]
    }
   ],
   "source": [
    "from random import random\n",
    "from math import exp\n",
    "import numpy as np\n",
    "\n",
    "# E for estimator\n",
    "def E(t,a)->np.array:\n",
    "    if t<1 and random()>t:\n",
    "        return np.array([1,0])\n",
    "    e = E(random()*t,a)\n",
    "    y = 1 + t*a*e[0] if t>1 else 1 + a*e[0]\n",
    "    py= t*(e[0]+a*e[1]) if t>1 else e[0]+a*e[1]\n",
    "    return np.array([y,py])\n",
    "    \n",
    "s = np.array([0.0,0.0])\n",
    "nsim = 10**4\n",
    "t,a = 0.5,2\n",
    "for _ in range(nsim):\n",
    "    s +=E(t,a)/nsim\n",
    "\n",
    "sol = np.array([exp(t*a),t*exp(t*a)]) \n",
    "err = (s-sol)/sol\n",
    "print(f\"E = {s}\")\n",
    "print(f\"%error is {err}\")"
   ]
  },
  {
   "attachments": {},
   "cell_type": "markdown",
   "metadata": {},
   "source": [
    "Lets look at a SDE instead of a ODE (we aren't sure if taking derivatives of SDE works):\n",
    "$$\n",
    "\\begin{align*}\n",
    "dX_t &= (1+\\sigma X_{t})dW_{t} \\\\\n",
    "d(\\partial_{\\sigma}X_{t}) &= (X_{t}+ \\sigma\\partial_{\\sigma}X_{t} ) dW_t\n",
    "\\end{align*}\n",
    "$$ \n"
   ]
  }
 ],
 "metadata": {
  "kernelspec": {
   "display_name": "Python 3",
   "language": "python",
   "name": "python3"
  },
  "language_info": {
   "codemirror_mode": {
    "name": "ipython",
    "version": 3
   },
   "file_extension": ".py",
   "mimetype": "text/x-python",
   "name": "python",
   "nbconvert_exporter": "python",
   "pygments_lexer": "ipython3",
   "version": "3.10.10"
  },
  "orig_nbformat": 4,
  "vscode": {
   "interpreter": {
    "hash": "61dcd53c54624714075f66cf77d2f4f7b806bcd73e530a683be31ad82b480a0b"
   }
  }
 },
 "nbformat": 4,
 "nbformat_minor": 2
}
