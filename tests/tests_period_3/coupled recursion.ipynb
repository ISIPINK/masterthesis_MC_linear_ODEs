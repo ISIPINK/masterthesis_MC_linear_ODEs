{
 "cells": [
  {
   "attachments": {},
   "cell_type": "markdown",
   "metadata": {},
   "source": [
    "The idea of coupled recursion is combining multiple recursion processes together in a way they can use each others recursion calls to reduce variance. This is path reuse like. In the example of period $2$ the next point position was independent of the current one (always $\\text{Uniform(0,1)}$). Coupled recursion in that case is similar to splitting but instead of making new recursion calls you reuse the recursion calls from the coupled processes. <br>\n",
    "\n",
    "This works well when working with only $1$ Green function. The implementation of coupled processes can be  thought of a \"recursion\" vector where each recursion all recursive calls get shared.\n",
    "\n"
   ]
  }
 ],
 "metadata": {
  "kernelspec": {
   "display_name": "Python 3",
   "language": "python",
   "name": "python3"
  },
  "language_info": {
   "name": "python",
   "version": "3.10.10"
  },
  "orig_nbformat": 4,
  "vscode": {
   "interpreter": {
    "hash": "61dcd53c54624714075f66cf77d2f4f7b806bcd73e530a683be31ad82b480a0b"
   }
  }
 },
 "nbformat": 4,
 "nbformat_minor": 2
}
