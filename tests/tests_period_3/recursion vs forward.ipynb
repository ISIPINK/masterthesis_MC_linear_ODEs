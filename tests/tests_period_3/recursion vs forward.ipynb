{
 "cells": [
  {
   "attachments": {},
   "cell_type": "markdown",
   "metadata": {},
   "source": [
    "All the code we have now is implemented with recursion but recursion call are not efficient\n",
    "https://stackoverflow.com/questions/7537989/recursion-vs-for-loops-factorials-java\n",
    "(call stack stuff blablabla calling functions is bad vs loops <br>\n",
    "https://www.geeksforgeeks.org/tail-recursion-in-python-without-introspection/"
   ]
  },
  {
   "attachments": {},
   "cell_type": "markdown",
   "metadata": {},
   "source": [
    "There are various ways to implement RMC. In this notebook we test them in python. <br>\n",
    "In all the code with non branching recursion we have could've first generated a path and then used that in a for loop. Branching recursion is a pain but not impossible.(with a new tree like data structure) This wouldn't be true if we used something like weight windows as in Grid-Free Monte Carlo for PDEs with Spatially Varying Coefficients.<br>\n",
    "\n",
    "An other way for non branching recursion is keeping track of a weight like they do in Solving Inverse PDE Problems using Grid-Free Monte Carlo Estimators. <br>\n",
    "\n",
    "In python there is a special data structure for loops called generators we test the speed difference against an OG stack of a base example of RMC for ODEs (this test in python is not 100% trustable ...):"
   ]
  },
  {
   "cell_type": "code",
   "execution_count": 111,
   "metadata": {},
   "outputs": [
    {
     "name": "stdout",
     "output_type": "stream",
     "text": [
      "gen1:\n",
      "16.3 ms ± 31 µs per loop (mean ± std. dev. of 7 runs, 100 loops each)\n",
      "gen2:\n",
      "16.3 ms ± 75.6 µs per loop (mean ± std. dev. of 7 runs, 100 loops each)\n",
      "deque:\n",
      "17.1 ms ± 25.3 µs per loop (mean ± std. dev. of 7 runs, 100 loops each)\n",
      "forward:\n",
      "8.87 ms ± 33.6 µs per loop (mean ± std. dev. of 7 runs, 100 loops each)\n",
      "recursive:\n",
      "7.52 ms ± 145 µs per loop (mean ± std. dev. of 7 runs, 100 loops each)\n"
     ]
    }
   ],
   "source": [
    "from random import random\n",
    "from collections import deque\n",
    "\n",
    "def path_rec(t):\n",
    "    if random() < t:\n",
    "        yield from path_rec(t*random())\n",
    "    yield t\n",
    "\n",
    "def Y_gen1(t):\n",
    "    y = 0\n",
    "    for s in path_rec(t):\n",
    "        y = 1+y if s < 1 else 1+s*y\n",
    "    return y\n",
    "\n",
    "def Y_gen2(t):\n",
    "    y,p = 0,path_rec(t)\n",
    "    for s in p:\n",
    "        y = 1+y if s < 1 else 1+s*y\n",
    "    return y\n",
    "\n",
    "def path_deq(t):\n",
    "    res = deque([t])\n",
    "    while random()<t:\n",
    "        t *= random()\n",
    "        res.append(t)\n",
    "    return res\n",
    "\n",
    "def Y_deq(t):\n",
    "    y,d = 0,path_deq(t)\n",
    "    while d:\n",
    "        y = 1+y if d[-1]<1 else 1+d[-1]*y\n",
    "        d.pop()\n",
    "    return y\n",
    "        \n",
    "def Y_for(t):\n",
    "    sol,s,w=1,t,1\n",
    "    while random()<s:\n",
    "        sol +=w\n",
    "        s*= random()\n",
    "        w*=1 if s<1 else s\n",
    "    return sol\n",
    "\n",
    "def Y_rec(t):\n",
    "    return (1 + Y_rec(random()*t) if random() < t else 1) if t < 1 else 1 + t * Y_rec(random()*t)\n",
    "\n",
    "def split(fun, t, nsim):\n",
    "    y = 0\n",
    "    for _ in range(nsim):\n",
    "        y += fun(t)/nsim\n",
    "    return y\n",
    "\n",
    "def speedtest():\n",
    "    print(\"gen1:\")\n",
    "    %timeit split(Y_gen1, t=1, nsim=10**4)\n",
    "    print(\"gen2:\")\n",
    "    %timeit split(Y_gen2, t=1, nsim=10**4)\n",
    "    print(\"deque:\")\n",
    "    %timeit split(Y_deq, t=1, nsim=10**4)\n",
    "    print(\"forward:\")\n",
    "    %timeit split(Y_for, t=1, nsim=10**4)\n",
    "    print(\"recursive:\")\n",
    "    %timeit split(Y_rec, t=1, nsim=10**4)\n",
    "\n",
    "speedtest()"
   ]
  },
  {
   "attachments": {},
   "cell_type": "markdown",
   "metadata": {},
   "source": [
    "From the tests it is unclear what is better to use. We like the recursion in generators but this is has a max recursion depth. The weight thing is annoying to implement so the winner to us is building the path with a stack. This is worse then the weight thing because you need to keep whole the path in memory (no instructions) this problem can be alleviated by smart path construction strategies in such a way that there is a structure in the paths that you can exploit lowering memory costs or changing the memory type needed. (not like we care much about real performance as much as demonstrating what is possible)    "
   ]
  },
  {
   "cell_type": "code",
   "execution_count": 1,
   "metadata": {},
   "outputs": [
    {
     "name": "stdout",
     "output_type": "stream",
     "text": [
      "2000\n",
      "0\n"
     ]
    }
   ],
   "source": [
    "def p(n):\n",
    "    yield n\n",
    "    if n>0:\n",
    "        yield from p(n-1) \n",
    "depth = 10**3*2\n",
    "x = p(depth)\n",
    "print(next(x))\n",
    "for _ in range(depth-1):\n",
    "    next(x)\n",
    "print(next(x))"
   ]
  },
  {
   "cell_type": "code",
   "execution_count": 7,
   "metadata": {},
   "outputs": [
    {
     "name": "stdout",
     "output_type": "stream",
     "text": [
      "1000000\n"
     ]
    }
   ],
   "source": [
    "from collections import deque\n",
    "def p_deq(n):\n",
    "    res = deque()\n",
    "    for j in range(n):\n",
    "        res.append(j)\n",
    "    return res\n",
    "\n",
    "depth = 10**5\n",
    "x = p_deq(depth)\n",
    "print(len(x))"
   ]
  },
  {
   "cell_type": "code",
   "execution_count": 64,
   "metadata": {},
   "outputs": [
    {
     "name": "stdout",
     "output_type": "stream",
     "text": [
      "CPU times: total: 0 ns\n",
      "Wall time: 1 ms\n"
     ]
    },
    {
     "data": {
      "text/plain": [
       "70330367711422815821835254877183549770181269836358732742604905087154537118196933579742249494562611733487750449241765991088186363265450223647106012053374121273867339111198139373125598767690091902245245323403501"
      ]
     },
     "execution_count": 64,
     "metadata": {},
     "output_type": "execute_result"
    }
   ],
   "source": [
    "from functools import lru_cache\n",
    "@lru_cache(maxsize=3)\n",
    "def fib(n):\n",
    "    return fib(n - 1) + fib(n - 2) if n>2 else n\n",
    "\n",
    "%time fib(10**3)"
   ]
  }
 ],
 "metadata": {
  "kernelspec": {
   "display_name": "Python 3",
   "language": "python",
   "name": "python3"
  },
  "language_info": {
   "codemirror_mode": {
    "name": "ipython",
    "version": 3
   },
   "file_extension": ".py",
   "mimetype": "text/x-python",
   "name": "python",
   "nbconvert_exporter": "python",
   "pygments_lexer": "ipython3",
   "version": "3.10.10"
  },
  "orig_nbformat": 4,
  "vscode": {
   "interpreter": {
    "hash": "61dcd53c54624714075f66cf77d2f4f7b806bcd73e530a683be31ad82b480a0b"
   }
  }
 },
 "nbformat": 4,
 "nbformat_minor": 2
}
