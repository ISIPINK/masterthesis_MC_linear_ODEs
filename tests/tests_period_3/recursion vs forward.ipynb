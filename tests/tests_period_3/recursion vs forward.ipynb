{
 "cells": [
  {
   "attachments": {},
   "cell_type": "markdown",
   "metadata": {},
   "source": [
    "All the code we have now is implemented with recursion but recursion call are not efficient\n",
    "https://stackoverflow.com/questions/7537989/recursion-vs-for-loops-factorials-java\n",
    "(call stack stuff blablabla calling functions is bad vs loops)"
   ]
  },
  {
   "attachments": {},
   "cell_type": "markdown",
   "metadata": {},
   "source": [
    "In all the code with non branching recursion we have could've first generated a path and then used that in a for loop. Branching recursion is a pain but not impossible.(with a new tree like data structure) <br>\n",
    "\n",
    "In python there is a special data structure for loops called generators we test the speed difference:"
   ]
  }
 ],
 "metadata": {
  "kernelspec": {
   "display_name": "Python 3",
   "language": "python",
   "name": "python3"
  },
  "language_info": {
   "name": "python",
   "version": "3.10.10"
  },
  "orig_nbformat": 4,
  "vscode": {
   "interpreter": {
    "hash": "61dcd53c54624714075f66cf77d2f4f7b806bcd73e530a683be31ad82b480a0b"
   }
  }
 },
 "nbformat": 4,
 "nbformat_minor": 2
}
