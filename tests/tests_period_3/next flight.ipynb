{
 "cells": [
  {
   "attachments": {},
   "cell_type": "markdown",
   "metadata": {},
   "source": [
    "related (and their references): https://jotterbach.github.io/content/posts/mc_ode/2018-08-08-MonteCarloODE/ (biased Monte Carlo solver for ODE with small step sizes)\n",
    "the difference with this is as well outer as inner iteration are unbiased estimators meaning we can use all Monte Carlo techniques on them. <br>\n",
    "\n",
    "https://en.wikipedia.org/wiki/Parareal (ODE technique with parallel capacity over multiple steps)"
   ]
  },
  {
   "attachments": {},
   "cell_type": "markdown",
   "metadata": {},
   "source": [
    "We love induction in induction proofs. Next flight thing in rendering has a recursion in recursion mekanism like one slow recursion and a fast one. You can find a next flight implementation of walk on spheres in Grid-Free Monte Carlo for PDEs with Spatially Varying Coefficients (they talk about short walks in big walks). "
   ]
  },
  {
   "attachments": {},
   "cell_type": "markdown",
   "metadata": {},
   "source": [
    "Lets do an example:\n",
    "$$\n",
    "y'=y, y(0)=1\n",
    "$$\n",
    "We use following equivalent integral equation \n",
    "$$\n",
    "y(t)= y(t-dt) +  \\int_{t-dt}^{t}y(s)ds   \n",
    "$$ \n",
    "we use slow recursion on $y(t-dt)$ and fast on the integral.\n"
   ]
  },
  {
   "cell_type": "code",
   "execution_count": 894,
   "metadata": {},
   "outputs": [
    {
     "name": "stdout",
     "output_type": "stream",
     "text": [
      "10692743807364.467\n",
      "%error= 0.0005866505171726688\n",
      "amount_recursion =81923\n",
      "amount_recursion/sim =819.23\n"
     ]
    }
   ],
   "source": [
    "from random import random\n",
    "from math import exp\n",
    "\n",
    "amount_recursion = 0\n",
    "def y_fast(tfast,tslow,yslow,dt):\n",
    "    dt2 = tfast-tslow\n",
    "    S = tfast +(random()-1)*dt2\n",
    "    global amount_recursion\n",
    "    amount_recursion +=1  \n",
    "    return yslow + dt*y_fast(S,tslow,yslow,dt) if random()<dt2/dt else yslow \n",
    "\n",
    "def y_slow(t,dt):\n",
    "    if t==0:\n",
    "        return 1 \n",
    "    tmp = dt * random()*2 # unnecessary just robustness testing \n",
    "    tslow = t-tmp if t-tmp>0 else 0\n",
    "    return y_fast(t,tslow,y_slow(tslow,dt),tmp)\n",
    "\n",
    "# you can get convergence by either increasing nsim or decreasing dt\n",
    "# the convergence speeds are what you expect\n",
    "nsim = 10**2\n",
    "s = 0\n",
    "t = 30\n",
    "dt = 0.1\n",
    "for _ in range(nsim):\n",
    "    s+= y_slow(t,dt)/nsim\n",
    "\n",
    "sol = exp(t)\n",
    "err = (s-sol)/sol\n",
    "print(s)\n",
    "print(f\"%error= {err}\")\n",
    "print(f\"amount_recursion ={amount_recursion}\")\n",
    "print(f\"amount_recursion/sim ={amount_recursion/nsim}\")"
   ]
  },
  {
   "attachments": {},
   "cell_type": "markdown",
   "metadata": {},
   "source": [
    "If you want to classify last example it would be something like Euler's method a la Monte Carlo. Because slow recursion calls are predictable (intervals) control variating these is easier if you control variate them with for example polynomials you probably get a higher order method in $dt$. "
   ]
  },
  {
   "attachments": {},
   "cell_type": "markdown",
   "metadata": {},
   "source": [
    "And there is no reason to stop at recursion in recursion you can continue with recursion in recursion in recursion in Grid-Free Monte Carlo for PDEs with Spatially Varying Coefficients we could for example use the big recursion for capturing the geometry and the second recursion to reduce step size."
   ]
  }
 ],
 "metadata": {
  "kernelspec": {
   "display_name": "Python 3",
   "language": "python",
   "name": "python3"
  },
  "language_info": {
   "codemirror_mode": {
    "name": "ipython",
    "version": 3
   },
   "file_extension": ".py",
   "mimetype": "text/x-python",
   "name": "python",
   "nbconvert_exporter": "python",
   "pygments_lexer": "ipython3",
   "version": "3.10.10"
  },
  "orig_nbformat": 4,
  "vscode": {
   "interpreter": {
    "hash": "61dcd53c54624714075f66cf77d2f4f7b806bcd73e530a683be31ad82b480a0b"
   }
  }
 },
 "nbformat": 4,
 "nbformat_minor": 2
}
