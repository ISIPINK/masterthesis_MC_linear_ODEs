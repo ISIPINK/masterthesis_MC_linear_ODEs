{
 "cells": [
  {
   "attachments": {},
   "cell_type": "markdown",
   "metadata": {},
   "source": [
    "related (and their references): https://jotterbach.github.io/content/posts/mc_ode/2018-08-08-MonteCarloODE/ (biased Monte Carlo solver for ODE with small step sizes)"
   ]
  },
  {
   "attachments": {},
   "cell_type": "markdown",
   "metadata": {},
   "source": [
    "We love induction in induction proofs. Next flight thing in rendering has a recursion in recursion mekanism like one slow recursion and a fast one. You can find a next flight implementation of walk on spheres in Grid-Free Monte Carlo for PDEs with Spatially Varying Coefficients. "
   ]
  },
  {
   "attachments": {},
   "cell_type": "markdown",
   "metadata": {},
   "source": [
    "Lets do an example:\n",
    "$$\n",
    "y'=y, y(0)=1\n",
    "$$\n",
    "We use following equivalent integral equation \n",
    "$$\n",
    "y(t)= y(t-dt) +  \\int_{t-dt}^{t}y(s)ds   \n",
    "$$ \n",
    "were the slow recursion deals with $y(t-dt)$ and the fast with the integral.\n"
   ]
  },
  {
   "cell_type": "code",
   "execution_count": 370,
   "metadata": {},
   "outputs": [
    {
     "name": "stdout",
     "output_type": "stream",
     "text": [
      "21420.62714892031\n",
      "%error= -0.027505031970641847\n"
     ]
    }
   ],
   "source": [
    "from random import random\n",
    "from math import exp\n",
    "\n",
    "def y_fast(tfast,tslow,yslow):\n",
    "    dt = tfast-tslow\n",
    "    S = tfast +(random()-1)*dt\n",
    "    return yslow + dt*y_fast(S,tslow,yslow)*5/4 if random()>1/5 else yslow \n",
    "\n",
    "def y_slow(t,dt):\n",
    "    if t==0:\n",
    "        return 1 \n",
    "    tslow = t-dt if t-dt>0 else 0\n",
    "    return y_fast(t,tslow,y_slow(tslow,dt))\n",
    "\n",
    "# you can get convergence by either increasing nsim or decreasing dt\n",
    "nsim = 10**4\n",
    "s = 0\n",
    "t = 10\n",
    "dt = 1\n",
    "for _ in range(nsim):\n",
    "    s+= y_slow(t,dt)/nsim\n",
    "\n",
    "sol = exp(t)\n",
    "err = (s-sol)/sol\n",
    "print(s)\n",
    "print(f\"%error= {err}\")"
   ]
  },
  {
   "attachments": {},
   "cell_type": "markdown",
   "metadata": {},
   "source": [
    "If you want to classify last example it would be something like Euler's method a la Monte Carlo. Because slow recursion calls are predictable (intervals) control variating these is easier if you control variate them with for example polynomials you probably get a higher order method in $dt$. "
   ]
  }
 ],
 "metadata": {
  "kernelspec": {
   "display_name": "Python 3",
   "language": "python",
   "name": "python3"
  },
  "language_info": {
   "codemirror_mode": {
    "name": "ipython",
    "version": 3
   },
   "file_extension": ".py",
   "mimetype": "text/x-python",
   "name": "python",
   "nbconvert_exporter": "python",
   "pygments_lexer": "ipython3",
   "version": "3.10.10"
  },
  "orig_nbformat": 4,
  "vscode": {
   "interpreter": {
    "hash": "61dcd53c54624714075f66cf77d2f4f7b806bcd73e530a683be31ad82b480a0b"
   }
  }
 },
 "nbformat": 4,
 "nbformat_minor": 2
}
