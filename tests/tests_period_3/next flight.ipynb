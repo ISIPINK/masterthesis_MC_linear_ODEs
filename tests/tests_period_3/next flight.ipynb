{
 "cells": [
  {
   "attachments": {},
   "cell_type": "markdown",
   "metadata": {},
   "source": [
    "We love recursion in recursion proofs. Next flights has a recursion in recursion mekanism like one slow recursion and a fast one using the slow one. "
   ]
  },
  {
   "cell_type": "code",
   "execution_count": null,
   "metadata": {},
   "outputs": [],
   "source": [
    "from random import random\n",
    "\n",
    "def y_fast(tfast,tslow,yslow):\n",
    "    S = t +(random()-1)*(tfast-tslow)\n",
    "    return yslow + (tfast-tslow)*y_fast(S,yslow)  \n",
    "\n",
    "def y_slow(t):\n",
    "    if t-dt>0:\n",
    "        return y_fast(t-dt,y_slow(t-dt))\n",
    "    else"
   ]
  }
 ],
 "metadata": {
  "kernelspec": {
   "display_name": "Python 3",
   "language": "python",
   "name": "python3"
  },
  "language_info": {
   "name": "python",
   "version": "3.10.10"
  },
  "orig_nbformat": 4,
  "vscode": {
   "interpreter": {
    "hash": "61dcd53c54624714075f66cf77d2f4f7b806bcd73e530a683be31ad82b480a0b"
   }
  }
 },
 "nbformat": 4,
 "nbformat_minor": 2
}
