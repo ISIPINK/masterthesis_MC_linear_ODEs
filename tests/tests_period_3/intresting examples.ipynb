{
 "cells": [
  {
   "attachments": {},
   "cell_type": "markdown",
   "metadata": {},
   "source": [
    "# example 1\n",
    "Bad example of turning a non recursive integral equation into a recursive one  :\n",
    "\n",
    "$$\n",
    "\\begin{align*}\n",
    "e^{t}  &= 1 + \\int_{0}^{t} y(s) ds \\Leftrightarrow\\\\\n",
    "y(t)  &= 1 + \\int_{0}^{t} y(s) ds - e^{t} + y(t) \n",
    "\\end{align*}\n",
    "$$ \n",
    "then use russian roulette  to remove branching"
   ]
  },
  {
   "cell_type": "code",
   "execution_count": 18,
   "metadata": {},
   "outputs": [
    {
     "name": "stdout",
     "output_type": "stream",
     "text": [
      "sol(0.5) is approx = 0.31176704399768457\n",
      "%error = -0.8109037291274268\n"
     ]
    }
   ],
   "source": [
    "from random import random,randint\n",
    "from math import exp\n",
    "\n",
    "def Y(t,q): # t<1\n",
    "    k = randint(1,3)\n",
    "    if k ==1:\n",
    "        return q*(1 - exp(t))+1+t\n",
    "    if 2==k:\n",
    "        return q*(1 - exp(t)) +3*(Y(t,q)-1-t)\n",
    "    return q*(1 - exp(t) +3*t*Y(random()*t,q))\n",
    "    \n",
    "\n",
    "sol = 0\n",
    "nsim = 10**1\n",
    "t = 0.5 # <1\n",
    "\n",
    "for _ in range(nsim):\n",
    "    sol += Y(t,-0.1)/nsim\n",
    "\n",
    "s = exp(t) #analytic solution\n",
    "percentage_error = (sol - s)/s\n",
    "\n",
    "print(f\"sol({t}) is approx = {sol}\")\n",
    "print(f\"%error = {percentage_error}\")"
   ]
  },
  {
   "attachments": {},
   "cell_type": "markdown",
   "metadata": {},
   "source": [
    "# example 2 \n",
    "Alternative approach for ODE example in period 2\n",
    "$$\n",
    "\\begin{aligned}\n",
    "y''&=y  \\Leftarrow \\\\\n",
    "y'(t)&=y'(1)-\\int_{t}^{1} y(s)ds \\Leftarrow\\\\\n",
    "y(t)&=y(0)+t y'(1)-\\int_0^t \\int_s^1 y(l) d l d s \n",
    "\\end{aligned}\n",
    "$$ \n",
    "with $y(0)=1, y'(1) = e$ such that the solution is $y(t) = e^{t}$. The implementation uses Russian Roulette\n"
   ]
  },
  {
   "cell_type": "code",
   "execution_count": 1,
   "metadata": {},
   "outputs": [
    {
     "name": "stdout",
     "output_type": "stream",
     "text": [
      "sol(0.5) is approx = 1.6569113910070954\n",
      "%error = 0.00496755907291065\n"
     ]
    }
   ],
   "source": [
    "from random import random\n",
    "from math import exp\n",
    "\n",
    "def Y(t): # 0<t<1\n",
    "    S = random()*t\n",
    "    L = 1-(1 - S)*random()\n",
    "    return  1 + t*exp(1) - 2* t *(1-S)* Y(L) if random()<1/2 else  1 + t*exp(1)  \n",
    "\n",
    "sol = 0\n",
    "nsim = 10**4\n",
    "t = 0.5 # <1\n",
    "\n",
    "for _ in range(nsim):\n",
    "    sol += Y(t)/nsim\n",
    "\n",
    "s = exp(t) #analytic solution\n",
    "percentage_error = (sol - s)/s\n",
    "\n",
    "print(f\"sol({t}) is approx = {sol}\")\n",
    "print(f\"%error = {percentage_error}\")"
   ]
  },
  {
   "attachments": {},
   "cell_type": "markdown",
   "metadata": {},
   "source": [
    "Same example different boundary:\n",
    "$y(0) = 1, y'(2) = e^{2}$. This example has a big variance because in every recursion there happens a multiplication the size of domain which is bigger then $1$ ... "
   ]
  },
  {
   "cell_type": "code",
   "execution_count": 140,
   "metadata": {},
   "outputs": [
    {
     "name": "stdout",
     "output_type": "stream",
     "text": [
      "sol(0.5) is approx = 96304847867.38666\n",
      "%error = 58411842909.53082\n"
     ]
    }
   ],
   "source": [
    "from random import random,randint\n",
    "from math import exp\n",
    "\n",
    "def Y(t): # 0<t<2\n",
    "    S = random()*t\n",
    "    L = 2-(2 - S)*random()\n",
    "    if t<1:\n",
    "        return  1 + t*exp(2) - (2-S)* Y(L) if random()<t else  1 + t*exp(2)  \n",
    "    return  1 + t*exp(2) - t*(2-S)* Y(L) \n",
    "\n",
    "sol = 0\n",
    "nsim = 10**2\n",
    "t = 0.5 # <2\n",
    "\n",
    "for _ in range(nsim):\n",
    "    sol += Y(t)/nsim\n",
    "\n",
    "s = exp(t) #analytic solution\n",
    "percentage_error = (sol - s)/s\n",
    "\n",
    "print(f\"sol({t}) is approx = {sol}\")\n",
    "print(f\"%error = {percentage_error}\")"
   ]
  }
 ],
 "metadata": {
  "kernelspec": {
   "display_name": "Python 3",
   "language": "python",
   "name": "python3"
  },
  "language_info": {
   "codemirror_mode": {
    "name": "ipython",
    "version": 3
   },
   "file_extension": ".py",
   "mimetype": "text/x-python",
   "name": "python",
   "nbconvert_exporter": "python",
   "pygments_lexer": "ipython3",
   "version": "3.10.10"
  },
  "orig_nbformat": 4,
  "vscode": {
   "interpreter": {
    "hash": "61dcd53c54624714075f66cf77d2f4f7b806bcd73e530a683be31ad82b480a0b"
   }
  }
 },
 "nbformat": 4,
 "nbformat_minor": 2
}
