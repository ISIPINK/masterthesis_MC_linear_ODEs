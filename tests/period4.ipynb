{
 "cells": [
  {
   "attachments": {},
   "cell_type": "markdown",
   "metadata": {},
   "source": [
    "# (some) Related Work"
   ]
  },
  {
   "attachments": {},
   "cell_type": "markdown",
   "metadata": {},
   "source": [
    "# Abstract"
   ]
  },
  {
   "attachments": {},
   "cell_type": "markdown",
   "metadata": {},
   "source": [
    "# Intro to Numba\n",
    "In the next section we will be needing some speed to run some tests. Python isn't known for speed. We will for now use numba to speed up Python because it requires basically the no amount of effort if you already know Python just some details you have know. <br>\n",
    "\n",
    "## What is Numba\n",
    "Go see https://numba.pydata.org/. <br>\n",
    "Numba translates Python functions to optimized machine code at runtime using the industry-standard LLVM compiler library. Numba-compiled numerical algorithms in Python can approach the speeds of C or FORTRAN.\n",
    "\n",
    "You don't need to replace the Python interpreter, run a separate compilation step, or even have a C/C++ compiler installed. Just apply one of the Numba decorators to your Python function, and Numba does the rest. <br>\n",
    "\n",
    "## Installation\n",
    "We installed numba via anaconda (conda install numba). We think you can also install it with pip if you have the correct version of Python.\n",
    "\n",
    "## Example\n",
    "Here is a quick example to get your feet wet:"
   ]
  },
  {
   "cell_type": "code",
   "execution_count": 45,
   "metadata": {},
   "outputs": [],
   "source": [
    "from random import random\n",
    "from numba import njit, prange\n",
    "\n",
    "# normal way:\n",
    "def Y(t): return 1 + (Y(random()*t) if random()<t else 0)\n",
    "def y(t,nsim): return sum(Y(t) for _ in range(nsim))/nsim\n",
    "\n",
    "# numba way:\n",
    "@njit(fastmath=True)\n",
    "def Yn(t): return 1.0 + (Yn(random()*t) if random()<t else 0.0)\n",
    "\n",
    "@njit(fastmath=True, parallel=True)\n",
    "def yn(t, nsim):\n",
    "    total = 0.0 # <- typing becomes important 0 vs 0.0\n",
    "    for _ in prange(nsim):\n",
    "        total += Yn(t)\n",
    "    return total/nsim"
   ]
  },
  {
   "cell_type": "code",
   "execution_count": 49,
   "metadata": {},
   "outputs": [
    {
     "name": "stdout",
     "output_type": "stream",
     "text": [
      "215 ms ± 89.5 ms per loop (mean ± std. dev. of 7 runs, 1 loop each)\n",
      "5.77 ms ± 295 µs per loop (mean ± std. dev. of 7 runs, 100 loops each)\n"
     ]
    }
   ],
   "source": [
    "t,nsim = 1,10**5\n",
    "%timeit y(t,nsim)\n",
    "%timeit yn(t,nsim)"
   ]
  },
  {
   "attachments": {},
   "cell_type": "markdown",
   "metadata": {},
   "source": [
    "In this example numba speeded up the running time 40 times (on our laptop) with minor changes (typing, decorators). "
   ]
  },
  {
   "attachments": {},
   "cell_type": "markdown",
   "metadata": {},
   "source": [
    "## Disadvantages\n",
    "Here are some of the main drawbacks of using Numba:\n",
    "\n",
    "-   Limited support for Python features: Numba supports a limited subset of Python features, which means that not all Python code can be accelerated with Numba.\n",
    "\n",
    "-   Compilation time: Numba needs to compile the code before it can execute it, which can take some time. This overhead can be significant for small computations, making it less efficient than native Python.\n",
    "\n",
    "-   Memory usage: Numba can increase the memory usage of Python programs, which can be a problem for large-scale computations.\n",
    "\n",
    "-   Debugging: Numba can make debugging more difficult, as the compiled code is not as easy to read and understand as native Python code."
   ]
  }
 ],
 "metadata": {
  "kernelspec": {
   "display_name": "base",
   "language": "python",
   "name": "python3"
  },
  "language_info": {
   "codemirror_mode": {
    "name": "ipython",
    "version": 3
   },
   "file_extension": ".py",
   "mimetype": "text/x-python",
   "name": "python",
   "nbconvert_exporter": "python",
   "pygments_lexer": "ipython3",
   "version": "3.9.13"
  },
  "orig_nbformat": 4,
  "vscode": {
   "interpreter": {
    "hash": "2043299c89c8cd0b4d1a6f5cf4529bd58e6a4e0fe3181a25e0d328c821cdc5c5"
   }
  }
 },
 "nbformat": 4,
 "nbformat_minor": 2
}
