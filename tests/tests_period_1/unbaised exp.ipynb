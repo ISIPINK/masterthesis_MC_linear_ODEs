{
 "cells": [
  {
   "attachments": {},
   "cell_type": "markdown",
   "metadata": {},
   "source": [
    "# unbaised exp\n",
    "Lets make a random variable with average\n",
    "\n",
    "$$\n",
    "E[Y(t)]= e^{-\\int_0^t{xdx}}\n",
    "$$\n",
    "\n",
    "based on the MC of the integral and the expansion of exp"
   ]
  },
  {
   "cell_type": "code",
   "execution_count": 2,
   "metadata": {},
   "outputs": [
    {
     "name": "stdout",
     "output_type": "stream",
     "text": [
      "-0.012704235627400863\n"
     ]
    }
   ],
   "source": [
    "from random import random\n",
    "import matplotlib.pyplot as plt\n",
    "from math import sqrt,exp\n",
    "\n",
    "def x(t):\n",
    "    return -t*t*random()\n",
    "\n",
    "def amount():\n",
    "    i = 1\n",
    "    while True:\n",
    "        if random()*i>1:\n",
    "            break\n",
    "        i+=1\n",
    "    return i-1\n",
    "\n",
    "def res(n,estimator):\n",
    "    return 1 + estimator()*res(n-1,estimator) if n != 0 else 1    \n",
    "\n",
    "def expp(estimator):\n",
    "    return res(amount(),estimator)\n",
    "    \n",
    "    \n",
    "nsim = 10**3\n",
    "r = 0\n",
    "end = 1\n",
    "def y():\n",
    "    return x(end)\n",
    "\n",
    "for _ in range(nsim):\n",
    "    r += expp(y)/nsim\n",
    "\n",
    "rexact = exp(-end**2/2)\n",
    "print((r- rexact)/rexact)"
   ]
  },
  {
   "attachments": {},
   "cell_type": "markdown",
   "metadata": {},
   "source": [
    "Ok let's make it complicated:\n",
    "$$\n",
    "\\int_0^1 e^{-\\int_0^t{xdx}} t dt = -e^{-0.5}+1\n",
    "$$"
   ]
  },
  {
   "cell_type": "code",
   "execution_count": 5,
   "metadata": {},
   "outputs": [
    {
     "name": "stdout",
     "output_type": "stream",
     "text": [
      "0.39434907177773704\n",
      "0.0022358323769978055\n"
     ]
    }
   ],
   "source": [
    "def z():\n",
    "    s = random()    \n",
    "    def y():\n",
    "        return x(s)\n",
    "    return s*expp(y)\n",
    "\n",
    "nsim = 10**4\n",
    "r = 0\n",
    "\n",
    "for _ in range(nsim):\n",
    "    r += z()/nsim\n",
    "\n",
    "sol = -exp(-0.5)+1\n",
    "print(r)\n",
    "print((r-sol)/sol)"
   ]
  }
 ],
 "metadata": {
  "kernelspec": {
   "display_name": "Python 3",
   "language": "python",
   "name": "python3"
  },
  "language_info": {
   "codemirror_mode": {
    "name": "ipython",
    "version": 3
   },
   "file_extension": ".py",
   "mimetype": "text/x-python",
   "name": "python",
   "nbconvert_exporter": "python",
   "pygments_lexer": "ipython3",
   "version": "3.10.8 (tags/v3.10.8:aaaf517, Oct 11 2022, 16:50:30) [MSC v.1933 64 bit (AMD64)]"
  },
  "orig_nbformat": 4,
  "vscode": {
   "interpreter": {
    "hash": "61dcd53c54624714075f66cf77d2f4f7b806bcd73e530a683be31ad82b480a0b"
   }
  }
 },
 "nbformat": 4,
 "nbformat_minor": 2
}
