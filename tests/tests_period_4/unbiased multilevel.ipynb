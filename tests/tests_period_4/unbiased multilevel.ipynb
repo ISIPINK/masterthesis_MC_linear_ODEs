{
 "cells": [
  {
   "attachments": {},
   "cell_type": "markdown",
   "metadata": {},
   "source": [
    "We actually already did a form of unbiased multilevel when making an unbiased estimator of \n",
    "$\n",
    "E[e^{X}]\n",
    "$ \n",
    "the idea behind unbiased multilevel is to cut off with russian roulette so we obtain something that can be simulated. In OG multilevel they also do optimal splitting given the bias and variance of each level. \n",
    "\n"
   ]
  }
 ],
 "metadata": {
  "kernelspec": {
   "display_name": "Python 3",
   "language": "python",
   "name": "python3"
  },
  "language_info": {
   "name": "python",
   "version": "3.10.10"
  },
  "orig_nbformat": 4,
  "vscode": {
   "interpreter": {
    "hash": "61dcd53c54624714075f66cf77d2f4f7b806bcd73e530a683be31ad82b480a0b"
   }
  }
 },
 "nbformat": 4,
 "nbformat_minor": 2
}
