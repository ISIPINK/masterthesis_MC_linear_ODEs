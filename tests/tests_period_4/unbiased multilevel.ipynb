{
 "cells": [
  {
   "attachments": {},
   "cell_type": "markdown",
   "metadata": {},
   "source": [
    "We actually already did a form of unbiased multilevel when making an unbiased estimator of \n",
    "$\n",
    "E[e^{X}]\n",
    "$ \n",
    "\n"
   ]
  }
 ],
 "metadata": {
  "language_info": {
   "name": "python"
  },
  "orig_nbformat": 4
 },
 "nbformat": 4,
 "nbformat_minor": 2
}
