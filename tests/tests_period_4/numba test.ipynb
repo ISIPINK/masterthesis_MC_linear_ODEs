{
 "cells": [
  {
   "attachments": {},
   "cell_type": "markdown",
   "metadata": {},
   "source": [
    "We use numba to accelarate one of our examples :"
   ]
  },
  {
   "cell_type": "code",
   "execution_count": 145,
   "metadata": {},
   "outputs": [],
   "source": [
    "from random import random\n",
    "def Y(t): return 1 + (Y(random()*t) if random()<t else 0)\n",
    "def y(t,nsim): return sum(Y(t) for _ in range(nsim))/nsim"
   ]
  },
  {
   "cell_type": "code",
   "execution_count": 156,
   "metadata": {},
   "outputs": [
    {
     "name": "stdout",
     "output_type": "stream",
     "text": [
      "2.7182043\n"
     ]
    }
   ],
   "source": [
    "print(y(1,10**7))"
   ]
  },
  {
   "cell_type": "code",
   "execution_count": 128,
   "metadata": {},
   "outputs": [],
   "source": [
    "from numba import njit, prange\n",
    "from random import random \n",
    "\n",
    "@njit(fastmath=True)\n",
    "def Yf(t): \n",
    "    sol = 1\n",
    "    while random()<t:\n",
    "        sol +=1\n",
    "        t*= random()\n",
    "    return sol\n",
    "\n",
    "@njit(fastmath=True, parallel=True)\n",
    "def yf(t, nsim):\n",
    "    total = 0.0\n",
    "    for _ in prange(nsim):\n",
    "        total += Yf(t)\n",
    "    return total/nsim"
   ]
  },
  {
   "cell_type": "code",
   "execution_count": 158,
   "metadata": {},
   "outputs": [
    {
     "name": "stdout",
     "output_type": "stream",
     "text": [
      "2.7182949\n"
     ]
    }
   ],
   "source": [
    "print(yf(1, 10**7))"
   ]
  }
 ],
 "metadata": {
  "kernelspec": {
   "display_name": "base",
   "language": "python",
   "name": "python3"
  },
  "language_info": {
   "codemirror_mode": {
    "name": "ipython",
    "version": 3
   },
   "file_extension": ".py",
   "mimetype": "text/x-python",
   "name": "python",
   "nbconvert_exporter": "python",
   "pygments_lexer": "ipython3",
   "version": "3.10.9"
  },
  "orig_nbformat": 4,
  "vscode": {
   "interpreter": {
    "hash": "bd97b8bffa4d3737e84826bc3d37be3046061822757ce35137ab82ad4c5a2016"
   }
  }
 },
 "nbformat": 4,
 "nbformat_minor": 2
}
