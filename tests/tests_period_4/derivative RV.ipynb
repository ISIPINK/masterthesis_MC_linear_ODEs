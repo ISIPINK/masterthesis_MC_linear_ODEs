{
 "cells": [
  {
   "attachments": {},
   "cell_type": "markdown",
   "metadata": {},
   "source": [
    "Lets calculate:\n",
    "$$\n",
    "\\begin{align*}\n",
    "    \n",
    "\\partial_{t}(E[ 5U^{2}(0,T)-T^{2}])&=\\partial_{t}(E[ 5(U(0,1)T)^{2}-T^{2}]) \\\\\n",
    "&=E[ \\partial_{t}(5(U(0,1)T)^{2}-T^{2})] \\\\\n",
    "&=E[ 10(U(0,1)T)^{2}/T-2T]\\\\\n",
    "&=E[ 10U^{2}(0,T)/T-2T].\n",
    "\n",
    "\\end{align*}\n",
    "$$ \n"
   ]
  },
  {
   "cell_type": "code",
   "execution_count": 7,
   "metadata": {},
   "outputs": [
    {
     "name": "stdout",
     "output_type": "stream",
     "text": [
      "1.3265042696078901\n",
      "1.5658517940157437\n"
     ]
    }
   ],
   "source": [
    "from random import random\n",
    "\n",
    "def X(T): return 5*random()**2*T**2 -T**2 \n",
    "def dX(T): return 10*random()**2*T -2*T \n",
    "\n",
    "nsim = 10**5\n",
    "T=1\n",
    "dT = 0.05\n",
    "dx = sum(dX(T) for _ in range(nsim))/nsim\n",
    "dxx = sum((X(T+dT) - X(T))/dT for _ in range(nsim))/nsim\n",
    "\n",
    "\n",
    "print(dx)\n",
    "print(dxx)"
   ]
  },
  {
   "attachments": {},
   "cell_type": "markdown",
   "metadata": {},
   "source": [
    "Lets now look at:\n",
    "$$\n",
    "\\partial_{t} E[U^{t}(0,1)].\n",
    "$$ \n"
   ]
  },
  {
   "cell_type": "code",
   "execution_count": 11,
   "metadata": {},
   "outputs": [
    {
     "name": "stdout",
     "output_type": "stream",
     "text": [
      "-0.25039363417337124\n",
      "-0.24476202748682982\n"
     ]
    }
   ],
   "source": [
    "from random import random\n",
    "from math import pow,log\n",
    "\n",
    "def Z(t): return pow(random(),t)\n",
    "\n",
    "def dZ(t): \n",
    "    u = random()\n",
    "    return log(u)*pow(u,t)\n",
    "\n",
    "nsim = 10**5\n",
    "t=1\n",
    "dt = 0.05\n",
    "dz = sum(dZ(t) for _ in range(nsim))/nsim\n",
    "dzz = sum((Z(t+dt) - Z(t))/dt for _ in range(nsim))/nsim\n",
    "\n",
    "print(dz)\n",
    "print(dzz)"
   ]
  },
  {
   "attachments": {},
   "cell_type": "markdown",
   "metadata": {},
   "source": [
    "Lets now look at something more discrete:\n",
    "\n",
    "$$\n",
    "\\begin{align*}\n",
    "X(p)&= 2 \\bold{1}_{\\{U(0,1)<p\\}} -1 \\\\\n",
    "\\partial_{p}X(p)&= 2 \\delta(U(0,1)-p)\n",
    "\\end{align*}\n",
    "$$\n",
    "\n",
    "If you calculate the expectances it works out ...\n"
   ]
  },
  {
   "attachments": {},
   "cell_type": "markdown",
   "metadata": {},
   "source": [
    "Lets do a RMC example:\n",
    "$$\n",
    "\\begin{align*}\n",
    "Y(t)&= 1 + t Y(Ut) \\\\\n",
    "\\partial_{t}Y(t)&= t U \\partial_{t}Y(Ut) + Y(Ut)\n",
    "\\end{align*}\n",
    "$$ \n",
    "\n",
    "we implement this with russian roulette:"
   ]
  },
  {
   "cell_type": "code",
   "execution_count": 181,
   "metadata": {},
   "outputs": [
    {
     "name": "stdout",
     "output_type": "stream",
     "text": [
      "[1.65069 1.65746]\n"
     ]
    }
   ],
   "source": [
    "from random import random\n",
    "import numpy as np\n",
    "\n",
    "def X(t):\n",
    "    if random()>t: return np.array((1,0))\n",
    "    U = random()\n",
    "    ys,dys = X(U*t)\n",
    "    yt = 1 + ys\n",
    "    dyt = ys/t + U*dys\n",
    "    return np.array((yt,dyt))\n",
    "\n",
    "nsim = 10**5\n",
    "sol = sum( X(0.5) for _ in range(nsim))/nsim\n",
    "print(sol)"
   ]
  },
  {
   "attachments": {},
   "cell_type": "markdown",
   "metadata": {},
   "source": [
    "Another RMC example:\n",
    "$$\n",
    "\\begin{align*}\n",
    "Y(t,a)&= 1 + ta Y(Ut,a) \\\\\n",
    "\\partial_{a}Y(t,a)&= t (Y(Ut,a) + a \\partial_{a}Y(Ut,a) )\n",
    "\\end{align*}\n",
    "$$ \n",
    "\n",
    "Remember that $E(t,a) = e^{ta}$. Lets implement this:"
   ]
  },
  {
   "cell_type": "code",
   "execution_count": 46,
   "metadata": {},
   "outputs": [
    {
     "name": "stdout",
     "output_type": "stream",
     "text": [
      "X2 = [11.37528334 14.34584559] %error is [0.03194242 0.08452146]\n"
     ]
    }
   ],
   "source": [
    "from random import random\n",
    "from math import exp\n",
    "import numpy as np\n",
    "\n",
    "def X2(t,a):\n",
    "    if random()>t: return np.array((1,0)) \n",
    "    U = random()\n",
    "    ys,days = X2(U*t,a) \n",
    "    yt = 1 + a*ys*(1 if t<1 else t)\n",
    "    dayt = (ys + a*days)*(1 if t<1 else t)\n",
    "    return np.array((yt,dayt))\n",
    "\n",
    "def test():\n",
    "    t, a, nsim = 1.2, 2, 10**3 \n",
    "    s = sum(X2(t, a) for _ in range(nsim))/nsim\n",
    "    sol = np.array([exp(t*a), t*exp(t*a)])\n",
    "    err = (s-sol)/sol\n",
    "    print(f\"X2 = {s}\", f\"%error is {err}\")\n",
    "\n",
    "test()"
   ]
  },
  {
   "attachments": {},
   "cell_type": "markdown",
   "metadata": {},
   "source": [
    "Actually this was the same expression we got by differentiating the integral equation."
   ]
  }
 ],
 "metadata": {
  "kernelspec": {
   "display_name": "Python 3",
   "language": "python",
   "name": "python3"
  },
  "language_info": {
   "codemirror_mode": {
    "name": "ipython",
    "version": 3
   },
   "file_extension": ".py",
   "mimetype": "text/x-python",
   "name": "python",
   "nbconvert_exporter": "python",
   "pygments_lexer": "ipython3",
   "version": "3.11.2"
  },
  "orig_nbformat": 4,
  "vscode": {
   "interpreter": {
    "hash": "72b2382ece9768098284d92bbc69d35954e75b60d1e25897d1389c232f4796f0"
   }
  }
 },
 "nbformat": 4,
 "nbformat_minor": 2
}
