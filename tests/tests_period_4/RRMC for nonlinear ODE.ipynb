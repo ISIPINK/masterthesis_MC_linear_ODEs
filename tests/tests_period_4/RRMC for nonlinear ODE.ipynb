{
 "cells": [
  {
   "attachments": {},
   "cell_type": "markdown",
   "metadata": {},
   "source": [
    "Let's look at our previous example of a nonlinear ODE:\n",
    "$$\n",
    "y'= y^2\n",
    "$$\n",
    "with $y(1)=-1$ with solution $y(t)=-\\frac{1}{t}$. This is equivalent to following integral equation:\n",
    "$$\n",
    "y(t)= y(T) + \\int_{T}^{t} y^{2}(s) ds\n",
    ".\n",
    "$$ \n",
    "\n",
    "To implement this we do slow recursion on $y(T)$ and fast recursion on the integral."
   ]
  },
  {
   "cell_type": "code",
   "execution_count": 81,
   "metadata": {},
   "outputs": [
    {
     "name": "stdout",
     "output_type": "stream",
     "text": [
      "4.4967499265233246e-05\n"
     ]
    }
   ],
   "source": [
    "from random import random\n",
    "\n",
    "def Y_fast(t,T,yT,DT):\n",
    "    S = T + random()*(t-T)  # \\sim Uniform(T,t)\n",
    "    return yT + DT*Y_fast(S, T, yT, DT)*Y_fast(S, T, yT, DT) if random() < (t-T)/DT else yT\n",
    "    \n",
    "def Y_slow(T, DT: \"step size slow recursion\"):\n",
    "    TT = T-DT if T-DT > 1 else 1  # TT is where we are recursing to\n",
    "    return Y_fast(T, TT, Y_slow(TT, DT), DT) if T > 1 else -1\n",
    "\n",
    "def test(T,DT,nsim=10**2):\n",
    "    s= sum(Y_slow(T,DT) for _ in range(nsim))/nsim\n",
    "    print((s+(1/T))*T)\n",
    "        \n",
    "test(15,0.1,10**2)"
   ]
  }
 ],
 "metadata": {
  "kernelspec": {
   "display_name": "Python 3",
   "language": "python",
   "name": "python3"
  },
  "language_info": {
   "codemirror_mode": {
    "name": "ipython",
    "version": 3
   },
   "file_extension": ".py",
   "mimetype": "text/x-python",
   "name": "python",
   "nbconvert_exporter": "python",
   "pygments_lexer": "ipython3",
   "version": "3.10.10"
  },
  "orig_nbformat": 4,
  "vscode": {
   "interpreter": {
    "hash": "61dcd53c54624714075f66cf77d2f4f7b806bcd73e530a683be31ad82b480a0b"
   }
  }
 },
 "nbformat": 4,
 "nbformat_minor": 2
}
