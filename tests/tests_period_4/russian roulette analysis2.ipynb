{
 "cells": [
  {
   "cell_type": "code",
   "execution_count": null,
   "metadata": {},
   "outputs": [],
   "source": [
    "from random import random\n",
    "def approx_sol(t):\n",
    "    return 1+1*1*t    \n",
    "\n",
    "def Y(t):\n",
    "    k = 1-t if t<1 else 0\n",
    "    return (1+t*Y(random()*t)-k*approx_sol(t))/(1-k) if random()<1-k else approx_sol(t)\n",
    "\n",
    "def Y1(t):\n",
    "    k = 1-t if t<1 else 0\n",
    "    return (1+t*Y1(random()*t)-k*(1+t+t**2/2))/(1-k) if random()<1-k else 1+t+t**2/2"
   ]
  }
 ],
 "metadata": {
  "kernelspec": {
   "display_name": "Python 3",
   "language": "python",
   "name": "python3"
  },
  "language_info": {
   "name": "python",
   "version": "3.11.2"
  },
  "orig_nbformat": 4,
  "vscode": {
   "interpreter": {
    "hash": "72b2382ece9768098284d92bbc69d35954e75b60d1e25897d1389c232f4796f0"
   }
  }
 },
 "nbformat": 4,
 "nbformat_minor": 2
}
