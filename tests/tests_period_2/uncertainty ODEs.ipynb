{
 "cells": [
  {
   "attachments": {},
   "cell_type": "markdown",
   "metadata": {},
   "source": [
    "Let say we want to say something about following problem:\n",
    "\n",
    "$$\n",
    "y' = Ay, y(0) \\sim N(0, \\sigma) , A \\sim N(0,\\sigma)\n",
    "$$\n",
    "\n",
    "The solution of this problem is a family of random variables $Y(t)$ the general way to obtain this numerically is sampling $y(0),A$ and solving a differential equation. In general there is no way around that $Y(t)$ just contains to much information in some cases you can use some tricks to make the problem possible and even analytically possible. <br>\n",
    "\n",
    "But instead wanting to know the general solution we find it easier to make a Monte Carlo techniques that calculate things of the following form $E[f(Y(t))]$ where $f$ analytic. Great examples are $E[Y(t)]$ and $E[Y^{2}(t)]$ which contain some information about $Y(t)$. <br>\n",
    "\n",
    "How is actually very simple:\n",
    "$$\n",
    "\\begin{align*}\n",
    "E[f(Y(t))] &= E[f(Y(t)) \\mid y(0), A] \\\\    \n",
    "           &= E[f(y(t,y(0),A))] \\\\    \n",
    "            &= E[f(E[U(t,y(0),A)])] \\\\\n",
    "\\end{align*}\n",
    "$$\n",
    "$y(t,y(0),A)$ is the solution of the ODE given $y(0)$ and $A$ and $U$ an unbiased estimator of it.\n",
    "We already explained how to deal with $f$, see period1 analytic functions. <br> \n",
    "\n",
    "Ofcourse if $f$ isn't nice you can settle for approximations with analytical functions."
   ]
  }
 ],
 "metadata": {
  "language_info": {
   "name": "python"
  },
  "orig_nbformat": 4
 },
 "nbformat": 4,
 "nbformat_minor": 2
}
