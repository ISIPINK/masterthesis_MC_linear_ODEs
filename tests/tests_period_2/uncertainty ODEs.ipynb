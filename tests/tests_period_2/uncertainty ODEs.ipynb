{
 "cells": [
  {
   "attachments": {},
   "cell_type": "markdown",
   "metadata": {},
   "source": [
    "Let say we want to say something about following problem:\n",
    "\n",
    "$$\n",
    "y' = Ay, y(0)=1 , A = \\text{Uniform}(0,1) \n",
    "$$\n",
    "\n",
    "The solution of this problem is a family of random variables $y(t)$ the brain dead way to obtain this numerically is sampling $A$ and solving a differential equation. In general there is no way around that $y(t)$ just contains to much information in some cases you can use some tricks to make the problem possible and even analytically possible. <br>\n",
    "\n",
    "But instead wanting to know the general solution we find it easier to make a Monte Carlo techniques that calculate things of the following form $E[f(y(t))]$ where $f$ analytic. Great examples are $E[y(t)]$ and $E[y^{2}(t)]$ which contain some information about $y(t)$. <br>\n",
    "\n",
    "How is actually very simple:\n",
    "$$\n",
    "\\begin{align*}\n",
    "E[f(y(t))] &= E[E[f(y(t)) \\mid  A]] \\\\    \n",
    "           &= E[E[f(y(t,A))]] \\\\    \n",
    "            &= E[E[f(E[Y(t,A)])]] \\\\\n",
    "\\end{align*}\n",
    "$$\n",
    "$y(t,A)$ is the solution of the ODE given $A$ and $Y$ an unbiased estimator of it.\n",
    "We already explained how to deal with $f$, see period1 analytic functions. <br> \n",
    "\n",
    "Ofcourse if $f$ isn't nice you can settle for approximations with analytical functions. So in principle it possible the calculate the characteristic function for $y(t)$.(https://en.wikipedia.org/wiki/Characteristic_function). <br>\n",
    "\n",
    "Let's implement this into a code example the analytic solution can easily be calculated:\n",
    "\n",
    "$$\n",
    "\\begin{align*}\n",
    "E[y(t)] &=  \\frac{e^{t}}{t} - \\frac{1}{t} \\\\ \n",
    "E[y^{2}(t)] &=  \\frac{e^{2t}}{2t} - \\frac{1}{2t}  \n",
    "\\end{align*}\n",
    "$$"
   ]
  },
  {
   "cell_type": "code",
   "execution_count": 152,
   "metadata": {},
   "outputs": [
    {
     "name": "stdout",
     "output_type": "stream",
     "text": [
      "sol(3) is approx = 6.231020735713968\n",
      "%error = -0.020563986102425803\n",
      "sol2(3) is approx = 62.61344686180105\n",
      "%error2 = -0.06646669610734911\n",
      "standard deviation of y(3) is approx (biased) 4.877276643056411\n"
     ]
    }
   ],
   "source": [
    "from random import random\n",
    "from math import exp,sqrt\n",
    "\n",
    "def Ya(t,a):\n",
    "    return (1+a*Ya(random()*t,a) if random()<t else 1) if t<1 else 1+t*a*Ya(random()*t,a)\n",
    "\n",
    "# estimator for y(t)\n",
    "def Y(t):\n",
    "    return Ya(t,random())\n",
    "    \n",
    "# estimator for y(t)**2\n",
    "def Y2(t):\n",
    "    A = random()\n",
    "    return Ya(t,A)*Ya(t,A) \n",
    "\n",
    "sol = 0\n",
    "sol2 = 0\n",
    "nsim = 10**4\n",
    "t = 3 # 0<t\n",
    "\n",
    "for _ in range(nsim):\n",
    "    sol += Y(t)/nsim\n",
    "    sol2 += Y2(t)/nsim\n",
    "\n",
    "s =  exp(t)/t -1/t #analytic solution\n",
    "percentage_error = (sol - s)/s\n",
    "\n",
    "s2 =  exp(2*t)/(2*t) -1/(2*t) #analytic solution\n",
    "percentage_error2 = (sol2 - s2)/s2\n",
    "\n",
    "print(f\"sol({t}) is approx = {sol}\")\n",
    "print(f\"%error = {percentage_error}\")\n",
    "\n",
    "print(f\"sol2({t}) is approx = {sol2}\")\n",
    "print(f\"%error2 = {percentage_error2}\")\n",
    "\n",
    "sd = sqrt(sol2-sol**2)\n",
    "print(f\"standard deviation of y(3) is approx (biased) {sd}\")"
   ]
  }
 ],
 "metadata": {
  "kernelspec": {
   "display_name": "Python 3",
   "language": "python",
   "name": "python3"
  },
  "language_info": {
   "codemirror_mode": {
    "name": "ipython",
    "version": 3
   },
   "file_extension": ".py",
   "mimetype": "text/x-python",
   "name": "python",
   "nbconvert_exporter": "python",
   "pygments_lexer": "ipython3",
   "version": "3.10.8"
  },
  "orig_nbformat": 4,
  "vscode": {
   "interpreter": {
    "hash": "61dcd53c54624714075f66cf77d2f4f7b806bcd73e530a683be31ad82b480a0b"
   }
  }
 },
 "nbformat": 4,
 "nbformat_minor": 2
}
