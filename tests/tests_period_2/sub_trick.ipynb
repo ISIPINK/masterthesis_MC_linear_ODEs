{
 "cells": [
  {
   "attachments": {},
   "cell_type": "markdown",
   "metadata": {},
   "source": [
    "sub trick is an acceleration technique which uses approximation of the solutions in recursive Monte Carlo schemes this modification is similar to Russian Roulette."
   ]
  },
  {
   "attachments": {},
   "cell_type": "markdown",
   "metadata": {},
   "source": [
    "In the following code we test this on simple  $y'=y, y(0)=1$ russian roulette base example."
   ]
  },
  {
   "cell_type": "code",
   "execution_count": 338,
   "metadata": {},
   "outputs": [
    {
     "name": "stdout",
     "output_type": "stream",
     "text": [
      "exp(3) is approx = 17.99299001637605\n",
      "%error = -0.10418177591239217\n"
     ]
    }
   ],
   "source": [
    "from random import random\n",
    "from math import exp\n",
    "\n",
    "def approx_sol(t):\n",
    "    return 1+t+t**2/2    \n",
    "\n",
    "def Y(t):\n",
    "    k = 1-t if t<1 else 0\n",
    "    return (1+t*Y(random()*t)-k*approx_sol(t))/(1-k) if random()<1-k else approx_sol(t)\n",
    "\n",
    "sol = 0\n",
    "nsim = 10**3\n",
    "t = 3\n",
    "\n",
    "for _ in range(nsim):\n",
    "    sol += Y(t)/nsim\n",
    "\n",
    "percentage_error = (sol - exp(t))/exp(t)\n",
    "\n",
    "print(f\"exp({t}) is approx = {sol}\")\n",
    "print(f\"%error = {percentage_error}\")"
   ]
  }
 ],
 "metadata": {
  "kernelspec": {
   "display_name": "Python 3",
   "language": "python",
   "name": "python3"
  },
  "language_info": {
   "codemirror_mode": {
    "name": "ipython",
    "version": 3
   },
   "file_extension": ".py",
   "mimetype": "text/x-python",
   "name": "python",
   "nbconvert_exporter": "python",
   "pygments_lexer": "ipython3",
   "version": "3.10.8"
  },
  "orig_nbformat": 4,
  "vscode": {
   "interpreter": {
    "hash": "61dcd53c54624714075f66cf77d2f4f7b806bcd73e530a683be31ad82b480a0b"
   }
  }
 },
 "nbformat": 4,
 "nbformat_minor": 2
}
