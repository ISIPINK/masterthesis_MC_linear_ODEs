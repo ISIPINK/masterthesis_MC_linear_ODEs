{
 "cells": [
  {
   "attachments": {},
   "cell_type": "markdown",
   "metadata": {},
   "source": [
    "Example with recursion on the derivative\n",
    "$$\n",
    "y'= y+1, y(0)=1\n",
    "$$\n",
    "So again assume that we have a random variable $Y(t)$ such that $E[Y(t)]=y(t)$ this random variable with the given ODE can be used to find a random variable $DY(t)$ such that $E[DY(t)= y'(t)]$ in this case $DY(t) = Y(t) + 1$. <br>\n",
    "\n",
    "Let's use this to make a recursive Monte Carlo scheme that also recurses on the derivative:\n",
    "$$\n",
    "\\begin{align*}\n",
    "y'      &= \\frac{1}{2}y + \\frac{1}{2}y' + \\frac{1}{2} \\Leftrightarrow \\\\\n",
    "y (t)   &=  y(0) + \\int_{0}^{t} \\frac{1}{2}y(s) + \\frac{1}{2}y'(s) + \\frac{1}{2} ds\\\\\n",
    "        &=  1 + t E \\left[\\frac{1}{2}y(U) + \\frac{1}{2}y'(U) + \\frac{1}{2} \\right] \\\\\n",
    "        &=  E \\left[1 +  \\frac{t}{2}Y(U) + \\frac{t}{2}DY(U) + \\frac{t}{2} \\right] \\\\\n",
    "\\end{align*}\n",
    "$$\n",
    "This give following recursion relation for random variables:\n",
    "$$\n",
    "\\begin{align*}\n",
    "DY(t) &= Y(t) + 1 \\\\     \n",
    "Y(t) &= 1+0.5tY(U) + 0.5tDY(U) + 0.5 t        \n",
    "\\end{align*}\n",
    "$$\n",
    "with $U = \\text{Uniform}(0,t)$. We modified this with Russian Roulette in the implementation to make it non branching."
   ]
  },
  {
   "cell_type": "code",
   "execution_count": 17,
   "metadata": {},
   "outputs": [
    {
     "name": "stdout",
     "output_type": "stream",
     "text": [
      "sol(0.5) is approx = 2.2828180657916235\n",
      "%error = -0.006365545751459575\n"
     ]
    }
   ],
   "source": [
    "from random import random\n",
    "from math import exp\n",
    "\n",
    "#let t<1\n",
    "def Y(t):\n",
    "    if random()>t:\n",
    "        return 1+0.5*t \n",
    "    s = random()*t\n",
    "    return 1+ Y(s)  + 0.5*t if random()<0.5 else 1 + DY(s) + 0.5*t\n",
    "\n",
    "def DY(t):\n",
    "    return Y(t)+1\n",
    "    \n",
    "sol = 0\n",
    "nsim = 10**3\n",
    "t = 0.5 # <1\n",
    "\n",
    "for _ in range(nsim):\n",
    "    sol += Y(t)/nsim\n",
    "\n",
    "s = 2*exp(t)-1 #analytic solution\n",
    "percentage_error = (sol - s)/s\n",
    "\n",
    "print(f\"sol({t}) is approx = {sol}\")\n",
    "print(f\"%error = {percentage_error}\")\n"
   ]
  }
 ],
 "metadata": {
  "kernelspec": {
   "display_name": "Python 3",
   "language": "python",
   "name": "python3"
  },
  "language_info": {
   "codemirror_mode": {
    "name": "ipython",
    "version": 3
   },
   "file_extension": ".py",
   "mimetype": "text/x-python",
   "name": "python",
   "nbconvert_exporter": "python",
   "pygments_lexer": "ipython3",
   "version": "3.10.8"
  },
  "orig_nbformat": 4,
  "vscode": {
   "interpreter": {
    "hash": "61dcd53c54624714075f66cf77d2f4f7b806bcd73e530a683be31ad82b480a0b"
   }
  }
 },
 "nbformat": 4,
 "nbformat_minor": 2
}
