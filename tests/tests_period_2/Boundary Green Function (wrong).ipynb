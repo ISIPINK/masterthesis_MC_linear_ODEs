{
 "cells": [
  {
   "attachments": {},
   "cell_type": "markdown",
   "metadata": {},
   "source": [
    "We know how to do Boundary functions and here is a failed attempt to formalizing it, hopefully we don't need it in the future ..."
   ]
  },
  {
   "attachments": {},
   "cell_type": "markdown",
   "metadata": {},
   "source": [
    "The previous deals with the source term in the split of period1. Let's try to deal with the boundary term in a similar way. Make $\\Omega$ the boundary and choose $K(t,x)$ such that the initial/boundary conditions hold. \n",
    "\n",
    "$$\n",
    "y(t)= \\int_{\\partial B} \\varphi(x) K(t,x) dx\n",
    "$$\n",
    "\n",
    "Trying to enforce the same property as last time doesn't work\n",
    "$$\n",
    "\\begin{align*}\n",
    "    \n",
    "L(y(t)) &=\\int_{\\partial B} \\varphi(x) L(K(t,x)) dx = 0 \\Leftrightarrow \\\\\n",
    "L(y(t)) &=\\int_{\\partial B} \\varphi(x) \\delta(t-x) dx =0 \\Leftrightarrow \\\\\n",
    "\\varphi(t)&= 0  \\Rightarrow \\\\\n",
    "y(t) &= 0\n",
    "\\end{align*}\n",
    "$$\n",
    "This only works if you have zero initial/boundary conditions ... otherwise you can't chose $K(t,x)$ such that the boundary conditions hold. You need to do something more to make this work:\n",
    "\n",
    "For a dirichlet boundary condition in $s$ the following can be done:\n",
    "$$\n",
    "\\begin{align*}\n",
    "    L(y) &= 0 \\Leftrightarrow \\\\\n",
    "    L(y)+y &= y \\Leftrightarrow \\\\\n",
    "    \\tilde{L}(y) &= y \n",
    "\\end{align*}\n",
    "$$\n",
    "The reason why we put a $y$ on the right side is because we know it on the boundary and later it changes $\\varphi$.\n",
    "\n",
    "$$\n",
    "\\begin{align*}\n",
    "    \\tilde{L}(y(t)) &= \\int_{\\partial B} \\varphi(x) \\tilde{L}(K(t,x)) dx =y(t) \\Leftrightarrow \\\\ \n",
    "    \\tilde{L}(y(t)) &= \\int_{\\partial B} \\varphi(x)  \\delta(t-x)dx =y(t) \\Leftrightarrow \\\\ \n",
    "    \\varphi(s) &= y(s), s \\in \\partial B\n",
    "\\end{align*}\n",
    "$$\n",
    "Doing this also simplify choosing a boundary condition for $K(t,x)$:\n",
    "\n",
    "$$\n",
    "\\begin{align*}\n",
    "y(s) &= \\int_{\\partial B} y(x) K(s,x) dx \\Leftarrow \\\\\n",
    "K(s,x) &= \\delta(s-x), s \\in \\partial B\n",
    "\\end{align*}\n",
    "$$\n",
    "Dealing with different initial/boundary conditions is similar. In the case of mixed initial/boundary conditions then $\\tilde{L}$ has a mixed definition."
   ]
  },
  {
   "cell_type": "code",
   "execution_count": null,
   "metadata": {},
   "outputs": [],
   "source": []
  }
 ],
 "metadata": {
  "kernelspec": {
   "display_name": "Python 3",
   "language": "python",
   "name": "python3"
  },
  "language_info": {
   "name": "python",
   "version": "3.10.8 (tags/v3.10.8:aaaf517, Oct 11 2022, 16:50:30) [MSC v.1933 64 bit (AMD64)]"
  },
  "orig_nbformat": 4,
  "vscode": {
   "interpreter": {
    "hash": "61dcd53c54624714075f66cf77d2f4f7b806bcd73e530a683be31ad82b480a0b"
   }
  }
 },
 "nbformat": 4,
 "nbformat_minor": 2
}
