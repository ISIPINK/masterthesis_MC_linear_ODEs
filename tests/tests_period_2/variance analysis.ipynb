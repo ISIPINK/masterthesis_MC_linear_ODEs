{
 "cells": [
  {
   "attachments": {},
   "cell_type": "markdown",
   "metadata": {},
   "source": [
    "check out TECHNIQUES FOR EFFICIENT MONTE CARLO SIMULATION and The Monte Carlo Method for Solving Large Systems of Linear Ordinary Differential Equations (they have the ODE result for the variance) in my bibliography"
   ]
  },
  {
   "attachments": {},
   "cell_type": "markdown",
   "metadata": {},
   "source": [
    "Performance in Monte Carlo simulations can be measured by efficiency:\n",
    "$$\n",
    "\\varepsilon = \\frac{1}{T V}\n",
    "$$\n",
    "where $T$ is the time taken to run Monte Carlo and $V$ the variance of the unbiased estimator that is used. <br>\n",
    "\n",
    "Understanding how and how much modifications influence efficiency is paramount to designing efficient Monte Carlo schemes."
   ]
  },
  {
   "attachments": {},
   "cell_type": "markdown",
   "metadata": {},
   "source": [
    "# Analysis of Variance of simple RMC \n",
    "Lets analyse the variance of the first example in perdiod1: $y'=y, y(0) = 1$ with \n",
    "$$\n",
    "Y(t) = 1 + t Y(U(0,1))\n",
    "$$\n",
    "and $Y(\\varepsilon)=1$ for small $\\varepsilon$. <br>\n",
    "What we are after is $\\text{Var}(Y(t))$ let's try to express this in $\\text{Var}(Y(x))$ for $x<t$:\n",
    "\n",
    "$$\n",
    "\\begin{align*}\n",
    "\\text{Var}(Y(t))&= E[Y^{2}(t)] - E^{2}[Y(t)]\\\\\n",
    "                &= E[(1+tY(U))^{2}] - y^{2}(t)\\\\\n",
    "                &= E[1 + 2tY(U)+ t^{2} Y^{2}(U)] - y^{2}(t)\\\\\n",
    "                &= E[1 + 2(Y(t)-1)] + E[t^{2} Y^{2}(U)] - y^{2}(t)\\\\\n",
    "                &= E[t^{2} Y^{2}(U)] - y^{2}(t)+2 y(t) - t\\\\\n",
    "                &= E[t^{2}E[ Y^{2}(x)] \\mid U = x] - y^{2}(t)+2 y(t) - t\\\\\n",
    "                &= E[t^{2} \\text{Var}(Y(x))+ t^{2} y^{2}(x)) \\mid U = x] - y^{2}(t)+2 y(t) - t\\\\\n",
    "                &= t\\int_{0}^{t} \\text{Var}(Y(x))+ y^{2}(x)dx - y^{2}(t)+2 y(t) - t\\\\\n",
    "\\end{align*}\n",
    "$$\n",
    "We're not $100\\%$ sure of this derivation but this last line can be turned in into a $2$ nd order linear differential equation by taking the derivative $2$ times and initial conditions can be found by substituting $t = 0$. <br>\n",
    "\n",
    "We made a mistake somewhere because initial conditions of the variance should be $0$ which we conjecture out of the experiments that we already run."
   ]
  }
 ],
 "metadata": {
  "kernelspec": {
   "display_name": "Python 3",
   "language": "python",
   "name": "python3"
  },
  "language_info": {
   "name": "python",
   "version": "3.10.8"
  },
  "orig_nbformat": 4,
  "vscode": {
   "interpreter": {
    "hash": "61dcd53c54624714075f66cf77d2f4f7b806bcd73e530a683be31ad82b480a0b"
   }
  }
 },
 "nbformat": 4,
 "nbformat_minor": 2
}
