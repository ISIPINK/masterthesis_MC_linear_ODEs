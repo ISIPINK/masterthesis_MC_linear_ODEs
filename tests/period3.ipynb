{
 "cells": [
  {
   "attachments": {},
   "cell_type": "markdown",
   "metadata": {},
   "source": [
    "# (some) Related Work\n",
    "\n",
    "- Solving Inverse PDE Problems using Grid-Free Monte Carlo Estimators\n",
    "- Monte Carlo Geometry Processing: A Grid-Free Approach to PDE-Based Methods on Volumetric Domains\n",
    "- Grid-Free Monte Carlo for PDEs with Spatially Varying Coefficients\n",
    "- Sparsified Randomization Algorithms for large systems of linear equations and a new version of the Random Walk on Boundary method\n"
   ]
  },
  {
   "attachments": {},
   "cell_type": "markdown",
   "metadata": {},
   "source": [
    "# Abstract\n",
    "todo"
   ]
  },
  {
   "attachments": {},
   "cell_type": "markdown",
   "metadata": {},
   "source": [
    "# Interesting Examples  \n",
    "We haven't addressed which integral equations produce well behaving estimators. Following examples show some bad behavior."
   ]
  },
  {
   "attachments": {},
   "cell_type": "markdown",
   "metadata": {},
   "source": [
    "## Example 1\n",
    "\n",
    "Bad example of turning a non recursive integral equation into a recursive one:\n",
    "\n",
    "$$\n",
    "\\begin{align*}\n",
    "e^{t} &= 1 + \\int_{0}^{t} y(s) ds \\Leftrightarrow\\\\\n",
    "y(t)  &= 1 + \\int_{0}^{t} y(s) ds - e^{t} + y(t)\n",
    "\\end{align*}\n",
    "$$\n",
    "\n",
    "then use russian roulette to remove branching. We think that it is impossible to turn this last recursive integral equation into a finite variance estimator.\n"
   ]
  },
  {
   "cell_type": "code",
   "execution_count": 19,
   "metadata": {},
   "outputs": [
    {
     "name": "stdout",
     "output_type": "stream",
     "text": [
      "sol(0.5) is approx = -0.7605162916145758\n",
      "%error = -1.4612764480751943\n"
     ]
    }
   ],
   "source": [
    "from random import random, randint\n",
    "from math import exp\n",
    "\n",
    "\n",
    "def Y(t, q):  # t<1\n",
    "    k = randint(1, 3)\n",
    "    if k == 1:\n",
    "        return q*(1 - exp(t))+1+t\n",
    "    if k == 2:\n",
    "        return q*(1 - exp(t)) + 3*(Y(t, q)-1-t)\n",
    "    return q*(1 - exp(t) + 3*t*Y(random()*t, q))\n",
    "\n",
    "\n",
    "sol = 0\n",
    "nsim = 10**1\n",
    "t = 0.5  # <1\n",
    "\n",
    "for _ in range(nsim):\n",
    "    sol += Y(t, -0.1)/nsim\n",
    "\n",
    "s = exp(t)  # analytic solution\n",
    "percentage_error = (sol - s)/s\n",
    "\n",
    "print(f\"sol({t}) is approx = {sol}\")\n",
    "print(f\"%error = {percentage_error}\")\n"
   ]
  },
  {
   "attachments": {},
   "cell_type": "markdown",
   "metadata": {},
   "source": [
    "## Example 2\n",
    "\n",
    "Alternative approach for ODE example in period 2\n",
    "\n",
    "$$\n",
    "\\begin{aligned}\n",
    "y''&=y  \\Leftarrow \\\\\n",
    "y'(t)&=y'(1)-\\int_{t}^{1} y(s)ds \\Leftarrow\\\\\n",
    "y(t)&=y(0)+t y'(1)-\\int_0^t \\int_s^1 y(l) d l d s\n",
    "\\end{aligned}\n",
    "$$\n",
    "\n",
    "with $y(0)=1, y'(1) = e$ such that the solution is $y(t) = e^{t}$. The implementation uses Russian Roulette:\n"
   ]
  },
  {
   "cell_type": "code",
   "execution_count": 20,
   "metadata": {},
   "outputs": [
    {
     "name": "stdout",
     "output_type": "stream",
     "text": [
      "sol(0.5) is approx = 1.666418107956915\n",
      "%error = 0.010733674376185961\n"
     ]
    }
   ],
   "source": [
    "from random import random\n",
    "from math import exp\n",
    "\n",
    "\n",
    "def Y(t):  # 0<t<1\n",
    "    S = random()*t\n",
    "    L = 1-(1 - S)*random()\n",
    "    return 1 + t*exp(1) - 2 * t * (1-S) * Y(L) if random() < 1/2 else 1 + t*exp(1)\n",
    "\n",
    "\n",
    "sol = 0\n",
    "nsim = 10**4\n",
    "t = 0.5  # <1\n",
    "\n",
    "for _ in range(nsim):\n",
    "    sol += Y(t)/nsim\n",
    "\n",
    "s = exp(t)  # analytic solution\n",
    "percentage_error = (sol - s)/s\n",
    "\n",
    "print(f\"sol({t}) is approx = {sol}\")\n",
    "print(f\"%error = {percentage_error}\")\n"
   ]
  },
  {
   "attachments": {},
   "cell_type": "markdown",
   "metadata": {},
   "source": [
    "If you now increase the domain to $[0,2]$ the variance explodes (we conjecture that the variance abides a ODE and exists):"
   ]
  },
  {
   "cell_type": "code",
   "execution_count": 21,
   "metadata": {},
   "outputs": [
    {
     "name": "stdout",
     "output_type": "stream",
     "text": [
      "sol(0.5) is approx = 217745069.3372903\n",
      "%error = 132069059.55431978\n"
     ]
    }
   ],
   "source": [
    "from random import random,randint\n",
    "from math import exp\n",
    "\n",
    "def Y(t): # 0<t<2\n",
    "    S = random()*t\n",
    "    L = 2-(2 - S)*random()\n",
    "    if t<1:\n",
    "        return  1 + t*exp(2) - (2-S)* Y(L) if random()<t else  1 + t*exp(2)  \n",
    "    return  1 + t*exp(2) - t*(2-S)* Y(L) \n",
    "\n",
    "sol = 0\n",
    "nsim = 10**2\n",
    "t = 0.5 # <2\n",
    "\n",
    "for _ in range(nsim):\n",
    "    sol += Y(t)/nsim\n",
    "\n",
    "s = exp(t) #analytic solution\n",
    "percentage_error = (sol - s)/s\n",
    "\n",
    "print(f\"sol({t}) is approx = {sol}\")\n",
    "print(f\"%error = {percentage_error}\")"
   ]
  },
  {
   "attachments": {},
   "cell_type": "markdown",
   "metadata": {},
   "source": [
    "## Mini Conclusion\n",
    "You have to be careful to get good properties when using RMC. Even if the variance exist, it may be unreasonably high. There are multiple ways to get the variance down the reasonable levels importance sampling, using physical interpretations, next flight (see later),..."
   ]
  },
  {
   "attachments": {},
   "cell_type": "markdown",
   "metadata": {},
   "source": [
    "# Next Flight\n",
    "The idea behind next flight or something more general is recursion in recursion like the induction in induction proofs we love. By recursion in recursion we mean using a recursion for solving an other recursion step, $1$ slow recursion, $1$ fast recursion or $1$ outer recursion, $1$ inner recursion. <br>\n",
    "\n",
    "In Grid-Free Monte Carlo for PDEs with Spatially Varying Coefficients they implement a next flight for walk on spheres and they talk about small walks = fast recursion in a big walk = slow recursion. <br>\n",
    "\n",
    "Lets look at following example:\n",
    "$$\n",
    "y'=y, y(0)=1.\n",
    "$$\n",
    "with solution $y(t)=e^{t}$ this can be turned in following integral equation:\n",
    "$$\n",
    "y(t)= y(T) +  \\int_{T}^{t}y(s)ds   \n",
    "$$ \n",
    "in the slow recursion we estimate $y(T)$ with a call to the fast recursion using that estimate we estimate the integral with RMC leading to a fast recursion and base case is the initial condition. (maybe that is still confusing ...) <br>\n",
    "\n",
    "Implementation of this looks like:"
   ]
  },
  {
   "cell_type": "code",
   "execution_count": 99,
   "metadata": {},
   "outputs": [
    {
     "name": "stdout",
     "output_type": "stream",
     "text": [
      "res = 10522854145087.832,  %error= -0.015310983541710706\n"
     ]
    }
   ],
   "source": [
    "from random import random\n",
    "from math import exp\n",
    "\n",
    "\n",
    "def Y_fast(t, T, yT, DT):\n",
    "    S = T + random()*(t-T)  # \\sim Uniform(T,t)\n",
    "    return yT + DT*Y_fast(S, T, yT, DT) if random() < (t-T)/DT else yT\n",
    "\n",
    "\n",
    "def Y_slow(T, DT: \"step size slow recursion\"):\n",
    "    TT = T-DT if T-DT > 0 else 0  # TT is where we are recursing to\n",
    "    return Y_fast(T, TT, Y_slow(TT, DT), DT) if T > 0 else 1\n",
    "\n",
    "\n",
    "# the convergence speeds is probably O(DT/sqrt(nsim))\n",
    "s = 0\n",
    "t = 30\n",
    "DT = 0.25\n",
    "nsim = 10**2\n",
    "\n",
    "for _ in range(nsim):\n",
    "    s += Y_slow(t, DT)/nsim\n",
    "\n",
    "sol = exp(t)\n",
    "err = (s-sol)/sol\n",
    "print(f\"res = {s}, \",f\"%error= {err}\")\n"
   ]
  },
  {
   "attachments": {},
   "cell_type": "markdown",
   "metadata": {},
   "source": [
    "We look into high order methods in $DT$ later."
   ]
  },
  {
   "attachments": {},
   "cell_type": "markdown",
   "metadata": {},
   "source": [
    "# Coupled Recursion"
   ]
  }
 ],
 "metadata": {
  "kernelspec": {
   "display_name": "Python 3",
   "language": "python",
   "name": "python3"
  },
  "language_info": {
   "codemirror_mode": {
    "name": "ipython",
    "version": 3
   },
   "file_extension": ".py",
   "mimetype": "text/x-python",
   "name": "python",
   "nbconvert_exporter": "python",
   "pygments_lexer": "ipython3",
   "version": "3.10.10"
  },
  "orig_nbformat": 4,
  "vscode": {
   "interpreter": {
    "hash": "61dcd53c54624714075f66cf77d2f4f7b806bcd73e530a683be31ad82b480a0b"
   }
  }
 },
 "nbformat": 4,
 "nbformat_minor": 2
}
