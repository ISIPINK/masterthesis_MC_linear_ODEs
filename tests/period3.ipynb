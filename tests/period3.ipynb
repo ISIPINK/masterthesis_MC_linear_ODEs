{
 "cells": [
  {
   "attachments": {},
   "cell_type": "markdown",
   "metadata": {},
   "source": [
    "# (some) Related Work\n",
    "\n",
    "- Solving Inverse PDE Problems using Grid-Free Monte Carlo Estimators\n",
    "- Path Replay Backpropagation: Differentiating Light Paths using Constant Memory and Linear Time\n",
    "- Monte Carlo Geometry Processing: A Grid-Free Approach to PDE-Based Methods on Volumetric Domains\n",
    "- Grid-Free Monte Carlo for PDEs with Spatially Varying Coefficients\n",
    "- Sparsified Randomization Algorithms for large systems of linear equations and a new version of the Random Walk on Boundary method\n"
   ]
  },
  {
   "attachments": {},
   "cell_type": "markdown",
   "metadata": {},
   "source": [
    "# Abstract\n",
    "We briefly talk about bad variance behavior of RMC. Introduce next flight (RRMC) and coupled recursion. Discuss possible ways to implement recursion in python and then finish of with local models via SALT.\n"
   ]
  },
  {
   "attachments": {},
   "cell_type": "markdown",
   "metadata": {},
   "source": [
    "# Interesting Examples  \n",
    "We haven't addressed which integral equations produce well behaving estimators. Following examples show some bad behavior."
   ]
  },
  {
   "attachments": {},
   "cell_type": "markdown",
   "metadata": {},
   "source": [
    "## Example 1\n",
    "\n",
    "Bad example of turning a non recursive integral equation into a recursive one:\n",
    "\n",
    "$$\n",
    "\\begin{align*}\n",
    "e^{t} &= 1 + \\int_{0}^{t} y(s) ds \\Leftrightarrow\\\\\n",
    "y(t)  &= 1 + \\int_{0}^{t} y(s) ds - e^{t} + y(t)\n",
    "\\end{align*}\n",
    "$$\n",
    "\n",
    "then use russian roulette to remove branching. We think that it is impossible to turn this last recursive integral equation into a finite variance estimator directly.\n"
   ]
  },
  {
   "cell_type": "code",
   "execution_count": 19,
   "metadata": {},
   "outputs": [
    {
     "name": "stdout",
     "output_type": "stream",
     "text": [
      "sol(0.5) is approx = -0.7605162916145758\n",
      "%error = -1.4612764480751943\n"
     ]
    }
   ],
   "source": [
    "from random import random, randint\n",
    "from math import exp\n",
    "\n",
    "\n",
    "def Y(t, q):  # t<1\n",
    "    k = randint(1, 3)\n",
    "    if k == 1:\n",
    "        return q*(1 - exp(t))+1+t\n",
    "    if k == 2:\n",
    "        return q*(1 - exp(t)) + 3*(Y(t, q)-1-t)\n",
    "    return q*(1 - exp(t) + 3*t*Y(random()*t, q))\n",
    "\n",
    "\n",
    "sol = 0\n",
    "nsim = 10**1\n",
    "t = 0.5  # <1\n",
    "\n",
    "for _ in range(nsim):\n",
    "    sol += Y(t, -0.1)/nsim\n",
    "\n",
    "s = exp(t)  # analytic solution\n",
    "percentage_error = (sol - s)/s\n",
    "\n",
    "print(f\"sol({t}) is approx = {sol}\")\n",
    "print(f\"%error = {percentage_error}\")\n"
   ]
  },
  {
   "attachments": {},
   "cell_type": "markdown",
   "metadata": {},
   "source": [
    "## Example 2\n",
    "\n",
    "Alternative approach for ODE example in period 2\n",
    "\n",
    "$$\n",
    "\\begin{aligned}\n",
    "y''&=y  \\Leftarrow \\\\\n",
    "y'(t)&=y'(1)-\\int_{t}^{1} y(s)ds \\Leftarrow\\\\\n",
    "y(t)&=y(0)+t y'(1)-\\int_0^t \\int_s^1 y(l) d l d s\n",
    "\\end{aligned}\n",
    "$$\n",
    "\n",
    "with $y(0)=1, y'(1) = e$ such that the solution is $y(t) = e^{t}$. The implementation uses Russian Roulette:\n"
   ]
  },
  {
   "cell_type": "code",
   "execution_count": 20,
   "metadata": {},
   "outputs": [
    {
     "name": "stdout",
     "output_type": "stream",
     "text": [
      "sol(0.5) is approx = 1.666418107956915\n",
      "%error = 0.010733674376185961\n"
     ]
    }
   ],
   "source": [
    "from random import random\n",
    "from math import exp\n",
    "\n",
    "\n",
    "def Y(t):  # 0<t<1\n",
    "    S = random()*t\n",
    "    L = 1-(1 - S)*random()\n",
    "    return 1 + t*exp(1) - 2 * t * (1-S) * Y(L) if random() < 1/2 else 1 + t*exp(1)\n",
    "\n",
    "\n",
    "sol = 0\n",
    "nsim = 10**4\n",
    "t = 0.5  # <1\n",
    "\n",
    "for _ in range(nsim):\n",
    "    sol += Y(t)/nsim\n",
    "\n",
    "s = exp(t)  # analytic solution\n",
    "percentage_error = (sol - s)/s\n",
    "\n",
    "print(f\"sol({t}) is approx = {sol}\")\n",
    "print(f\"%error = {percentage_error}\")\n"
   ]
  },
  {
   "attachments": {},
   "cell_type": "markdown",
   "metadata": {},
   "source": [
    "If you now increase the domain to $[0,2]$ the variance explodes (we conjecture that the variance abides a ODE and exists):"
   ]
  },
  {
   "cell_type": "code",
   "execution_count": 21,
   "metadata": {},
   "outputs": [
    {
     "name": "stdout",
     "output_type": "stream",
     "text": [
      "sol(0.5) is approx = 217745069.3372903\n",
      "%error = 132069059.55431978\n"
     ]
    }
   ],
   "source": [
    "from random import random \n",
    "from math import exp\n",
    "\n",
    "def Y(t): # 0<t<2\n",
    "    S = random()*t\n",
    "    L = 2-(2 - S)*random()\n",
    "    if t<1:\n",
    "        return  1 + t*exp(2) - (2-S)* Y(L) if random()<t else  1 + t*exp(2)  \n",
    "    return  1 + t*exp(2) - t*(2-S)* Y(L) \n",
    "\n",
    "sol = 0\n",
    "nsim = 10**2\n",
    "t = 0.5 # <2\n",
    "\n",
    "for _ in range(nsim):\n",
    "    sol += Y(t)/nsim\n",
    "\n",
    "s = exp(t) #analytic solution\n",
    "percentage_error = (sol - s)/s\n",
    "\n",
    "print(f\"sol({t}) is approx = {sol}\")\n",
    "print(f\"%error = {percentage_error}\")"
   ]
  },
  {
   "attachments": {},
   "cell_type": "markdown",
   "metadata": {},
   "source": [
    "## Mini Conclusion\n",
    "You have to be careful to get good properties when using RMC. Even if the variance exist, it may be unreasonably high. There are multiple ways to get the variance down to the reasonable levels importance sampling, using physical interpretations, next flight (see later),..."
   ]
  },
  {
   "attachments": {},
   "cell_type": "markdown",
   "metadata": {},
   "source": [
    "# Next Flight (Recursion in Recursion)\n",
    "The idea behind next flight or something more general is recursion in recursion like the induction in induction proofs we love. By recursion in recursion we mean using a recursion for solving an other recursion step, $1$ slow recursion, $1$ fast recursion or $1$ outer recursion, $1$ inner recursion. <br>\n",
    "\n",
    "In Grid-Free Monte Carlo for PDEs with Spatially Varying Coefficients they implement a next flight for walk on spheres and they talk about small walks = fast recursion in a big walk = slow recursion. <br>\n",
    "\n",
    "Lets look at following example:\n",
    "$$\n",
    "y'=y, y(0)=1.\n",
    "$$\n",
    "with solution $y(t)=e^{t}$ this can be turned in following integral equation:\n",
    "$$\n",
    "y(t)= y(T) +  \\int_{T}^{t}y(s)ds   \n",
    "$$ \n",
    "in the slow recursion we estimate $y(T)$ with a call to the fast recursion using that estimate we estimate the integral with RMC leading to a fast recursion and the base case is the initial condition. (maybe that is still confusing ...) <br>\n",
    "\n",
    "Implementation of this looks like:"
   ]
  },
  {
   "cell_type": "code",
   "execution_count": 8,
   "metadata": {},
   "outputs": [
    {
     "name": "stdout",
     "output_type": "stream",
     "text": [
      "res = 5.194175488565548e+21,  %error= 0.001826518386871069\n"
     ]
    }
   ],
   "source": [
    "from random import random\n",
    "from math import exp\n",
    "\n",
    "\n",
    "def Y_fast(t, T, yT, DT):\n",
    "    S = T + random()*(t-T)  # \\sim Uniform(T,t)\n",
    "    return yT + DT*Y_fast(S, T, yT, DT) if random() < (t-T)/DT else yT\n",
    "\n",
    "\n",
    "def Y_slow(T, DT: \"step size slow recursion\"):\n",
    "    TT = T-DT if T-DT > 0 else 0  # TT is where we are recursing to\n",
    "    return Y_fast(T, TT, Y_slow(TT, DT), DT) if T > 0 else 1\n",
    "\n",
    "\n",
    "# the convergence speeds is probably O(DT/sqrt(nsim))\n",
    "# careful python has a max recursion dept until it crashes\n",
    "s = 0\n",
    "t = 50\n",
    "DT = 0.05\n",
    "nsim = 10**2\n",
    "\n",
    "for _ in range(nsim):\n",
    "    s += Y_slow(t, DT)/nsim\n",
    "\n",
    "sol = exp(t)\n",
    "err = (s-sol)/sol\n",
    "print(f\"res = {s}, \", f\"%error= {err}\")\n"
   ]
  },
  {
   "attachments": {},
   "cell_type": "markdown",
   "metadata": {},
   "source": [
    "We call this RRMC (= Recursion in Recursion Monte Carlo) for ODEs. We conjecture that this implementation of RRMC has similar properties as the Euler scheme. We look into high order/implicit methods in $DT$ later (maybe imitating other existing methods)."
   ]
  },
  {
   "attachments": {},
   "cell_type": "markdown",
   "metadata": {},
   "source": [
    "# Coupled Recursion\n",
    "The idea of coupled recursion is combining multiple recursion processes together in a way they can use each others recursion calls. An example of coupled recursion can be found in Solving Inverse PDE Problems using Grid-Free Monte Carlo Estimators they calculate derivatives by replaying a path and estimates of the solution in other words they combine the solution process with the derivative process and the derivative process uses the solution process.(their implementation is a forward one we deal with recursion implementation problems later) <br>\n",
    "\n",
    "In following example we implement a coupled solution and derivative process of the following problem:\n",
    "$$\n",
    "y'=ay,y(0)=1,a=1.\n",
    "$$ \n",
    "This has as solution $y(t,a) = e^{at}$ and is equivalent with following integral equation:\n",
    "$$\n",
    "y(t,a) = 1 + \\int_{0}^{t} a y(s,a)ds .\n",
    "$$ \n",
    "Differentiating this in $a$ gives\n",
    "$$\n",
    "\\partial_{a} y(t,a) = \\int_{0}^{t} y(s,a) + a \\partial_{a} y(t,a) ds .\n",
    "$$ \n",
    "if you simulate this last expression you get a branching estimator this can be avoided by russian roulette but also by combining it with the first equation and sharing recursions (writing it as a vector is a nice way to emphasize coupled recursion):\n",
    "\n",
    "$$ \n",
    "\\left(\\begin{array}{l}\n",
    "y(t, a) \\\\\n",
    "\\partial_a y(t, a)\n",
    "\\end{array}\\right)=\\left(\\begin{array}{l}\n",
    "1 \\\\\n",
    "0\n",
    "\\end{array}\\right)+\\int_0^t\\left(\\begin{array}{l}\n",
    "a y(s, a) \\\\\n",
    "y(s, a)+a \\partial_{a}y(s, a)\n",
    "\\end{array}\\right) d s\n",
    "$$\n",
    "Turning that into a recursive estimator implemented in code it looks like this:"
   ]
  },
  {
   "cell_type": "code",
   "execution_count": 96,
   "metadata": {},
   "outputs": [
    {
     "name": "stdout",
     "output_type": "stream",
     "text": [
      "E = [4.5241 2.2208] %error is [ 0.00946316 -0.00894508]\n"
     ]
    }
   ],
   "source": [
    "from random import random\n",
    "from math import exp\n",
    "import numpy as np\n",
    "\n",
    "# E for estimator\n",
    "def E(t, a) -> np.array:\n",
    "    if t < 1 and random() > t:\n",
    "        return np.array([1, 0])\n",
    "    ys, dys = E(random()*t, a)\n",
    "    y = 1 + t*a*ys if t > 1 else 1 + a*ys\n",
    "    py = t*(ys+a*dys) if t > 1 else ys+a*dys\n",
    "    return np.array([y, py])\n",
    "\n",
    "\n",
    "def test():\n",
    "    s = np.array([0.0, 0.0])\n",
    "    nsim = 10**4\n",
    "    t, a = 0.5, 3\n",
    "    for _ in range(nsim):\n",
    "        s += E(t, a)/nsim\n",
    "\n",
    "    sol = np.array([exp(t*a), t*exp(t*a)])\n",
    "    err = (s-sol)/sol\n",
    "    print(f\"E = {s}\",f\"%error is {err}\")\n",
    "\n",
    "test()"
   ]
  },
  {
   "attachments": {},
   "cell_type": "markdown",
   "metadata": {},
   "source": [
    "We also did the example of RMC exp Dy of period2 (see tests). We have a crazy idea of an example of a boundary problem ODE where we combine coupled recursion with recursion in recursion (that we maybe implement next period)."
   ]
  },
  {
   "attachments": {},
   "cell_type": "markdown",
   "metadata": {},
   "source": [
    "# Inverse Problem\n",
    "Following Solving Inverse PDE Problems using Grid-Free Monte Carlo Estimators and last example + stochastic gradient descent gives you an inverse solver.<br>\n",
    "\n",
    "Lets say we want to fit $y(t,a,b)$ to a function $d$ where $y(t,a,b)$ is the solution of\n",
    "$$\n",
    "y'=ay, y(0)=b\n",
    "$$ \n",
    "using the following integral representation:\n",
    "$$\n",
    "y(t,a,b)= b + \\int_{0}^{t} a y(s,a,b)ds .\n",
    "$$ \n",
    "We can formulate this as an optimization problem\n",
    "$$\n",
    "\\alpha, \\beta = \\text{argmin}_{a,b}||y(t,a,b)-d(t)||_{2}^{2}.\n",
    "$$ \n",
    "The gradient of the $L2$ score is:\n",
    "\n",
    "$$\n",
    "\\nabla f(a,b)=2 \n",
    "\\left(\\begin{array}{l}\n",
    "\\int_{0}^{1} (y(s)-d(s)) \\partial_{a} y(s) ds\\\\ \n",
    "\\int_{0}^{1} (y(s)-d(s)) \\partial_{b} y(s) ds\n",
    "\\end{array}\\right)\n",
    "$$ \n",
    "We already have an integral equation for $y(s)$ the one for $\\partial_{a}y(s)$ and $\\partial_{b} y(s)$ can be obtained by taking the derivative of it:\n",
    "\n",
    "$$\n",
    "\\begin{align*}\n",
    "\\partial_{a} y(s) &= \\int_{0}^{t} y(s) + a \\partial_{a} y(s) ds \\\\     \n",
    "\\partial_{b} y(s) &= 1+ \\int_{0}^{t} a \\partial_{b} y(s) ds \\\\     \n",
    "\\end{align*}\n",
    ".\n",
    "$$ \n",
    "this first integral equation we already dealt with (see coupled recursion) and the second one is pretty easy.\n"
   ]
  },
  {
   "cell_type": "code",
   "execution_count": 9,
   "metadata": {},
   "outputs": [
    {
     "name": "stdout",
     "output_type": "stream",
     "text": [
      "[0.95747509 1.95390802]\n"
     ]
    },
    {
     "data": {
      "image/png": "[encoded data removed]",
      "text/plain": [
       "<Figure size 640x480 with 1 Axes>"
      ]
     },
     "metadata": {},
     "output_type": "display_data"
    }
   ],
   "source": [
    "from random import random\n",
    "import numpy as np\n",
    "from math import exp\n",
    "import matplotlib.pyplot as plt\n",
    "\n",
    "def d(x):\n",
    "    return (1+x+x**2/2)*2\n",
    "\n",
    "def E(t,a,b)->np.array: # the second term is an estimator for parial_a y \n",
    "    if t<1 and random()>t:\n",
    "        return np.array([1,0])\n",
    "    e = E(random()*t,a,b)\n",
    "    y = b + t*a*e[0] if t>1 else b + a*e[0]\n",
    "    day= t*(e[0]+a*e[1]) if t>1 else e[0]+a*e[1]\n",
    "    return np.array([y,day])\n",
    "    \n",
    "def dby(t,a,b):\n",
    "    if t>1:\n",
    "        return  1 + a* t*dby(random()*t,a,b) \n",
    "    return 1 + a* dby(random()*t,a,b) if random()<t else 1\n",
    "\n",
    "def y(t,a,b):\n",
    "    if t>1:\n",
    "        return b + a*t*y(t,a,b)\n",
    "    return b + a* y(random()*t,a,b) if random()<t else b\n",
    "\n",
    "def grad_f(a,b):\n",
    "    u = random()\n",
    "    r = y(u,a,b)- d(u)\n",
    "    daf = r*E(u,a,b)[1] \n",
    "    dbf = r*dby(u,a,b) \n",
    "    return np.array([daf,dbf])\n",
    "    \n",
    "\n",
    "xs = np.arange(0,1,0.01)\n",
    "var = np.array([0.5,0.2])\n",
    "for j in range(100):\n",
    "    a,b = var\n",
    "    s = 0\n",
    "    nsim = 10**2\n",
    "    for _ in range(nsim):\n",
    "        s += grad_f(a,b)/nsim\n",
    "    var -=s/20\n",
    "    if j%20==0:\n",
    "        ys = [b*exp(a*x) for x in xs]\n",
    "        plt.plot(xs,ys, label =f\"sol {j}\")\n",
    "print(var)\n",
    "\n",
    "zs = [d(x) for x in xs]\n",
    "plt.plot(xs,zs, color = \"black\", label= \"data\")\n",
    "plt.legend()\n",
    "plt.show()\n"
   ]
  },
  {
   "attachments": {},
   "cell_type": "markdown",
   "metadata": {},
   "source": [
    "# Implementing Recursion\n",
    "![recursion meme](https://res.cloudinary.com/practicaldev/image/fetch/s--kxXet7oK--/c_limit%2Cf_auto%2Cfl_progressive%2Cq_auto%2Cw_880/https://cdn.hashnode.com/res/hashnode/image/upload/v1603041948043/85-ZuWcqb.jpeg)\n",
    "\n",
    "Until now we have been implementing recursion with recursion. If possible it is preferred (performance wise) to implement a recursive solution with loops. The performance drops from recursion calls comes from storing intermediate operations and function calls. (our knowledge of computer science is lacking) <br> \n",
    "\n",
    "There are $3$ solutions we have in mind for implementing recursion:\n",
    "1. Reverse path generation\n",
    "2. Tail-recursion (https://stackoverflow.com/questions/33923/what-is-tail-recursion)\n",
    "3. Forward path generation + storing (= path storing)\n",
    "\n",
    "Reverse path generation is hands down the best if you can implement it ... <br>\n",
    "Path storing is worse performance wise then tail-recursion but in tail-recursion we don't get intermediate recursion calls which in our application are unbiased estimates of the solution at other places (in function input space) which are useful. <br>\n",
    "\n",
    "We think that there are interesting techniques to make path generation/storing more efficient (see for example on our work on Brownian motion). <br> \n",
    "\n",
    "We will implement Tail-recursion and forward path generation + storing for the example of coupled recursion. <br>\n",
    "\n",
    "Implementing forward path generation is pretty straight forward. The storing will be happening on a stack. "
   ]
  },
  {
   "cell_type": "code",
   "execution_count": 93,
   "metadata": {},
   "outputs": [
    {
     "name": "stdout",
     "output_type": "stream",
     "text": [
      "E = [1.6461 0.8236] %error is [-0.00158988 -0.0009227 ]\n"
     ]
    }
   ],
   "source": [
    "from random import random\n",
    "from collections import deque\n",
    "import numpy as np\n",
    "\n",
    "def path_deq(t):\n",
    "    res = deque([t])\n",
    "    while random() < t:\n",
    "        t *= random()\n",
    "        res.append(t)\n",
    "    return res\n",
    "\n",
    "# E for estimator\n",
    "def E(t, a) -> np.array:\n",
    "    ys, dys, path = 0, 0, path_deq(t)\n",
    "    while path:\n",
    "        y = 1+a*ys if path[-1] < 1 else 1+path[-1]*a*ys\n",
    "        dy = ys + a*dys if path[-1] < 1 else path[-1]*(ys + a*dys)\n",
    "        ys, dys = y, dy\n",
    "        path.pop()\n",
    "    return np.array([y, dy])\n",
    "\n",
    "def test():\n",
    "    s = np.array([0.0, 0.0])\n",
    "    nsim = 10**4\n",
    "    t, a = 0.5, 1\n",
    "    for _ in range(nsim):\n",
    "        s += E(t, a)/nsim\n",
    "\n",
    "    sol = np.array([exp(t*a), t*exp(t*a)])\n",
    "    err = (s-sol)/sol\n",
    "    print(f\"E = {s}\", f\"%error is {err}\")\n",
    "\n",
    "\n",
    "test()\n"
   ]
  },
  {
   "attachments": {},
   "cell_type": "markdown",
   "metadata": {},
   "source": [
    "![tailrec](https://i.stack.imgur.com/52QrO.jpg) <br>\n",
    "Implementing tail-recursion is annoying because python doesn't support it so we have to use loops. We accumulate intermediate addition work into an array sol and intermediate multiplication work in matrix weight W (in this example we could have used a scalar weight because we multiply the same matrix up to a scalar and then we could have used eigenvalue stuff).\n",
    "\n",
    "$$\n",
    "X = \\left(\\begin{array}{l}\n",
    "1 \\\\\n",
    "0\n",
    "\\end{array}\\right)+\n",
    "\\int_0^t\\left(\\begin{array}{cc}\n",
    "a & 0\\\\\n",
    "1 & a\n",
    "\\end{array}\\right) X d s\n",
    "$$\n",
    "\n",
    "writing\n",
    "$q=\\left(\\begin{array}{l}\n",
    "1 \\\\\n",
    "0\n",
    "\\end{array}\\right)$ and\n",
    "$\n",
    "A =\n",
    "\\left(\\begin{array}{cc}\n",
    "a & 0\\\\\n",
    "1 & a\n",
    "\\end{array}\\right)\n",
    "$ to simplify notation:\n",
    "\n",
    "$$\n",
    "X = q + \\int_0^t AX d s .\n",
    "$$\n"
   ]
  },
  {
   "cell_type": "code",
   "execution_count": 151,
   "metadata": {},
   "outputs": [
    {
     "name": "stdout",
     "output_type": "stream",
     "text": [
      "E = [2.90832443 3.43287554] %error is [-0.01234604 -0.02850902]\n"
     ]
    }
   ],
   "source": [
    "from random import random\n",
    "from math import exp\n",
    "import numpy as np\n",
    "\n",
    "\n",
    "def X(t, a) -> np.array:\n",
    "    q = np.array([1.0, 0.0])\n",
    "    A = np.array([[a, 0.0], [1.0, a]])\n",
    "    sol, W = np.array([1.0, 0.0]), np.identity(2)\n",
    "    while random() < t:\n",
    "        W = np.matmul(W, A) if t < 1 else t*np.matmul(W, A)\n",
    "        sol += np.matmul(W, q)\n",
    "        t *= random()\n",
    "    return sol\n",
    "\n",
    "\n",
    "def test():\n",
    "    s = np.array([0.0, 0.0])\n",
    "    nsim = 10**3\n",
    "    t, a = 1.2, 0.9\n",
    "    for _ in range(nsim):\n",
    "        s += X(t, a)/nsim\n",
    "\n",
    "    sol = np.array([exp(t*a), t*exp(t*a)])\n",
    "    err = (s-sol)/sol\n",
    "    print(f\"E = {s}\", f\"%error is {err}\")\n",
    "\n",
    "\n",
    "test()\n"
   ]
  },
  {
   "attachments": {},
   "cell_type": "markdown",
   "metadata": {},
   "source": [
    "A related work to this is Path Replay Backpropagation: Differentiating Light Paths using Constant Memory and Linear Time. They have an other way. In our example they would calculate an estimate of $y(t)$ the tail-recursion way (so no intermediate estimates) then replay the path (pseudorandom with a seed) reconstructing intermediate estimates (when needed) because all operations backwards were invertible and then using those intermediate estimates to calculate the estimate of the derivative in a tail-recursion way. <br>\n",
    "\n",
    "That is clever but they never needed the intermediated estimates they could have gone with plain tail-recursion (unless we brain farted somewhere). This trick they pulled of only works with $1$ way-coupling recursion in this case the derivative to the underlying."
   ]
  },
  {
   "attachments": {},
   "cell_type": "markdown",
   "metadata": {},
   "source": [
    "We think it is also possible to combine those solutions although this can get clumsy really fast.\n",
    "We will probably be using tail-recursion on inner iterations (when they are complicated or long otherwise regular recursion is better) and path storing on outermost iterations retaining at least some estimates and sacrificing minimal performance. In our example of RRMC the outer iterations happen on a grid so we could have also gotten away with reverse path generation."
   ]
  },
  {
   "attachments": {},
   "cell_type": "markdown",
   "metadata": {},
   "source": [
    "# Local Model Via SALT\n",
    "Instead of capturing local information with derivatives we could have also fitted an other local additive model. We will focus on one fitted with SALT. This has the advantage that it is more general in how local it is or it may capture non smooth behavior and could in principle use different type of unbiased information of the solution or in a special case only unbiased estimates of the solution. <br> \n",
    "\n",
    "We have a modified version of this in thoughts that can be used to calculate optimal non-local hedging strategies for big portfolios with the same benefits as the greek such as unbiased additivity but with bigger rehedging intervals.<br>\n",
    "\n",
    "We will look again at the same example:\n",
    "$$\n",
    "y'=ay,y(0)=1,a=1\n",
    "$$ \n",
    "This has solution $y(t)=e^{at}$ with $a=1$. In this example we're interested in the effect of small changes of $a$ for the solution at $t=1$. <br>\n",
    "\n",
    "The information of small changes of $a$ is available in unbiased estimations of the solution with small changes in $a$. To capture this information we use those unbiased estimates to fit a function using SALT with Legendre polynomials.    "
   ]
  },
  {
   "cell_type": "code",
   "execution_count": 12,
   "metadata": {},
   "outputs": [
    {
     "data": {
      "image/png": "[encoded data removed]",
      "text/plain": [
       "<Figure size 640x480 with 1 Axes>"
      ]
     },
     "metadata": {},
     "output_type": "display_data"
    },
    {
     "name": "stdout",
     "output_type": "stream",
     "text": [
      "0.0015913331354945029\n"
     ]
    },
    {
     "data": {
      "image/png": "[encoded data removed]",
      "text/plain": [
       "<Figure size 640x480 with 1 Axes>"
      ]
     },
     "metadata": {},
     "output_type": "display_data"
    }
   ],
   "source": [
    "from random import random\n",
    "import matplotlib.pyplot as plt\n",
    "import numpy as np\n",
    "from math import exp\n",
    "from functools import lru_cache\n",
    "\n",
    "#legendre polynomials\n",
    "@lru_cache(maxsize=3)\n",
    "def p(x,n):\n",
    "    return ((2*n-1)*x*p(x,n-1)-(n-1)*p(x,n-2))/n if n>1 else (x if n ==1 else 1)\n",
    "\n",
    "# can be more efficient using Clenshaw algorithm (https://en.wikipedia.org/wiki/Clenshaw_algorithm)\n",
    "def approx_sol(a_control,x):\n",
    "    return sum(a_control[j]*p(x,j)for j in range(len(a_control)))\n",
    "\n",
    "def scale_down(x): # from [-1,1] to [0.9,1.1]\n",
    "    return x/10+1\n",
    "\n",
    "def scale_up(x): # from [0.9,1.1] to [-1,1]\n",
    "    return 10*(x-1)\n",
    "\n",
    "def Ya(t,a): #estimator for y(t,a)\n",
    "    return (1+a*Ya(random()*t,a) if random()<t else 1) if t<1 else 1+t*a*Ya(random()*t,a)\n",
    "    \n",
    "def a_all(a_control,nsim=10):\n",
    "    sol = [0]*len(a_control)\n",
    "    for _ in range(nsim):\n",
    "        u = (random()*2-1)\n",
    "        ps = [p(u,j) for j in range(len(a_control))]\n",
    "        aasol = sum(a*p for a,p in zip(a_control,ps)) \n",
    "        ff = Ya(1,scale_down(u)) \n",
    "        for n in range(len(a_control)):\n",
    "            sol[n] += ((2*n+1)*(ff-aasol)*ps[n] + a_control[n])/nsim \n",
    "    return sol\n",
    "\n",
    "a_control = [0]\n",
    "order = 2\n",
    "\n",
    "#we gradually add more and more coefficient you can think of it as somekind of regularization\n",
    "while len(a_control)<order+2:\n",
    "    a_control = a_all(a_control,5*10**4) \n",
    "    a_control.append(0)\n",
    "\n",
    "def sol(x):\n",
    "    return exp(x)\n",
    "xs = np.arange(-1,1,0.01)\n",
    "zs = [approx_sol(a_control,x) for x in xs]\n",
    "xs = [scale_down(x) for x in xs]\n",
    "ys = [sol(x) for x in xs ]\n",
    "plt.plot(xs,zs, color= \"red\", label=f\"approx {order}\")\n",
    "plt.plot(xs,ys, color= \"green\",label=\"exact\")\n",
    "plt.legend()\n",
    "plt.xlabel(\"a\")\n",
    "plt.title(\"comparison\")\n",
    "plt.show()\n",
    "\n",
    "xs = np.arange(-1,1,0.01)\n",
    "print((approx_sol(a_control,0)-sol(scale_down(0)))/sol(scale_down(0)))\n",
    "zs = [(approx_sol(a_control,x)-sol(scale_down(x)))/sol(scale_down(x)) for x in xs]\n",
    "xs = [scale_down(x) for x in xs]\n",
    "plt.plot(xs,zs)\n",
    "plt.title(\"%error\")\n",
    "plt.show()"
   ]
  },
  {
   "attachments": {},
   "cell_type": "markdown",
   "metadata": {},
   "source": [
    "# TODO\n",
    "- example RRMC on nonlinear ODE\n",
    "- example RRMC+coupling on boundary ODE problem \n",
    "- russian roulette analysis\n",
    "the rest you can find on the wishlist."
   ]
  }
 ],
 "metadata": {
  "kernelspec": {
   "display_name": "Python 3",
   "language": "python",
   "name": "python3"
  },
  "language_info": {
   "codemirror_mode": {
    "name": "ipython",
    "version": 3
   },
   "file_extension": ".py",
   "mimetype": "text/x-python",
   "name": "python",
   "nbconvert_exporter": "python",
   "pygments_lexer": "ipython3",
   "version": "3.10.10"
  },
  "orig_nbformat": 4,
  "vscode": {
   "interpreter": {
    "hash": "61dcd53c54624714075f66cf77d2f4f7b806bcd73e530a683be31ad82b480a0b"
   }
  }
 },
 "nbformat": 4,
 "nbformat_minor": 2
}
