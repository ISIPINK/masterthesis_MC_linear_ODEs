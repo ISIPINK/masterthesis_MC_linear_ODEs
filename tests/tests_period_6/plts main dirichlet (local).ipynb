{
 "cells": [
  {
   "cell_type": "code",
   "execution_count": 34,
   "metadata": {},
   "outputs": [
    {
     "name": "stdout",
     "output_type": "stream",
     "text": [
      "soltest2= [0.18097112 0.80247338 2.61526837], %error[-0.5080695  -0.19752662 -0.03789653]\n"
     ]
    }
   ],
   "source": [
    "from random import random\n",
    "from math import exp\n",
    "import numpy as np\n",
    "\n",
    "def Pb0(t,b0,b1): return (b1-t)/(b1-b0)\n",
    "def Pb1(t,b0,b1): return (t-b0)/(b1-b0)\n",
    "def G(t,s,b0,b1): return -(b1-s)*(t-b0)/(b1-b0) if t<s else - (b1-t)*(s-b0)/(b1-b0) \n",
    "\n",
    "def Y(t,y0,y1,b0,b1): \n",
    "    l = 1.5 # russian roulette rate\n",
    "    if random()*l>1: return Pb0(t,b0,b1)*y0 + Pb1(t,b0,b1)*y1\n",
    "    S = b0+random()*(b1-b0)\n",
    "    return Pb0(t,b0,b1)*y0 + Pb1(t,b0,b1)*y1 + l*G(t,S,b0,b1) * Y(S,y0,y1,b0,b1)*(b1-b0)\n",
    "\n",
    "def X_slow():\n",
    "    l = 1.5 # russian roulette rate\n",
    "    if random()*l>1: return  np.zeros(3)\n",
    "    X = X_slow()\n",
    "    x0 = Y(-1,exp(-2),X[1],-2,0)\n",
    "    x1 = Y(0,X[0],X[2],-1,1)\n",
    "    x2 = Y(1,X[1],exp(2),0,2) \n",
    "    return l*np.array([x0,x1,x2]) \n",
    "\n",
    "def soltest2(nsim): return sum(X_slow() for _ in range(nsim))/nsim\n",
    "grid = np.array([-1,0,1])\n",
    "nsim = 10**2\n",
    "sol = np.exp(grid)\n",
    "ss = soltest2(nsim)\n",
    "print(f\"soltest2= {ss}, %error{(ss-sol)/sol}\")"
   ]
  }
 ],
 "metadata": {
  "kernelspec": {
   "display_name": "base",
   "language": "python",
   "name": "python3"
  },
  "language_info": {
   "codemirror_mode": {
    "name": "ipython",
    "version": 3
   },
   "file_extension": ".py",
   "mimetype": "text/x-python",
   "name": "python",
   "nbconvert_exporter": "python",
   "pygments_lexer": "ipython3",
   "version": "3.9.13"
  },
  "orig_nbformat": 4
 },
 "nbformat": 4,
 "nbformat_minor": 2
}
