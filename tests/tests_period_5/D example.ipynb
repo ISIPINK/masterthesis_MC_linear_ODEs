{
 "cells": [
  {
   "attachments": {},
   "cell_type": "markdown",
   "metadata": {},
   "source": [
    "Lets try to stabilize:\n",
    "$$\n",
    "y'=15y, y(0)= 1.\n",
    "$$ \n",
    "By throwing $15y$ to the other side we would be done.  But we want to use the stabilize technique discussed in last period:\n",
    "$$\n",
    "y' + 15y = 30y .\n",
    "$$ \n",
    "which correspond to following integral equation:\n",
    "$$\n",
    "y(t)= e^{-15t} + \\int_{0}^{t} 30 e^{15(s-t)} y(s)ds.\n",
    "$$ \n",
    "which we implement with russian roulette:"
   ]
  },
  {
   "cell_type": "code",
   "execution_count": 5,
   "metadata": {},
   "outputs": [
    {
     "name": "stdout",
     "output_type": "stream",
     "text": [
      "33674.875\n",
      "-0.9896987775948911\n"
     ]
    }
   ],
   "source": [
    "from random import random\n",
    "from numba import njit, prange\n",
    "from math import exp\n",
    "\n",
    "def Y(t):\n",
    "    if t<1: return 1 + 15*Y(t*random()) if random()<t else 1\n",
    "    return 1 + 15*t*Y(t*random())\n",
    "\n",
    "def solnormal(t,nsim): return sum(Y(t) for _ in range(nsim))/nsim\n",
    "\n",
    "ss = solnormal(1,10**3)\n",
    "sol = exp(1*15)\n",
    "print(ss)\n",
    "print((ss-sol)/sol)"
   ]
  },
  {
   "cell_type": "code",
   "execution_count": 3,
   "metadata": {},
   "outputs": [],
   "source": [
    "from random import random\n",
    "from math import exp\n",
    "from numba import njit, prange\n",
    "\n",
    "@njit(fastmath=True)\n",
    "def Ystab(t):\n",
    "    if random()>t:  return exp(-15.0*t)\n",
    "    S = random()*t\n",
    "    return exp(-15.0*t) + 30.0*exp(15.0*(S-t))*Ystab(S) \n",
    "\n",
    "@njit(fastmath=True, parallel=True)\n",
    "def solnormalstab(t,nsim): \n",
    "    total = 0.0\n",
    "    for _ in prange(nsim):\n",
    "        total += Ystab(t)\n",
    "    return total/nsim"
   ]
  },
  {
   "cell_type": "code",
   "execution_count": 425,
   "metadata": {},
   "outputs": [
    {
     "name": "stdout",
     "output_type": "stream",
     "text": [
      "7.675666734381681\n",
      "-0.9999976519957345\n"
     ]
    }
   ],
   "source": [
    "t,nsim = 1,10**3\n",
    "ss = solnormalstab(t,nsim)\n",
    "sol = exp(15*t)\n",
    "print(ss)\n",
    "print((ss-sol)/sol)"
   ]
  },
  {
   "cell_type": "code",
   "execution_count": 17,
   "metadata": {},
   "outputs": [
    {
     "data": {
      "image/png": "[encoded data removed]",
      "text/plain": [
       "<Figure size 640x480 with 1 Axes>"
      ]
     },
     "metadata": {},
     "output_type": "display_data"
    },
    {
     "name": "stdout",
     "output_type": "stream",
     "text": [
      "st 230.692543071346\n",
      "nrm 183063616\n"
     ]
    }
   ],
   "source": [
    "import matplotlib.pyplot as plt\n",
    "nsim = 10**4\n",
    "stabs = [Ystab(1) for _ in range(nsim)]\n",
    "norms = [Y(1) for _ in range(nsim)]\n",
    "\n",
    "plt.hist(stabs,bins = 100,color =\"blue\",label=\"stab\",alpha=0.7)\n",
    "plt.hist(norms,bins=100,color=\"red\",label=\"norm\",alpha=0.7)\n",
    "plt.legend()\n",
    "plt.show()\n",
    "\n",
    "print(f\"st {max(stabs)}\")\n",
    "print(f\"nrm {max(norms)}\")"
   ]
  },
  {
   "cell_type": "code",
   "execution_count": null,
   "metadata": {},
   "outputs": [],
   "source": [
    "from random import random\n",
    "\n",
    "def X():\n",
    "    if random()<0.5: return 1 if random()<0.5 else 0\n",
    "    return (X()**2 + (1 if random()<0.5 else 0))/2\n",
    "\n",
    "\n",
    "print(X())"
   ]
  }
 ],
 "metadata": {
  "kernelspec": {
   "display_name": "base",
   "language": "python",
   "name": "python3"
  },
  "language_info": {
   "codemirror_mode": {
    "name": "ipython",
    "version": 3
   },
   "file_extension": ".py",
   "mimetype": "text/x-python",
   "name": "python",
   "nbconvert_exporter": "python",
   "pygments_lexer": "ipython3",
   "version": "3.9.13"
  },
  "orig_nbformat": 4
 },
 "nbformat": 4,
 "nbformat_minor": 2
}
