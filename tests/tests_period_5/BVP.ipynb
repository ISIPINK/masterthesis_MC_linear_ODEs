{
 "cells": [
  {
   "attachments": {},
   "cell_type": "markdown",
   "metadata": {},
   "source": [
    "We want to experiment with BVP and RMC for this we need green functions see period2\n",
    "we will be using the green functions of $y''$\n",
    "## boundary green function of $y''$\n",
    "\n",
    "$$\n",
    "\\begin{align*}\n",
    "G''_{b_{0}}(t) &= 0, G(b_{0})=1,G(b_{1})=0 \\Rightarrow \\\\\n",
    "G_{b_{0}}(t) &= \\frac{b_{1}-t}{b_{1}-b_{0}} \\\\   \n",
    "\\end{align*}\n",
    "$$ \n",
    "$$\n",
    "\\begin{align*}\n",
    "G''_{b_{1}}(t) &= 0, G(b_{0})=0,G(b_{1})=1 \\Rightarrow \\\\\n",
    "G_{b1}(t) &= \\frac{t-b_{0}}{b_{1} -b_{0}}\n",
    "\\end{align*}\n",
    "$$\n",
    "\n",
    "\n",
    "## source green function of $y''$\n",
    "$$\n",
    "\\begin{align*}\n",
    "G''_{s}(t) &= \\delta(t-s), G(b_{0})=0,G(b_{1})=0 \\Rightarrow \\\\\n",
    "G_{s}(t) &=    \\begin{cases}\n",
    "        -\\frac{(b_{1}-s)(t-b_{0})}{b_{1}-b_{0}} & \\text{if } t<s\\\\\n",
    "        -\\frac{(b_{1}-t)(s-b_{0})}{b_{1}-b_{0}} & \\text{if } s<t\n",
    "    \\end{cases} \\\\\n",
    "G_{t}(s) &=    \\begin{cases}\n",
    "        -\\frac{(b_{1}-t)(s-b_{0})}{b_{1}-b_{0}} & \\text{if } s<t\\\\\n",
    "        -\\frac{(b_{1}-s)(t-b_{0})}{b_{1}-b_{0}} & \\text{if } t<s\n",
    "    \\end{cases}\n",
    "\\end{align*} \n",
    "$$ \n",
    "\n",
    "## tests of the green function\n",
    "We solve\n",
    "$$\n",
    "y''= y,y(b_{0}), y(b_{1}).\n",
    "$$ \n",
    "to test these green functions are correct\n",
    "\n"
   ]
  },
  {
   "cell_type": "code",
   "execution_count": 197,
   "metadata": {},
   "outputs": [
    {
     "name": "stdout",
     "output_type": "stream",
     "text": [
      "0.036561358882911676\n"
     ]
    }
   ],
   "source": [
    "from random import random\n",
    "from math import exp\n",
    "\n",
    "def Gb0(t,b0,b1): return (b1-t)/(b1-b0)\n",
    "def Gb1(t,b0,b1): return (t-b0)/(b1-b0)\n",
    "def G(t,s,b0,b1): return -(b1-s)*(t-b0)/(b1-b0) if t<s else - (b1-t)*(s-b0)/(b1-b0) \n",
    "\n",
    "def Y(t,y0,y1,b0,b1): \n",
    "    l = 2 # russian roulette rate\n",
    "    if random()*l>1: return Gb0(t,b0,b1)*y0 + Gb1(t,b0,b1)*y1\n",
    "    S = b0+random()*(b1-b0)\n",
    "    return Gb0(t,b0,b1)*y0 + Gb1(t,b0,b1)*y1 + l*G(t,S,b0,b1) * Y(S,y0,y1,b0,b1)*(b1-b0)\n",
    "    \n",
    "def soltest(t,y0,y1,b0,b1,nsim): return sum(Y(t,y0,y1,b0,b1) for _ in range(nsim))/nsim\n",
    "\n",
    "t,nsim = 0,10**2\n",
    "print((soltest(t,exp(-0.5),exp(0.5),-0.5,0.5,nsim)-exp(t))/exp(t))"
   ]
  },
  {
   "attachments": {},
   "cell_type": "markdown",
   "metadata": {},
   "source": [
    "some old text (in the comments)\n",
    "<!-- Lets now do a linear boundary problem:\n",
    "$$\n",
    "y''= y, y(-1)=e^{-1},y(1)=e^{1}.\n",
    "$$ \n",
    "with somekind of RRMC, coupled recursion and recursion on the boundary. To turn this into an integral equation we will use green functions. We will use the green function of $y''$ on $[0,1]$ because we can because we can abuse symmetries (this is a special case of walk on spheres).\n",
    "\n",
    "We will do 2-phase coupled recursion with $y(-0.5),y(0.5)$ and $y(0)$ by integrating over $[-0.5,0.5]$ and $[-1,0],[0,1]$ but lets first test if the translation symmetry works by solving on these domains with exact boundaries. -->"
   ]
  },
  {
   "attachments": {},
   "cell_type": "markdown",
   "metadata": {},
   "source": [
    "Our main example will be solving \n",
    "$$\n",
    "y''=y, y(-1) = e^{-1},y(1)=e .\n",
    "$$\n",
    "on equally spaced grid so we can test convergence stuff. But first will do a subcase of this a grid with $3$ points $[-0.5,0,0.5]$. <br> \n",
    "\n",
    "We will implement this with recursion in recursion. The outer recursion is a coupled recursion of $3$ points and the inner recursion is just regular RMC where we assume we know the value at adjacent points."
   ]
  },
  {
   "cell_type": "code",
   "execution_count": 260,
   "metadata": {},
   "outputs": [
    {
     "name": "stdout",
     "output_type": "stream",
     "text": [
      "soltest2= [0.58966353 0.99372861 1.62955266], %error[-0.0278092  -0.00627139 -0.01162635]\n"
     ]
    }
   ],
   "source": [
    "from random import random\n",
    "from math import exp\n",
    "import numpy as np\n",
    "\n",
    "def Gb0(t,b0,b1): return (b1-t)/(b1-b0)\n",
    "def Gb1(t,b0,b1): return (t-b0)/(b1-b0)\n",
    "def G(t,s,b0,b1): return -(b1-s)*(t-b0)/(b1-b0) if t<s else - (b1-t)*(s-b0)/(b1-b0) \n",
    "\n",
    "def Y(t,y0,y1,b0,b1): \n",
    "    l = 2 # russian roulette rate\n",
    "    if random()*l>1: return Gb0(t,b0,b1)*y0 + Gb1(t,b0,b1)*y1\n",
    "    S = b0+random()*(b1-b0)\n",
    "    return Gb0(t,b0,b1)*y0 + Gb1(t,b0,b1)*y1 + l*G(t,S,b0,b1) * Y(S,y0,y1,b0,b1)*(b1-b0)\n",
    "\n",
    "def X_slow():\n",
    "    l = 1.1 # russian roulette rate\n",
    "    if random()*l>1: return  np.zeros(3)\n",
    "    X = X_slow()\n",
    "    x0 = Y(-0.5,exp(-1),X[1],-1,0)\n",
    "    x1 = Y(0,X[0],X[2],-0.5,0.5)\n",
    "    x2 = Y(0.5,X[1],exp(1),0,1) \n",
    "    return l*np.array([x0,x1,x2]) \n",
    "\n",
    "def soltest2(nsim): return sum(X_slow() for _ in range(nsim))/nsim\n",
    "grid = np.array([-0.5,0,0.5])\n",
    "nsim = 10**3\n",
    "sol = np.exp(grid)\n",
    "ss = soltest2(nsim)\n",
    "print(f\"soltest2= {ss}, %error{(ss-sol)/sol}\")"
   ]
  },
  {
   "attachments": {},
   "cell_type": "markdown",
   "metadata": {},
   "source": [
    "We want to CV the following integral equation:\n",
    "$$\n",
    "\\begin{align*}\n",
    "y(t)&=  G_{b_{0}}(t) y(b_{0}) + G_{b_{1}}(t) y(b_{1}) + \\int_{b_{0}}^{b_{1}} G_{t}(s) f(s)ds \\\\\n",
    "    &=  G_{b_{0}}(t) y(b_{0}) + G_{b_{1}}(t) y(b_{1}) + \\int_{b_{0}}^{b_{1}} G_{t}(s) y(s)ds\n",
    "\\end{align*}\n",
    "$$ \n",
    "Here a is the $0th$-order CV:\n",
    "$$\n",
    "G_{t}(s)y(s) \\approx \\frac{G_{t}(t) (y(b_{0}) +y(b_{1}))}{4}\n",
    "$$ \n",
    "$1st$-order CV:\n",
    "$$\n",
    "y(s)= y(b_{0}) + \\frac{s-b_{0}}{b_{1}-b_{0}} ( y(b_{1})-y(b_{0})).\n",
    "$$ \n",
    "and the green function is piecewise linear. <br>\n",
    "Ok integrating the control variates:\n",
    "$$\n",
    "\\begin{align*}\n",
    "    \n",
    "\\int_{b_{0}}^{b_{1}} \\frac{G_{t}(t) (y(b_{0}) +y(b_{1}))}{4} ds \n",
    "&= \\frac{G_{t}(t) (y(b_{0}) +y(b_{1}))(b_{1}-b_{0})}{4} \\\\\n",
    "\\int_{b_{0}}^{b_{1}} G_{t}(s) \\left(y(b_{0}) + \\frac{s-b_{0}}{b_{1}-b_{0}} ( y(b_{1})-y(b_{0}))  \\right)ds &= \\\\ \n",
    "\\end{align*}\n",
    "\n",
    "$$ \n",
    "\n",
    "\n"
   ]
  },
  {
   "attachments": {},
   "cell_type": "markdown",
   "metadata": {},
   "source": [
    "We did some chatgpt to get:<br>\n",
    "implement the following function in sympy:\n",
    "$$\n",
    "G_{t}(s) =    \\begin{cases}\n",
    "        -\\frac{(b_{1}-t)(s-b_{0})}{b_{1}-b_{0}} & \\text{if } s<t\\\\\n",
    "        -\\frac{(b_{1}-s)(t-b_{0})}{b_{1}-b_{0}} & \\text{if } t<s\n",
    "    \\end{cases}\n",
    "$$\n",
    "where $b_{0},b_{1},t,s$ are parameters"
   ]
  },
  {
   "cell_type": "code",
   "execution_count": 272,
   "metadata": {},
   "outputs": [
    {
     "name": "stdout",
     "output_type": "stream",
     "text": [
      "Piecewise(((b1 - t)/(-b0 + b1), s < t), (-(-b0 + t)/(-b0 + b1), True))\n"
     ]
    }
   ],
   "source": [
    "import sympy as sp\n",
    "\n",
    "def G(s, t, b0, b1):\n",
    "    return sp.Piecewise(\n",
    "        ((b1 - t) * (s - b0) / (b1 - b0), s < t),\n",
    "        ((b1 - s) * (t - b0) / (b1 - b0), t <= s)\n",
    "    )\n",
    "\n",
    "# Second derivative of Gt with respect to s\n",
    "s, t, b0, b1 = sp.symbols('s t b0 b1')\n",
    "Gt_second_deriv = sp.diff(G(s, t, b0, b1), s, 1)\n",
    "\n",
    "# Print the result\n",
    "print(Gt_second_deriv)\n"
   ]
  },
  {
   "attachments": {},
   "cell_type": "markdown",
   "metadata": {},
   "source": [
    "implement to following function in sympy:\n",
    "$$\n",
    "y(s)= y(b_{0}) + \\frac{s-b_{0}}{b_{1}-b_{0}} ( y(b_{1})-y(b_{0})).\n",
    "$$ \n",
    "where $y(b_{0}),y(b_{1}),b_{0},b_{1},t,s$ are parameters"
   ]
  },
  {
   "cell_type": "code",
   "execution_count": 277,
   "metadata": {},
   "outputs": [
    {
     "data": {
      "text/latex": [
       "$\\displaystyle - \\frac{b_{0} y_{b0}}{2} - \\frac{b_{0} y_{b1}}{2} + \\frac{b_{1} y_{b0}}{2} + \\frac{b_{1} y_{b1}}{2}$"
      ],
      "text/plain": [
       "-b0*y_b0/2 - b0*y_b1/2 + b1*y_b0/2 + b1*y_b1/2"
      ]
     },
     "metadata": {},
     "output_type": "display_data"
    }
   ],
   "source": [
    "import sympy as sp\n",
    "\n",
    "def y(s, b0, b1, y_b0, y_b1):\n",
    "    return y_b0 + (s - b0) / (b1 - b0) * (y_b1 - y_b0)\n",
    "\n",
    "s, b0, b1, y_b0, y_b1 = sp.symbols('s b0 b1 y_b0 y_b1')\n",
    "\n",
    "integral = sp.integrate(y(s, b0, b1, y_b0, y_b1), (s, b0, b1))\n",
    "integral = sp.simplify(integral)\n",
    "display(integral)"
   ]
  },
  {
   "attachments": {},
   "cell_type": "markdown",
   "metadata": {},
   "source": [
    "Given:\n",
    "\n",
    "def G(s, t, b0, b1):\n",
    "    return sp.Piecewise(\n",
    "        ((b1 - t) * (s - b0) / (b1 - b0), s < t),\n",
    "        ((b1 - s) * (t - b0) / (b1 - b0), t <= s)\n",
    "    )\n",
    "and \n",
    "\n",
    "def y(s, b0, b1, y_b0, y_b1):\n",
    "    return y_b0 + (s - b0) / (b1 - b0) * (y_b1 - y_b0)\n",
    "\n",
    "integrate G y in s from b0 in b1 in sympy\n"
   ]
  },
  {
   "cell_type": "code",
   "execution_count": 278,
   "metadata": {},
   "outputs": [
    {
     "data": {
      "text/latex": [
       "$\\displaystyle \\begin{cases} \\frac{- b_{0}^{2} b_{1} y_{b0} - 2 b_{0}^{2} b_{1} y_{b1} + b_{0}^{2} t y_{b0} + 2 b_{0}^{2} t y_{b1} + 2 b_{0} b_{1}^{2} y_{b0} + b_{0} b_{1}^{2} y_{b1} - 2 b_{0} b_{1} t y_{b0} + 2 b_{0} b_{1} t y_{b1} - 6 b_{0} t y_{b1} \\min\\left(b_{1}, \\max\\left(b_{0}, t\\right)\\right) + 3 b_{0} y_{b1} \\min\\left(b_{1}, \\max\\left(b_{0}, t\\right)\\right)^{2} - 2 b_{1}^{2} t y_{b0} - b_{1}^{2} t y_{b1} + 6 b_{1} t y_{b0} \\min\\left(b_{1}, \\max\\left(b_{0}, t\\right)\\right) - 3 b_{1} y_{b0} \\min\\left(b_{1}, \\max\\left(b_{0}, t\\right)\\right)^{2} - 3 t y_{b0} \\min\\left(b_{1}, \\max\\left(b_{0}, t\\right)\\right)^{2} + 3 t y_{b1} \\min\\left(b_{1}, \\max\\left(b_{0}, t\\right)\\right)^{2} + 2 y_{b0} \\min\\left(b_{1}, \\max\\left(b_{0}, t\\right)\\right)^{3} - 2 y_{b1} \\min\\left(b_{1}, \\max\\left(b_{0}, t\\right)\\right)^{3}}{6 \\left(b_{0} - b_{1}\\right)} & \\text{for}\\: b_{0} < b_{1} \\\\\\frac{2 b_{0}^{3} y_{b0} + b_{0}^{3} y_{b1} - 4 b_{0}^{2} b_{1} y_{b0} - 2 b_{0}^{2} b_{1} y_{b1} - 2 b_{0}^{2} t y_{b0} - b_{0}^{2} t y_{b1} + 2 b_{0} b_{1}^{2} y_{b0} + 4 b_{0} b_{1}^{2} y_{b1} + 4 b_{0} b_{1} t y_{b0} - 4 b_{0} b_{1} t y_{b1} + 6 b_{0} t y_{b1} \\min\\left(b_{0}, \\max\\left(b_{1}, t\\right)\\right) - 3 b_{0} y_{b1} \\min\\left(b_{0}, \\max\\left(b_{1}, t\\right)\\right)^{2} - b_{1}^{3} y_{b0} - 2 b_{1}^{3} y_{b1} + b_{1}^{2} t y_{b0} + 2 b_{1}^{2} t y_{b1} - 6 b_{1} t y_{b0} \\min\\left(b_{0}, \\max\\left(b_{1}, t\\right)\\right) + 3 b_{1} y_{b0} \\min\\left(b_{0}, \\max\\left(b_{1}, t\\right)\\right)^{2} + 3 t y_{b0} \\min\\left(b_{0}, \\max\\left(b_{1}, t\\right)\\right)^{2} - 3 t y_{b1} \\min\\left(b_{0}, \\max\\left(b_{1}, t\\right)\\right)^{2} - 2 y_{b0} \\min\\left(b_{0}, \\max\\left(b_{1}, t\\right)\\right)^{3} + 2 y_{b1} \\min\\left(b_{0}, \\max\\left(b_{1}, t\\right)\\right)^{3}}{6 \\left(b_{0} - b_{1}\\right)} & \\text{otherwise} \\end{cases}$"
      ],
      "text/plain": [
       "Piecewise(((-b0**2*b1*y_b0 - 2*b0**2*b1*y_b1 + b0**2*t*y_b0 + 2*b0**2*t*y_b1 + 2*b0*b1**2*y_b0 + b0*b1**2*y_b1 - 2*b0*b1*t*y_b0 + 2*b0*b1*t*y_b1 - 6*b0*t*y_b1*Min(b1, Max(b0, t)) + 3*b0*y_b1*Min(b1, Max(b0, t))**2 - 2*b1**2*t*y_b0 - b1**2*t*y_b1 + 6*b1*t*y_b0*Min(b1, Max(b0, t)) - 3*b1*y_b0*Min(b1, Max(b0, t))**2 - 3*t*y_b0*Min(b1, Max(b0, t))**2 + 3*t*y_b1*Min(b1, Max(b0, t))**2 + 2*y_b0*Min(b1, Max(b0, t))**3 - 2*y_b1*Min(b1, Max(b0, t))**3)/(6*(b0 - b1)), b0 < b1), ((2*b0**3*y_b0 + b0**3*y_b1 - 4*b0**2*b1*y_b0 - 2*b0**2*b1*y_b1 - 2*b0**2*t*y_b0 - b0**2*t*y_b1 + 2*b0*b1**2*y_b0 + 4*b0*b1**2*y_b1 + 4*b0*b1*t*y_b0 - 4*b0*b1*t*y_b1 + 6*b0*t*y_b1*Min(b0, Max(b1, t)) - 3*b0*y_b1*Min(b0, Max(b1, t))**2 - b1**3*y_b0 - 2*b1**3*y_b1 + b1**2*t*y_b0 + 2*b1**2*t*y_b1 - 6*b1*t*y_b0*Min(b0, Max(b1, t)) + 3*b1*y_b0*Min(b0, Max(b1, t))**2 + 3*t*y_b0*Min(b0, Max(b1, t))**2 - 3*t*y_b1*Min(b0, Max(b1, t))**2 - 2*y_b0*Min(b0, Max(b1, t))**3 + 2*y_b1*Min(b0, Max(b1, t))**3)/(6*(b0 - b1)), True))"
      ]
     },
     "metadata": {},
     "output_type": "display_data"
    }
   ],
   "source": [
    "import sympy as sp\n",
    "\n",
    "def G(s, t, b0, b1):\n",
    "    return sp.Piecewise(\n",
    "        ((b1 - t) * (s - b0) / (b1 - b0), s < t),\n",
    "        ((b1 - s) * (t - b0) / (b1 - b0), t <= s)\n",
    "    )\n",
    "\n",
    "def y(s, b0, b1, y_b0, y_b1):\n",
    "    return y_b0 + (s - b0) / (b1 - b0) * (y_b1 - y_b0)\n",
    "\n",
    "s, t, b0, b1, y_b0, y_b1 = sp.symbols('s t b0 b1 y_b0 y_b1')\n",
    "\n",
    "integrand = G(s, t, b0, b1) * y(s, b0, b1, y_b0, y_b1)\n",
    "integral = sp.integrate(integrand, (s, b0, b1))\n",
    "integral = sp.simplify(integral)\n",
    "display(integral)"
   ]
  },
  {
   "cell_type": "code",
   "execution_count": 302,
   "metadata": {},
   "outputs": [
    {
     "ename": "TypeError",
     "evalue": "'module' object is not callable",
     "output_type": "error",
     "traceback": [
      "\u001b[1;31m---------------------------------------------------------------------------\u001b[0m",
      "\u001b[1;31mTypeError\u001b[0m                                 Traceback (most recent call last)",
      "\u001b[1;32m~\\AppData\\Local\\Temp\\ipykernel_9916\\1987088049.py\u001b[0m in \u001b[0;36m<module>\u001b[1;34m\u001b[0m\n\u001b[0;32m     11\u001b[0m \u001b[1;33m\u001b[0m\u001b[0m\n\u001b[0;32m     12\u001b[0m \u001b[0ms\u001b[0m\u001b[1;33m,\u001b[0m \u001b[0mt\u001b[0m\u001b[1;33m,\u001b[0m \u001b[0mb0\u001b[0m\u001b[1;33m,\u001b[0m \u001b[0mb1\u001b[0m\u001b[1;33m,\u001b[0m \u001b[0my_b0\u001b[0m\u001b[1;33m,\u001b[0m \u001b[0my_b1\u001b[0m \u001b[1;33m=\u001b[0m \u001b[0msp\u001b[0m\u001b[1;33m.\u001b[0m\u001b[0msymbols\u001b[0m\u001b[1;33m(\u001b[0m\u001b[1;34m's t b0 b1 y_b0 y_b1'\u001b[0m\u001b[1;33m)\u001b[0m\u001b[1;33m\u001b[0m\u001b[1;33m\u001b[0m\u001b[0m\n\u001b[1;32m---> 13\u001b[1;33m \u001b[0msp\u001b[0m\u001b[1;33m.\u001b[0m\u001b[0massumptions\u001b[0m\u001b[1;33m.\u001b[0m\u001b[0massume\u001b[0m\u001b[1;33m(\u001b[0m\u001b[0msp\u001b[0m\u001b[1;33m.\u001b[0m\u001b[0mQ\u001b[0m\u001b[1;33m.\u001b[0m\u001b[0mlt\u001b[0m\u001b[1;33m(\u001b[0m\u001b[0mb0\u001b[0m\u001b[1;33m,\u001b[0m\u001b[0mb1\u001b[0m\u001b[1;33m)\u001b[0m\u001b[1;33m)\u001b[0m\u001b[1;33m\u001b[0m\u001b[1;33m\u001b[0m\u001b[0m\n\u001b[0m\u001b[0;32m     14\u001b[0m \u001b[1;32mwith\u001b[0m \u001b[0msp\u001b[0m\u001b[1;33m.\u001b[0m\u001b[0massuming\u001b[0m\u001b[1;33m(\u001b[0m\u001b[1;33m)\u001b[0m\u001b[1;33m:\u001b[0m\u001b[1;33m\u001b[0m\u001b[1;33m\u001b[0m\u001b[0m\n\u001b[0;32m     15\u001b[0m     \u001b[0mintegrand\u001b[0m \u001b[1;33m=\u001b[0m \u001b[0mG\u001b[0m\u001b[1;33m(\u001b[0m\u001b[0ms\u001b[0m\u001b[1;33m,\u001b[0m \u001b[0mt\u001b[0m\u001b[1;33m,\u001b[0m \u001b[0mb0\u001b[0m\u001b[1;33m,\u001b[0m \u001b[0mb1\u001b[0m\u001b[1;33m)\u001b[0m \u001b[1;33m*\u001b[0m \u001b[0my\u001b[0m\u001b[1;33m(\u001b[0m\u001b[0ms\u001b[0m\u001b[1;33m,\u001b[0m \u001b[0mb0\u001b[0m\u001b[1;33m,\u001b[0m \u001b[0mb1\u001b[0m\u001b[1;33m,\u001b[0m \u001b[0my_b0\u001b[0m\u001b[1;33m,\u001b[0m \u001b[0my_b1\u001b[0m\u001b[1;33m)\u001b[0m\u001b[1;33m\u001b[0m\u001b[1;33m\u001b[0m\u001b[0m\n",
      "\u001b[1;31mTypeError\u001b[0m: 'module' object is not callable"
     ]
    }
   ],
   "source": [
    "import sympy as sp\n",
    "\n",
    "def G(s, t, b0, b1):\n",
    "    return sp.Piecewise(\n",
    "        ((b1 - t) * (s - b0) / (b1 - b0), s < t),\n",
    "        ((b1 - s) * (t - b0) / (b1 - b0), t <= s)\n",
    "    )\n",
    "\n",
    "def y(s, b0, b1, y_b0, y_b1):\n",
    "    return y_b0 + (s - b0) / (b1 - b0) * (y_b1 - y_b0)\n",
    "\n",
    "s, t, b0, b1, y_b0, y_b1 = sp.symbols('s t b0 b1 y_b0 y_b1')\n",
    "sp.assumptions.assume(sp.Q.lt(b0,b1))\n",
    "with sp.assuming():\n",
    "    integrand = G(s, t, b0, b1) * y(s, b0, b1, y_b0, y_b1)\n",
    "    integral = sp.integrate(integrand, (s, b0, b1))\n",
    "    integral = sp.simplify(integral)\n",
    "    display(integral)\n",
    "\n",
    "\n"
   ]
  },
  {
   "cell_type": "code",
   "execution_count": 322,
   "metadata": {},
   "outputs": [
    {
     "name": "stdout",
     "output_type": "stream",
     "text": [
      "Min(x, y)\n"
     ]
    }
   ],
   "source": [
    "import sympy as sp\n",
    "\n",
    "x, y = sp.symbols('x y')\n",
    "expr = sp.Min(x, y)\n",
    "\n",
    "assumption = sp.Q.lt(thu)\n",
    "\n",
    "simplified_expr = sp.simplify(expr, assumptions=assumption)\n",
    "print(simplified_expr)  # prints x\n"
   ]
  },
  {
   "cell_type": "code",
   "execution_count": null,
   "metadata": {},
   "outputs": [],
   "source": [
    "from random import random\n",
    "from math import exp\n",
    "\n",
    "def Gb0(t,b0,b1): return (b1-t)/(b1-b0)\n",
    "def Gb1(t,b0,b1): return (t-b0)/(b1-b0)\n",
    "def G(t,s,b0,b1): return -(b1-s)*(t-b0)/(b1-b0) if t<s else - (b1-t)*(s-b0)/(b1-b0) \n",
    "\n",
    "def Y(t,y0,y1,b0,b1): \n",
    "    l = 2 # russian roulette rate\n",
    "    if random()*l>1: return Gb0(t,b0,b1)*y0 + Gb1(t,b0,b1)*y1\n",
    "    S = b0+random()*(b1-b0)\n",
    "    return Gb0(t,b0,b1)*y0 + Gb1(t,b0,b1)*y1 + l*G(t,S,b0,b1) * Y(S,y0,y1,b0,b1)*(b1-b0)\n",
    "    \n",
    "def soltest(t,y0,y1,b0,b1,nsim): return sum(Y(t,y0,y1,b0,b1) for _ in range(nsim))/nsim\n",
    "\n",
    "t,nsim = 0,10**2\n",
    "print((soltest(t,exp(-0.5),exp(0.5),-0.5,0.5,nsim)-exp(t))/exp(t))"
   ]
  }
 ],
 "metadata": {
  "kernelspec": {
   "display_name": "base",
   "language": "python",
   "name": "python3"
  },
  "language_info": {
   "codemirror_mode": {
    "name": "ipython",
    "version": 3
   },
   "file_extension": ".py",
   "mimetype": "text/x-python",
   "name": "python",
   "nbconvert_exporter": "python",
   "pygments_lexer": "ipython3",
   "version": "3.9.13"
  },
  "orig_nbformat": 4
 },
 "nbformat": 4,
 "nbformat_minor": 2
}
