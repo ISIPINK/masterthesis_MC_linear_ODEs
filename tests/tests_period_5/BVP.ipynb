{
 "cells": [
  {
   "attachments": {},
   "cell_type": "markdown",
   "metadata": {},
   "source": [
    "Following code solves :\n",
    "$$\n",
    "y'' = y, y(0)= 1, y(1)= e.\n",
    "$$ \n"
   ]
  },
  {
   "cell_type": "code",
   "execution_count": 68,
   "metadata": {},
   "outputs": [
    {
     "name": "stdout",
     "output_type": "stream",
     "text": [
      "0.0038725513671424715\n"
     ]
    }
   ],
   "source": [
    "from random import random\n",
    "from math import exp\n",
    "\n",
    "def Gb0(t): return 1-t\n",
    "def Gb1(t): return t\n",
    "def G(t,s): return (s-1)*t if t<s else s*(t-1)\n",
    "\n",
    "def Y(t,b0,b1): \n",
    "    U = random()\n",
    "    if random()<0.5:\n",
    "        return Gb0(t)*b0 + Gb1(t)*b1 + 2*G(t,U) * Y(U,b0,b1) \n",
    "    return Gb0(t)*b0 + Gb1(t)*b1\n",
    "\n",
    "def sol(t,b0,b1,nsim): return sum(Y(t,b0,b1) for _ in range(nsim))/nsim\n",
    "\n",
    "t = 0.5\n",
    "nsim = 10**2\n",
    "print((sol(t,1,exp(1),nsim)-exp(t))/exp(t))"
   ]
  },
  {
   "attachments": {},
   "cell_type": "markdown",
   "metadata": {},
   "source": [
    "Now we want to use these green functions to solve\n",
    "\n",
    "$$\n",
    "z''(l) = \\tilde{f}(l,z(l)), z(l_{0}),z(l_{1}).\n",
    "$$ \n",
    "\n",
    "The easy way to see how this is possible is by following substitution (ok we aren't sure this $100\\%$ right):\n",
    "$$\n",
    "\\begin{align*}\n",
    "l &= l_{0} + t (l_{1} - l_{0}) \\\\\n",
    "\\end{align*}\n",
    "."
   ]
  },
  {
   "cell_type": "code",
   "execution_count": null,
   "metadata": {},
   "outputs": [],
   "source": []
  }
 ],
 "metadata": {
  "kernelspec": {
   "display_name": "base",
   "language": "python",
   "name": "python3"
  },
  "language_info": {
   "codemirror_mode": {
    "name": "ipython",
    "version": 3
   },
   "file_extension": ".py",
   "mimetype": "text/x-python",
   "name": "python",
   "nbconvert_exporter": "python",
   "pygments_lexer": "ipython3",
   "version": "3.9.13"
  },
  "orig_nbformat": 4
 },
 "nbformat": 4,
 "nbformat_minor": 2
}
