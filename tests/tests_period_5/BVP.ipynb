{
 "cells": [
  {
   "attachments": {},
   "cell_type": "markdown",
   "metadata": {},
   "source": [
    "We want to experiment with BVP and RMC for this we need green functions see period2\n",
    "we will be using the green functions of $y''$\n",
    "## boundary green function of $y''$\n",
    "\n",
    "$$\n",
    "\\begin{align*}\n",
    "G''_{b_{0}}(t) &= 0, G(b_{0})=1,G(b_{1})=0 \\Rightarrow \\\\\n",
    "G_{b_{0}}(t) &= \\frac{b_{1}-t}{b_{1}-b_{0}} \\\\   \n",
    "\\end{align*}\n",
    "$$ \n",
    "$$\n",
    "\\begin{align*}\n",
    "G''_{b_{1}}(t) &= 0, G(b_{0})=0,G(b_{1})=1 \\Rightarrow \\\\\n",
    "G_{b1}(t) &= \\frac{t-b_{0}}{b_{1} -b_{0}}\n",
    "\\end{align*}\n",
    "$$\n",
    "\n",
    "\n",
    "## source green function of $y''$\n",
    "$$\n",
    "\\begin{align*}\n",
    "G''_{s}(t) &= \\delta(t-s), G(b_{0})=0,G(b_{1})=0 \\Rightarrow \\\\\n",
    "G_{s}(t) &=    \\begin{cases}\n",
    "        -\\frac{(b_{1}-s)(t-b_{0})}{b_{1}-b_{0}} & \\text{if } t<s\\\\\n",
    "        -\\frac{(b_{1}-t)(s-b_{0})}{b_{1}-b_{0}} & \\text{if } s<t\n",
    "    \\end{cases}\n",
    "\\end{align*}\n",
    "$$ \n",
    "\n",
    "## tests of the green function\n",
    "We solve\n",
    "$$\n",
    "y''= y,y(b_{0}), y(b_{1}).\n",
    "$$ \n",
    "to test these green functions are correct\n",
    "\n"
   ]
  },
  {
   "cell_type": "code",
   "execution_count": 382,
   "metadata": {},
   "outputs": [
    {
     "name": "stdout",
     "output_type": "stream",
     "text": [
      "0.0046536961596754635\n"
     ]
    }
   ],
   "source": [
    "from random import random\n",
    "from math import exp\n",
    "\n",
    "def Gb0(t,b0,b1): return (b1-t)/(b1-b0)\n",
    "def Gb1(t,b0,b1): return (t-b0)/(b1-b0)\n",
    "def G(t,s,b0,b1): return -(b1-s)*(t-b0)/(b1-b0) if t<s else - (b1-t)*(s-b0)/(b1-b0) \n",
    "\n",
    "def Y(t,y0,y1,b0,b1): \n",
    "    l = 2 # russian roulette rate\n",
    "    if random()*l>1: return Gb0(t,b0,b1)*y0 + Gb1(t,b0,b1)*y1\n",
    "    S = random()\n",
    "    return Gb0(t,b0,b1)*y0 + Gb1(t,b0,b1)*y1 + l*G(t,S,b0,b1) * Y(S,y0,y1,b0,b1)*(b1-b0)\n",
    "    \n",
    "def soltest(t,y0,y1,b0,b1,nsim): return sum(Y(t,y0,y1,b0,b1) for _ in range(nsim))/nsim\n",
    "\n",
    "t,nsim = 0.5,10**4\n",
    "print((soltest(t,1,exp(2),0,2,nsim)-exp(t))/exp(t))"
   ]
  },
  {
   "attachments": {},
   "cell_type": "markdown",
   "metadata": {},
   "source": [
    "some old text (in the comments)\n",
    "<!-- Lets now do a linear boundary problem:\n",
    "$$\n",
    "y''= y, y(-1)=e^{-1},y(1)=e^{1}.\n",
    "$$ \n",
    "with somekind of RRMC, coupled recursion and recursion on the boundary. To turn this into an integral equation we will use green functions. We will use the green function of $y''$ on $[0,1]$ because we can because we can abuse symmetries (this is a special case of walk on spheres).\n",
    "\n",
    "We will do 2-phase coupled recursion with $y(-0.5),y(0.5)$ and $y(0)$ by integrating over $[-0.5,0.5]$ and $[-1,0],[0,1]$ but lets first test if the translation symmetry works by solving on these domains with exact boundaries. -->"
   ]
  },
  {
   "attachments": {},
   "cell_type": "markdown",
   "metadata": {},
   "source": [
    "Our main example will be solving \n",
    "$$\n",
    "y''=y, y(-1) = e^{-1},y(1)=e .\n",
    "$$\n",
    "on equally spaced grid so we can test convergence stuff. But first will do a subcase of this a grid with $3$ points $[-0.5,0,0.5]$. <br> \n",
    "\n",
    "We will implement this with recursion in recursion. The outer recursion is a coupled recursion of $3$ points and the inner recursion is just regular RMC where we assume we know the value at adjacent points."
   ]
  },
  {
   "cell_type": "code",
   "execution_count": 402,
   "metadata": {},
   "outputs": [
    {
     "name": "stdout",
     "output_type": "stream",
     "text": [
      "[13.04397704  2.98590874  2.1999369 ]\n"
     ]
    }
   ],
   "source": [
    "from random import random\n",
    "from math import exp\n",
    "import numpy as np\n",
    "\n",
    "def Gb0(t,b0,b1): return (b1-t)/(b1-b0)\n",
    "def Gb1(t,b0,b1): return (t-b0)/(b1-b0)\n",
    "def G(t,s,b0,b1): return -(b1-s)*(t-b0)/(b1-b0) if t<s else - (b1-t)*(s-b0)/(b1-b0) \n",
    "\n",
    "def Y(t,y0,y1,b0,b1): \n",
    "    l = 2 # russian roulette rate\n",
    "    if random()*l>1: return Gb0(t,b0,b1)*y0 + Gb1(t,b0,b1)*y1\n",
    "    S = random()\n",
    "    return Gb0(t,b0,b1)*y0 + Gb1(t,b0,b1)*y1 + l*G(t,S,b0,b1) * Y(S,y0,y1,b0,b1)*(b1-b0)\n",
    "\n",
    "def X_slow():\n",
    "    l = 2 # russian roulette rate\n",
    "    if random()*l>1: return  np.zeros(3)\n",
    "    X = X_slow()\n",
    "    x0 = soltest(t,exp(-1),X[1],-1,0,1)\n",
    "    x1 = soltest(t,X[0],X[2],-0.5,0.5,1)\n",
    "    x2 = soltest(t,X[1],exp(1),0,1,1)\n",
    "    \"\"\"     x0 = Y(t,exp(-1),X[1],-1,0)\n",
    "    x1 = Y(t,X[0],X[2],-0.5,0.5)\n",
    "    x2 = Y(t,X[1],exp(1),0,1) \"\"\"\n",
    "    return l*np.array([x0,x1,x2])\n",
    "\n",
    "def soltest2(nsim): return sum(X_slow() for _ in range(nsim))/nsim\n",
    "nsim = 10**3\n",
    "print(soltest2(nsim))"
   ]
  }
 ],
 "metadata": {
  "kernelspec": {
   "display_name": "base",
   "language": "python",
   "name": "python3"
  },
  "language_info": {
   "codemirror_mode": {
    "name": "ipython",
    "version": 3
   },
   "file_extension": ".py",
   "mimetype": "text/x-python",
   "name": "python",
   "nbconvert_exporter": "python",
   "pygments_lexer": "ipython3",
   "version": "3.9.13"
  },
  "orig_nbformat": 4
 },
 "nbformat": 4,
 "nbformat_minor": 2
}
