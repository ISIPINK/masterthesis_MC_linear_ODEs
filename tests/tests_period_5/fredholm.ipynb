{
 "cells": [
  {
   "attachments": {},
   "cell_type": "markdown",
   "metadata": {},
   "source": [
    "# simple Fredholms equations\n",
    "check:https://www.colorado.edu/amath/sites/default/files/attached-files/fredholm.pdf\n",
    "## Example 1\n",
    "$$\n",
    "f(x)=1+\\int_0^1 x f(y) d y\n",
    "$$\n",
    "this has solution:\n",
    "$$\n",
    "f(x)= 1 + 2x.\n",
    "$$ \n",
    "\n",
    "## Example 2\n",
    "\n",
    "$$\n",
    "f(x)=\\sin x+\\int_0^{\\pi / 2} \\sin x \\cos y f(y) d y\n",
    "$$\n",
    "this has solution:\n",
    "$$\n",
    "2sin(x).\n",
    "$$ \n",
    "\n"
   ]
  }
 ],
 "metadata": {
  "language_info": {
   "name": "python"
  },
  "orig_nbformat": 4
 },
 "nbformat": 4,
 "nbformat_minor": 2
}
