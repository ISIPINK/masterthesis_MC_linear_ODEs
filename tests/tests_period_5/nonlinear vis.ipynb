{
 "cells": [
  {
   "cell_type": "code",
   "execution_count": 87,
   "metadata": {},
   "outputs": [],
   "source": [
    "from random import random\n",
    "from math import exp,pow\n",
    "import matplotlib.pyplot as plt\n",
    "import numpy as np\n",
    "from numba import njit, prange\n",
    "\n",
    "#@njit(fastmath=True)\n",
    "def nY_fast(t, T, yT,dyT, DT,l):\n",
    "    sol = yT # initial conditon\n",
    "    sol += t**2-T**2 -(t**5-T**5)/5 # source  \n",
    "    sol += (t-T)*yT**2 # 0 order control\n",
    "    sol += 2*((t**2-T**2)/2 - T*(t-T))*yT*dyT # 1 order control\n",
    "    #l = 10 # >1 russian roulette parameter \n",
    "    if random()*l < (t-T)/DT:\n",
    "        S = T + random()*(t-T)  # \\sim Uniform(T,t)\n",
    "        sol += l*DT*(nY_fast(S, T, yT, dyT, DT,l)*nY_fast(S, T, yT, dyT, DT,l) -yT**2-2*(S-T)*yT*dyT) \n",
    "        global nrec\n",
    "        nrec+=1\n",
    "    return sol \n",
    "\n",
    "\n",
    "#@njit(fastmath=True)\n",
    "def nY_slow(T, DT: \"step size slow recursion\",l):\n",
    "    y,t = 0,0\n",
    "    while t<T:\n",
    "        tt = t+DT if t+DT<T else T\n",
    "        dy = y**2 -t**4+2*t \n",
    "        y = nY_fast(tt, t, y,dy, tt-t,l) \n",
    "        t=tt\n",
    "        global points\n",
    "        points += [(t,y)]\n",
    "    return y\n",
    "\n",
    "\n",
    "@njit(fastmath=True, parallel=True)\n",
    "def nsol(T, DT, nsim ):\n",
    "    total = 0.0\n",
    "    for _ in prange(nsim):\n",
    "        total += nY_slow(T,DT)\n",
    "    return total/nsim"
   ]
  },
  {
   "cell_type": "code",
   "execution_count": 89,
   "metadata": {},
   "outputs": [
    {
     "ename": "TypeError",
     "evalue": "nY_fast() missing 1 required positional argument: 'l'",
     "output_type": "error",
     "traceback": [
      "\u001b[1;31m---------------------------------------------------------------------------\u001b[0m",
      "\u001b[1;31mTypeError\u001b[0m                                 Traceback (most recent call last)",
      "\u001b[1;32m~\\AppData\\Local\\Temp\\ipykernel_2388\\729691858.py\u001b[0m in \u001b[0;36m<module>\u001b[1;34m\u001b[0m\n\u001b[0;32m      4\u001b[0m \u001b[1;33m\u001b[0m\u001b[0m\n\u001b[0;32m      5\u001b[0m \u001b[1;32mfor\u001b[0m \u001b[0m_\u001b[0m \u001b[1;32min\u001b[0m \u001b[0mrange\u001b[0m\u001b[1;33m(\u001b[0m\u001b[0mnsim\u001b[0m\u001b[1;33m)\u001b[0m\u001b[1;33m:\u001b[0m\u001b[1;33m\u001b[0m\u001b[1;33m\u001b[0m\u001b[0m\n\u001b[1;32m----> 6\u001b[1;33m     \u001b[0mnY_slow\u001b[0m\u001b[1;33m(\u001b[0m\u001b[1;36m1\u001b[0m\u001b[1;33m,\u001b[0m\u001b[1;36m0.2\u001b[0m\u001b[1;33m,\u001b[0m\u001b[1;36m10\u001b[0m\u001b[1;33m)\u001b[0m\u001b[1;33m\u001b[0m\u001b[1;33m\u001b[0m\u001b[0m\n\u001b[0m\u001b[0;32m      7\u001b[0m \u001b[0mx\u001b[0m\u001b[1;33m,\u001b[0m\u001b[0my\u001b[0m \u001b[1;33m=\u001b[0m \u001b[0mzip\u001b[0m\u001b[1;33m(\u001b[0m\u001b[1;33m*\u001b[0m\u001b[0mpoints\u001b[0m\u001b[1;33m)\u001b[0m\u001b[1;33m\u001b[0m\u001b[1;33m\u001b[0m\u001b[0m\n\u001b[0;32m      8\u001b[0m \u001b[0mx\u001b[0m \u001b[1;33m=\u001b[0m \u001b[0mnp\u001b[0m\u001b[1;33m.\u001b[0m\u001b[0marray\u001b[0m\u001b[1;33m(\u001b[0m\u001b[0mx\u001b[0m\u001b[1;33m)\u001b[0m\u001b[1;33m+\u001b[0m\u001b[1;36m0.03\u001b[0m\u001b[1;33m\u001b[0m\u001b[1;33m\u001b[0m\u001b[0m\n",
      "\u001b[1;32m~\\AppData\\Local\\Temp\\ipykernel_2388\\110635104.py\u001b[0m in \u001b[0;36mnY_slow\u001b[1;34m(T, DT, l)\u001b[0m\n\u001b[0;32m     26\u001b[0m         \u001b[0mtt\u001b[0m \u001b[1;33m=\u001b[0m \u001b[0mt\u001b[0m\u001b[1;33m+\u001b[0m\u001b[0mDT\u001b[0m \u001b[1;32mif\u001b[0m \u001b[0mt\u001b[0m\u001b[1;33m+\u001b[0m\u001b[0mDT\u001b[0m\u001b[1;33m<\u001b[0m\u001b[0mT\u001b[0m \u001b[1;32melse\u001b[0m \u001b[0mT\u001b[0m\u001b[1;33m\u001b[0m\u001b[1;33m\u001b[0m\u001b[0m\n\u001b[0;32m     27\u001b[0m         \u001b[0mdy\u001b[0m \u001b[1;33m=\u001b[0m \u001b[0my\u001b[0m\u001b[1;33m**\u001b[0m\u001b[1;36m2\u001b[0m \u001b[1;33m-\u001b[0m\u001b[0mt\u001b[0m\u001b[1;33m**\u001b[0m\u001b[1;36m4\u001b[0m\u001b[1;33m+\u001b[0m\u001b[1;36m2\u001b[0m\u001b[1;33m*\u001b[0m\u001b[0mt\u001b[0m\u001b[1;33m\u001b[0m\u001b[1;33m\u001b[0m\u001b[0m\n\u001b[1;32m---> 28\u001b[1;33m         \u001b[0my\u001b[0m \u001b[1;33m=\u001b[0m \u001b[0mnY_fast\u001b[0m\u001b[1;33m(\u001b[0m\u001b[0mtt\u001b[0m\u001b[1;33m,\u001b[0m \u001b[0mt\u001b[0m\u001b[1;33m,\u001b[0m \u001b[0my\u001b[0m\u001b[1;33m,\u001b[0m\u001b[0mdy\u001b[0m\u001b[1;33m,\u001b[0m \u001b[0mtt\u001b[0m\u001b[1;33m-\u001b[0m\u001b[0mt\u001b[0m\u001b[1;33m,\u001b[0m\u001b[0ml\u001b[0m\u001b[1;33m)\u001b[0m\u001b[1;33m\u001b[0m\u001b[1;33m\u001b[0m\u001b[0m\n\u001b[0m\u001b[0;32m     29\u001b[0m         \u001b[0mt\u001b[0m\u001b[1;33m=\u001b[0m\u001b[0mtt\u001b[0m\u001b[1;33m\u001b[0m\u001b[1;33m\u001b[0m\u001b[0m\n\u001b[0;32m     30\u001b[0m         \u001b[1;32mglobal\u001b[0m \u001b[0mpoints\u001b[0m\u001b[1;33m\u001b[0m\u001b[1;33m\u001b[0m\u001b[0m\n",
      "\u001b[1;32m~\\AppData\\Local\\Temp\\ipykernel_2388\\110635104.py\u001b[0m in \u001b[0;36mnY_fast\u001b[1;34m(t, T, yT, dyT, DT, l)\u001b[0m\n\u001b[0;32m     14\u001b[0m     \u001b[1;32mif\u001b[0m \u001b[0mrandom\u001b[0m\u001b[1;33m(\u001b[0m\u001b[1;33m)\u001b[0m\u001b[1;33m*\u001b[0m\u001b[0ml\u001b[0m \u001b[1;33m<\u001b[0m \u001b[1;33m(\u001b[0m\u001b[0mt\u001b[0m\u001b[1;33m-\u001b[0m\u001b[0mT\u001b[0m\u001b[1;33m)\u001b[0m\u001b[1;33m/\u001b[0m\u001b[0mDT\u001b[0m\u001b[1;33m:\u001b[0m\u001b[1;33m\u001b[0m\u001b[1;33m\u001b[0m\u001b[0m\n\u001b[0;32m     15\u001b[0m         \u001b[0mS\u001b[0m \u001b[1;33m=\u001b[0m \u001b[0mT\u001b[0m \u001b[1;33m+\u001b[0m \u001b[0mrandom\u001b[0m\u001b[1;33m(\u001b[0m\u001b[1;33m)\u001b[0m\u001b[1;33m*\u001b[0m\u001b[1;33m(\u001b[0m\u001b[0mt\u001b[0m\u001b[1;33m-\u001b[0m\u001b[0mT\u001b[0m\u001b[1;33m)\u001b[0m  \u001b[1;31m# \\sim Uniform(T,t)\u001b[0m\u001b[1;33m\u001b[0m\u001b[1;33m\u001b[0m\u001b[0m\n\u001b[1;32m---> 16\u001b[1;33m         \u001b[0msol\u001b[0m \u001b[1;33m+=\u001b[0m \u001b[0ml\u001b[0m\u001b[1;33m*\u001b[0m\u001b[0mDT\u001b[0m\u001b[1;33m*\u001b[0m\u001b[1;33m(\u001b[0m\u001b[0mnY_fast\u001b[0m\u001b[1;33m(\u001b[0m\u001b[0mS\u001b[0m\u001b[1;33m,\u001b[0m \u001b[0mT\u001b[0m\u001b[1;33m,\u001b[0m \u001b[0myT\u001b[0m\u001b[1;33m,\u001b[0m \u001b[0mdyT\u001b[0m\u001b[1;33m,\u001b[0m \u001b[0mDT\u001b[0m\u001b[1;33m)\u001b[0m\u001b[1;33m*\u001b[0m\u001b[0mnY_fast\u001b[0m\u001b[1;33m(\u001b[0m\u001b[0mS\u001b[0m\u001b[1;33m,\u001b[0m \u001b[0mT\u001b[0m\u001b[1;33m,\u001b[0m \u001b[0myT\u001b[0m\u001b[1;33m,\u001b[0m \u001b[0mdyT\u001b[0m\u001b[1;33m,\u001b[0m \u001b[0mDT\u001b[0m\u001b[1;33m)\u001b[0m \u001b[1;33m-\u001b[0m\u001b[0myT\u001b[0m\u001b[1;33m**\u001b[0m\u001b[1;36m2\u001b[0m\u001b[1;33m-\u001b[0m\u001b[1;36m2\u001b[0m\u001b[1;33m*\u001b[0m\u001b[1;33m(\u001b[0m\u001b[0mS\u001b[0m\u001b[1;33m-\u001b[0m\u001b[0mT\u001b[0m\u001b[1;33m)\u001b[0m\u001b[1;33m*\u001b[0m\u001b[0myT\u001b[0m\u001b[1;33m*\u001b[0m\u001b[0mdyT\u001b[0m\u001b[1;33m)\u001b[0m\u001b[1;33m\u001b[0m\u001b[1;33m\u001b[0m\u001b[0m\n\u001b[0m\u001b[0;32m     17\u001b[0m         \u001b[1;32mglobal\u001b[0m \u001b[0mnrec\u001b[0m\u001b[1;33m\u001b[0m\u001b[1;33m\u001b[0m\u001b[0m\n\u001b[0;32m     18\u001b[0m         \u001b[0mnrec\u001b[0m\u001b[1;33m+=\u001b[0m\u001b[1;36m1\u001b[0m\u001b[1;33m\u001b[0m\u001b[1;33m\u001b[0m\u001b[0m\n",
      "\u001b[1;31mTypeError\u001b[0m: nY_fast() missing 1 required positional argument: 'l'"
     ]
    }
   ],
   "source": [
    "nsim = 64\n",
    "points =[] \n",
    "nrec =0\n",
    "\n",
    "for _ in range(nsim):\n",
    "    nY_slow(1,0.2,10)\n",
    "x,y = zip(*points)\n",
    "x = np.array(x)+0.03\n",
    "plt.scatter(x,y,color=\"blue\")\n",
    "print(f\"average nrec={nrec/nsim}\")\n",
    "\n",
    "points =[] \n",
    "nrec =0\n",
    "for _ in range(64):\n",
    "    nY_slow(1,0.2/3,10)\n",
    "x,y = zip(*points)\n",
    "plt.scatter(x,y,color=\"green\")\n",
    "print(f\"average nrec={nrec/(3*nsim)}\")\n",
    "\n",
    "points =[] \n",
    "nrec =0\n",
    "\n",
    "for _ in range(nsim):\n",
    "    nY_slow(1,0.2,0)\n",
    "x,y = zip(*points)\n",
    "x = np.array(x)+0.03\n",
    "plt.scatter(x,y,color=\"yellow\")\n",
    "print(f\"average nrec={nrec/nsim}\")\n",
    "\n",
    "\n",
    "ll = np.arange(0,1,0.01)\n",
    "plt.plot(ll,ll**2,color =\"red\")\n",
    "\n",
    "plt.show()\n"
   ]
  }
 ],
 "metadata": {
  "kernelspec": {
   "display_name": "base",
   "language": "python",
   "name": "python3"
  },
  "language_info": {
   "codemirror_mode": {
    "name": "ipython",
    "version": 3
   },
   "file_extension": ".py",
   "mimetype": "text/x-python",
   "name": "python",
   "nbconvert_exporter": "python",
   "pygments_lexer": "ipython3",
   "version": "3.9.13"
  },
  "orig_nbformat": 4,
  "vscode": {
   "interpreter": {
    "hash": "2043299c89c8cd0b4d1a6f5cf4529bd58e6a4e0fe3181a25e0d328c821cdc5c5"
   }
  }
 },
 "nbformat": 4,
 "nbformat_minor": 2
}
