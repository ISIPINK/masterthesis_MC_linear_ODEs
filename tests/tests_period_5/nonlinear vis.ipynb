{
 "cells": [
  {
   "cell_type": "code",
   "execution_count": 1,
   "metadata": {},
   "outputs": [],
   "source": [
    "from random import random\n",
    "from math import exp,pow\n",
    "import matplotlib.pyplot as plt\n",
    "import numpy as np\n",
    "from numba import njit, prange\n",
    "\n",
    "#@njit(fastmath=True)\n",
    "def nY_fast(t, tn, yn,dyn, D,l):\n",
    "    sol = yn # initial conditon\n",
    "    sol += t**2-tn**2 -(t**5-tn**5)/5 # source  \n",
    "    sol += (t-tn)*yn**2 # 0 order control\n",
    "    sol += 2*((t**2-tn**2)/2 - tn*(t-tn))*yn*dyn # 1 order control\n",
    "    #l = 10 # >1 russian roulette parameter \n",
    "    if random()*l < (t-tn)/D:\n",
    "        S = tn + random()*(t-tn)  # \\sim Uniform(T,t)\n",
    "        sol += l*D*(nY_fast(S, tn, yn, dyn, D,l)*nY_fast(S, tn, yn, dyn, D,l)\n",
    "                     -yn**2-2*(S-tn)*yn*dyn) \n",
    "        global nrec\n",
    "        nrec+=1\n",
    "    return sol \n",
    "\n",
    "\n",
    "#@njit(fastmath=True)\n",
    "def nY_slow(t, D: \"step size slow recursion\",l):\n",
    "    yn,tn = 0,0\n",
    "    while tn<t:\n",
    "        tt = tn+D if tn+D<t else t\n",
    "        dyn = yn**2 -tn**4+2*tn \n",
    "        yn = nY_fast(tt, tn, yn,dyn, tt-tn,l) \n",
    "        tn=tt\n",
    "        global points\n",
    "        points += [(tn,yn)]\n",
    "    return yn\n",
    "\n",
    "\n",
    "@njit(fastmath=True, parallel=True)\n",
    "def nsol(T, DT, nsim ):\n",
    "    total = 0.0\n",
    "    for _ in prange(nsim):\n",
    "        total += nY_slow(T,DT)\n",
    "    return total/nsim"
   ]
  },
  {
   "cell_type": "code",
   "execution_count": 12,
   "metadata": {},
   "outputs": [
    {
     "name": "stdout",
     "output_type": "stream",
     "text": [
      "average nrec=5.0\n",
      "average nrec=4.7\n",
      "average nrec=0.0\n",
      "average nrec=0.0\n"
     ]
    },
    {
     "data": {
      "image/png": "[encoded data removed]",
      "text/plain": [
       "<Figure size 640x480 with 1 Axes>"
      ]
     },
     "metadata": {},
     "output_type": "display_data"
    }
   ],
   "source": [
    "nsim = 10\n",
    "s = 10\n",
    "l=2\n",
    "k = 3\n",
    "points =[] \n",
    "nrec =0\n",
    "\n",
    "for _ in range(nsim):\n",
    "    nY_slow(1,0.2,l)\n",
    "x,yn = zip(*points)\n",
    "x = np.array(x)\n",
    "yn = np.array(yn)-x**2\n",
    "plt.scatter(x,yn,color=\"blue\",s=s,label=f\"l={l},D=0.2\")\n",
    "print(f\"average nrec={nrec/nsim}\")\n",
    "\n",
    "points =[] \n",
    "nrec =0\n",
    "for _ in range(nsim):\n",
    "    nY_slow(1,0.2/k,l)\n",
    "x,yn = zip(*points)\n",
    "x = np.array(x)\n",
    "yn = np.array(yn)-x**2\n",
    "plt.scatter(x,yn,color=\"green\",s=s,label=f\"l={l},D=0.2/{k}\")\n",
    "print(f\"average nrec={nrec/(k*nsim)}\")\n",
    "\n",
    "points =[] \n",
    "nrec =0\n",
    "\n",
    "nY_slow(1,0.2,float(\"inf\"))\n",
    "x,yn = zip(*points)\n",
    "x = np.array(x)\n",
    "yn = np.array(yn)-x**2\n",
    "plt.scatter(x,yn,color=\"yellow\",s=s,label=\"l=inf,D=0.2\")\n",
    "print(f\"average nrec={nrec/nsim}\")\n",
    "\n",
    "points =[] \n",
    "nrec =0\n",
    "\n",
    "nY_slow(1,0.2/k,float(\"inf\"))\n",
    "x,yn = zip(*points)\n",
    "x = np.array(x)\n",
    "yn = np.array(yn)-x**2\n",
    "plt.scatter(x,yn,color=\"purple\",s=s,label=f\"l=inf,D=0.2/{k}\")\n",
    "print(f\"average nrec={nrec/(k*nsim)}\")\n",
    "\n",
    "# ll = np.arange(0,1.01,0.01)\n",
    "# plt.plot(ll,ll**2,color =\"red\",label=\"t**2\")\n",
    "\n",
    "# plt.ylim(-0.05,1.3)\n",
    "plt.xlabel(\"t\")\n",
    "plt.ylabel(\"Y(t)\")\n",
    "plt.legend()\n",
    "plt.show()\n"
   ]
  },
  {
   "cell_type": "code",
   "execution_count": null,
   "metadata": {},
   "outputs": [],
   "source": []
  }
 ],
 "metadata": {
  "kernelspec": {
   "display_name": "base",
   "language": "python",
   "name": "python3"
  },
  "language_info": {
   "codemirror_mode": {
    "name": "ipython",
    "version": 3
   },
   "file_extension": ".py",
   "mimetype": "text/x-python",
   "name": "python",
   "nbconvert_exporter": "python",
   "pygments_lexer": "ipython3",
   "version": "3.9.13"
  },
  "orig_nbformat": 4,
  "vscode": {
   "interpreter": {
    "hash": "2043299c89c8cd0b4d1a6f5cf4529bd58e6a4e0fe3181a25e0d328c821cdc5c5"
   }
  }
 },
 "nbformat": 4,
 "nbformat_minor": 2
}
