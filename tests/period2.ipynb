{
 "cells": [
  {
   "attachments": {},
   "cell_type": "markdown",
   "metadata": {},
   "source": [
    "# (some) Related Work \n",
    "- A spectral Monte Carlo method for the Poisson equation\n",
    "- Chebyshev Greeks Smoothing Gamma without Bias\n",
    "- Approximation Theory and Approximation Practice (Lloyd N. Trefethen)\n",
    "- Regression-based Monte Carlo Integration\n",
    "\n",
    "We haven't looked into the literature for random ODEs (random start and coefficients not stochastic differential equations)\n",
    "\n"
   ]
  },
  {
   "attachments": {},
   "cell_type": "markdown",
   "metadata": {},
   "source": [
    "# Abstract\n",
    "(we will write this later)"
   ]
  },
  {
   "attachments": {},
   "cell_type": "markdown",
   "metadata": {},
   "source": [
    "# Russian Roulette Modded\n",
    "In period1 we missed a simple insight of Russian Roulette. Instead of killing of simulations completely you can substitute an approximation instead again without changing the expectance. This shouldn't be confused with control variates although both need approximations of the solution. <br>\n",
    "\n",
    "To get our example in the code to work we did some algebra to figure out the modification:"
   ]
  },
  {
   "cell_type": "code",
   "execution_count": 83,
   "metadata": {},
   "outputs": [
    {
     "name": "stdout",
     "output_type": "stream",
     "text": [
      "exp(3) is approx = 18.175346900390753\n",
      "%error = -0.09510276126060158\n"
     ]
    }
   ],
   "source": [
    "from random import random\n",
    "from math import exp\n",
    "\n",
    "def approx_sol(t):\n",
    "    return 1+t    \n",
    "\n",
    "def Y(t):\n",
    "    k = t if t<1 else 1\n",
    "    return (1+t*Y(random()*t)-(1-k)*approx_sol(t))/k if random()<k else approx_sol(t)\n",
    "\n",
    "sol = 0\n",
    "nsim = 10**3\n",
    "t = 3\n",
    "\n",
    "for _ in range(nsim):\n",
    "    sol += Y(t)/nsim\n",
    "\n",
    "percentage_error = (sol - exp(t))/exp(t)\n",
    "\n",
    "print(f\"exp({t}) is approx = {sol}\")\n",
    "print(f\"%error = {percentage_error}\")"
   ]
  },
  {
   "attachments": {},
   "cell_type": "markdown",
   "metadata": {},
   "source": [
    "# Random ODEs\n",
    "Let's get a quick example in (and maybe work out more later):\n",
    "$$\n",
    "y' = Ay, y(0)=1 , A = \\text{Uniform}(0,1) \n",
    "$$\n",
    "With solution $y(t)= e^{tA}$ which is a random variable. With the techniques we have right now we can simulate unbiased estimates of simulations of the solution (yeah randomness on randomness).With these you can get \"weak\" solutions ($E_y[f(y(t))]$ with $f$ analytic) to the problem: \n",
    "$$\n",
    "\\begin{align*}\n",
    "E_y[f(y(t))] &= E_y[E_A[f(y(t)) \\mid  A]] \\\\    \n",
    "           &= E_y[E_A[f(y(t,A))]] \\\\    \n",
    "            &= E_y[E_A[f(E_Y[Y(t,A)])]] \\\\\n",
    "\\end{align*}\n",
    "$$\n",
    "remember how we dealt with $f(E_Y[Y(t,A)])$ in period1? This makes things like unbiased estimators of the expectance and variance possible which can be used to get confidence intervals using Chebychev's inequality (https://en.wikipedia.org/wiki/Chebyshev%27s_inequality). <br>\n",
    "\n",
    "In our example we can find the following by hand:\n",
    "$$\n",
    "\\begin{align*}\n",
    "E_A[y(t)] &=  \\frac{e^{t}}{t} - \\frac{1}{t} \\\\ \n",
    "E_A[y^{2}(t)] &=  \\frac{e^{2t}}{2t} - \\frac{1}{2t}  \n",
    "\\end{align*}\n",
    "$$\n",
    "In code all this looks like this:"
   ]
  },
  {
   "cell_type": "code",
   "execution_count": 105,
   "metadata": {},
   "outputs": [
    {
     "name": "stdout",
     "output_type": "stream",
     "text": [
      "E(y(3))   is approx 6.459277460154641, %error = 0.015315024065219401\n",
      "E(y^2(3)) is approx 62.83166864932534, %error = -0.06321312492576975\n",
      "standard deviation of y(3) is approx (biased) 4.594497071722166\n"
     ]
    }
   ],
   "source": [
    "from random import random\n",
    "from math import exp,sqrt\n",
    "\n",
    "#estimator for y(t,a)\n",
    "def Ya(t,a):\n",
    "    return (1+a*Ya(random()*t,a) if random()<t else 1) if t<1 else 1+t*a*Ya(random()*t,a)\n",
    "\n",
    "# estimator for y(t)\n",
    "def Y(t):\n",
    "    return Ya(t,random())\n",
    "    \n",
    "# estimator for y(t)**2\n",
    "def Y2(t):\n",
    "    A = random()\n",
    "    return Ya(t,A)*Ya(t,A) \n",
    "\n",
    "sol = 0\n",
    "sol2 = 0\n",
    "nsim = 10**4\n",
    "t = 3 # 0<t\n",
    "\n",
    "for _ in range(nsim):\n",
    "    sol += Y(t)/nsim\n",
    "    sol2 += Y2(t)/nsim\n",
    "\n",
    "s =  exp(t)/t -1/t #analytic solution\n",
    "percentage_error = (sol - s)/s\n",
    "\n",
    "s2 =  exp(2*t)/(2*t) -1/(2*t) #analytic solution\n",
    "percentage_error2 = (sol2 - s2)/s2\n",
    "\n",
    "print(f\"E(y({t}))   is approx {sol},\",f\"%error = {percentage_error}\")\n",
    "print(f\"E(y^2({t})) is approx {sol2},\",f\"%error = {percentage_error2}\")\n",
    "\n",
    "sd = sqrt(sol2-sol**2)\n",
    "print(f\"standard deviation of y(3) is approx (biased) {sd}\")"
   ]
  }
 ],
 "metadata": {
  "kernelspec": {
   "display_name": "Python 3",
   "language": "python",
   "name": "python3"
  },
  "language_info": {
   "codemirror_mode": {
    "name": "ipython",
    "version": 3
   },
   "file_extension": ".py",
   "mimetype": "text/x-python",
   "name": "python",
   "nbconvert_exporter": "python",
   "pygments_lexer": "ipython3",
   "version": "3.10.8"
  },
  "orig_nbformat": 4,
  "vscode": {
   "interpreter": {
    "hash": "61dcd53c54624714075f66cf77d2f4f7b806bcd73e530a683be31ad82b480a0b"
   }
  }
 },
 "nbformat": 4,
 "nbformat_minor": 2
}
