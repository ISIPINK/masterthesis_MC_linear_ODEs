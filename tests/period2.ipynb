{
 "cells": [
  {
   "attachments": {},
   "cell_type": "markdown",
   "metadata": {},
   "source": [
    "# (some) Related Work \n",
    "- A spectral Monte Carlo method for the Poisson equation\n",
    "- Chebyshev Greeks Smoothing Gamma without Bias\n",
    "- Approximation Theory and Approximation Practice (Lloyd N. Trefethen)\n",
    "- Regression-based Monte Carlo Integration\n",
    "- A new sequential algorithm for L2-approximation and application to Monte-Carlo integration (SALT)\n",
    "\n",
    "We haven't looked into the literature for random ODEs (random start and coefficients not stochastic differential equations)\n",
    "\n"
   ]
  },
  {
   "attachments": {},
   "cell_type": "markdown",
   "metadata": {},
   "source": [
    "# Abstract\n",
    "(we will write this later)"
   ]
  },
  {
   "attachments": {},
   "cell_type": "markdown",
   "metadata": {},
   "source": [
    "# Russian Roulette Modded\n",
    "In period1 we missed a simple insight of Russian Roulette. Instead of killing of simulations completely you can substitute an approximation instead again without changing the expectance. This shouldn't be confused with control variates although both need approximations of the solution. <br>\n",
    "\n",
    "To get our example in the code to work we did some algebra to figure out the modification:"
   ]
  },
  {
   "cell_type": "code",
   "execution_count": 143,
   "metadata": {},
   "outputs": [
    {
     "name": "stdout",
     "output_type": "stream",
     "text": [
      "exp(3) is approx = 20.266231000573733, %error = 0.008996228384488094\n"
     ]
    }
   ],
   "source": [
    "from random import random\n",
    "from math import exp\n",
    "\n",
    "def approx_sol(t):\n",
    "    return 1+t    \n",
    "\n",
    "def Y(t):\n",
    "    k = t if t<1 else 1\n",
    "    return (1+t*Y(random()*t)-(1-k)*approx_sol(t))/k if random()<k else approx_sol(t)\n",
    "\n",
    "sol = 0\n",
    "nsim = 10**3\n",
    "t = 3\n",
    "\n",
    "for _ in range(nsim):\n",
    "    sol += Y(t)/nsim\n",
    "\n",
    "percentage_error = (sol - exp(t))/exp(t)\n",
    "\n",
    "print(f\"exp({t}) is approx = {sol},\",f\"%error = {percentage_error}\")"
   ]
  },
  {
   "attachments": {},
   "cell_type": "markdown",
   "metadata": {},
   "source": [
    "# RMC exp Dy\n",
    "In period1 we weren't sure we could also recurse on derivate of a the same order of the underlying differential equation. We show that it is possible with an example:\n",
    "\n",
    "$$\n",
    "y'= y+1, y(0)=1\n",
    "$$\n",
    "if we have a random variable $Y(t)$ such that $E[Y(t)]=y(t)$ from this we construct a random variable $DY(t)$ such that $E[DY(t)]= y'(t)$ in this case $DY(t) = Y(t) + 1$. <br>\n",
    "\n",
    "Let's use this to make a recursive Monte Carlo scheme that also recurses on the derivative:\n",
    "$$\n",
    "\\begin{align*}\n",
    "y'      &= \\frac{1}{2}y + \\frac{1}{2}y' + \\frac{1}{2} \\Leftrightarrow \\\\\n",
    "y (t)   &=  y(0) + \\int_{0}^{t} \\frac{1}{2}y(s) + \\frac{1}{2}y'(s) + \\frac{1}{2} ds\\\\\n",
    "        &=  1 + t E \\left[\\frac{1}{2}y(U) + \\frac{1}{2}y'(U) + \\frac{1}{2} \\right] \\\\\n",
    "        &=  E \\left[1 +  \\frac{t}{2}Y(U) + \\frac{t}{2}DY(U) + \\frac{t}{2} \\right] \\\\\n",
    "\\end{align*}\n",
    "$$\n",
    "This give following recursion relation for random variables:\n",
    "$$\n",
    "\\begin{align*}\n",
    "DY(t) &= Y(t) + 1 \\\\     \n",
    "Y(t) &= 1+0.5tY(U) + 0.5tDY(U) + 0.5 t        \n",
    "\\end{align*}\n",
    "$$\n",
    "with $U = \\text{Uniform}(0,t)$. We modified this with Russian Roulette in the implementation to make it non branching."
   ]
  },
  {
   "cell_type": "code",
   "execution_count": 139,
   "metadata": {},
   "outputs": [
    {
     "name": "stdout",
     "output_type": "stream",
     "text": [
      "sol(0.8) is approx 3.3887756318060505, %error = -0.01805411397379012\n"
     ]
    }
   ],
   "source": [
    "from random import random\n",
    "from math import exp\n",
    "\n",
    "#let t<1\n",
    "def Y(t):\n",
    "    if random()>t:\n",
    "        return 1+0.5*t \n",
    "    s = random()*t\n",
    "    return 1+ Y(s)  + 0.5*t if random()<0.5 else 1 + DY(s) + 0.5*t\n",
    "\n",
    "def DY(t):\n",
    "    return Y(t)+1\n",
    "    \n",
    "sol = 0\n",
    "nsim = 10**3\n",
    "t = 0.8 # <1\n",
    "\n",
    "for _ in range(nsim):\n",
    "    sol += Y(t)/nsim\n",
    "\n",
    "s = 2*exp(t)-1 #analytic solution\n",
    "percentage_error = (sol - s)/s\n",
    "\n",
    "print(f\"sol({t}) is approx {sol},\",f\"%error = {percentage_error}\")"
   ]
  },
  {
   "attachments": {},
   "cell_type": "markdown",
   "metadata": {},
   "source": [
    "# Random ODEs\n",
    "Let's get a quick example in (and maybe work out more later):\n",
    "$$\n",
    "y' = Ay, y(0)=1 , A = \\text{Uniform}(0,1) \n",
    "$$\n",
    "With solution $y(t)= e^{tA}$ which is a random variable. With the techniques we have right now we can simulate unbiased estimates of simulations of the solution (yeah randomness on randomness).With these you can get \"weak\" solutions ($E_y[f(y(t))]$ with $f$ analytic) to the problem: \n",
    "$$\n",
    "\\begin{align*}\n",
    "E_y[f(y(t))] &= E_y[E_A[f(y(t)) \\mid  A]] \\\\    \n",
    "           &= E_y[E_A[f(y(t,A))]] \\\\    \n",
    "            &= E_y[E_A[f(E_Y[Y(t,A)])]] \\\\\n",
    "\\end{align*}\n",
    "$$\n",
    "remember how we dealt with $f(E_Y[Y(t,A)])$ in period1? This makes things like unbiased estimators of the expectance and variance possible which can be used to get confidence intervals using Chebychev's inequality (https://en.wikipedia.org/wiki/Chebyshev%27s_inequality). <br>\n",
    "\n",
    "In our example we can find the following by hand:\n",
    "$$\n",
    "\\begin{align*}\n",
    "E_A[y(t)] &=  \\frac{e^{t}}{t} - \\frac{1}{t} \\\\ \n",
    "E_A[y^{2}(t)] &=  \\frac{e^{2t}}{2t} - \\frac{1}{2t}  \n",
    "\\end{align*}\n",
    "$$\n",
    "In code all this looks like this:"
   ]
  },
  {
   "cell_type": "code",
   "execution_count": 105,
   "metadata": {},
   "outputs": [
    {
     "name": "stdout",
     "output_type": "stream",
     "text": [
      "E(y(3))   is approx 6.459277460154641, %error = 0.015315024065219401\n",
      "E(y^2(3)) is approx 62.83166864932534, %error = -0.06321312492576975\n",
      "standard deviation of y(3) is approx (biased) 4.594497071722166\n"
     ]
    }
   ],
   "source": [
    "from random import random\n",
    "from math import exp,sqrt\n",
    "\n",
    "#estimator for y(t,a)\n",
    "def Ya(t,a):\n",
    "    return (1+a*Ya(random()*t,a) if random()<t else 1) if t<1 else 1+t*a*Ya(random()*t,a)\n",
    "\n",
    "# estimator for y(t)\n",
    "def Y(t):\n",
    "    return Ya(t,random())\n",
    "    \n",
    "# estimator for y(t)**2\n",
    "def Y2(t):\n",
    "    A = random()\n",
    "    return Ya(t,A)*Ya(t,A) \n",
    "\n",
    "sol = 0\n",
    "sol2 = 0\n",
    "nsim = 10**4\n",
    "t = 3 # 0<t\n",
    "\n",
    "for _ in range(nsim):\n",
    "    sol += Y(t)/nsim\n",
    "    sol2 += Y2(t)/nsim\n",
    "\n",
    "s =  exp(t)/t -1/t #analytic solution\n",
    "percentage_error = (sol - s)/s\n",
    "\n",
    "s2 =  exp(2*t)/(2*t) -1/(2*t) #analytic solution\n",
    "percentage_error2 = (sol2 - s2)/s2\n",
    "\n",
    "print(f\"E(y({t}))   is approx {sol},\",f\"%error = {percentage_error}\")\n",
    "print(f\"E(y^2({t})) is approx {sol2},\",f\"%error = {percentage_error2}\")\n",
    "\n",
    "sd = sqrt(sol2-sol**2)\n",
    "print(f\"standard deviation of y(3) is approx (biased) {sd}\")"
   ]
  }
 ],
 "metadata": {
  "kernelspec": {
   "display_name": "Python 3",
   "language": "python",
   "name": "python3"
  },
  "language_info": {
   "codemirror_mode": {
    "name": "ipython",
    "version": 3
   },
   "file_extension": ".py",
   "mimetype": "text/x-python",
   "name": "python",
   "nbconvert_exporter": "python",
   "pygments_lexer": "ipython3",
   "version": "3.10.8"
  },
  "orig_nbformat": 4,
  "vscode": {
   "interpreter": {
    "hash": "61dcd53c54624714075f66cf77d2f4f7b806bcd73e530a683be31ad82b480a0b"
   }
  }
 },
 "nbformat": 4,
 "nbformat_minor": 2
}
