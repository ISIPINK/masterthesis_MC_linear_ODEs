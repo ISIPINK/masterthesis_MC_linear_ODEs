{
 "cells": [
  {
   "cell_type": "code",
   "execution_count": 305,
   "metadata": {},
   "outputs": [],
   "source": [
    "from random import random\n",
    "from math import sqrt\n",
    "#estimator for exp(x) without control variate\n",
    "def yr(start,eps):\n",
    "    return 1 + start* yr(random()*start,eps) if start>eps else 1\n",
    "\n",
    "#estimator for exp(x) with control variate 1 + x \n",
    "def yrs(start,eps):\n",
    "    if start<eps:\n",
    "        return 1+start + start**2/2\n",
    "    else:\n",
    "        s = random()*start\n",
    "        return 1+ start + start**2/2 + start*(yrs(s,eps)-1-s)\n",
    "\n",
    "def f(fun,start,eps=0.01,nsim=1000):\n",
    "    res = 0\n",
    "    for _ in range(nsim):\n",
    "        res +=fun(start,eps)/nsim\n",
    "    return res\n"
   ]
  },
  {
   "cell_type": "code",
   "execution_count": 352,
   "metadata": {},
   "outputs": [
    {
     "name": "stdout",
     "output_type": "stream",
     "text": [
      "-0.16470699013307089\n",
      "0.028685268061375613\n",
      "-0.006245468855646585\n",
      "-0.004365858837156011\n"
     ]
    }
   ],
   "source": [
    "from math import exp\n",
    "print(f(yr,1, 0.0001,10)-exp(1))\n",
    "print(f(yrs,1, 0.0001,10)-exp(1))\n",
    "print(f(yr,1, 0.0001,1000)-exp(1))\n",
    "print(f(yrs,1, 0.0001,1000)-exp(1))"
   ]
  }
 ],
 "metadata": {
  "kernelspec": {
   "display_name": "Python 3",
   "language": "python",
   "name": "python3"
  },
  "language_info": {
   "codemirror_mode": {
    "name": "ipython",
    "version": 3
   },
   "file_extension": ".py",
   "mimetype": "text/x-python",
   "name": "python",
   "nbconvert_exporter": "python",
   "pygments_lexer": "ipython3",
   "version": "3.10.8"
  },
  "orig_nbformat": 4,
  "vscode": {
   "interpreter": {
    "hash": "61dcd53c54624714075f66cf77d2f4f7b806bcd73e530a683be31ad82b480a0b"
   }
  }
 },
 "nbformat": 4,
 "nbformat_minor": 2
}
