{
 "cells": [
  {
   "attachments": {},
   "cell_type": "markdown",
   "metadata": {},
   "source": [
    "\n",
    "# (some) Related Work\n",
    "\n",
    "# abstract\n",
    "We write this when p5 is done."
   ]
  },
  {
   "attachments": {},
   "cell_type": "markdown",
   "metadata": {},
   "source": [
    "# Boundary Value Problems\n",
    "In period2 we solved a boundary problem using Green functions. Our goal for the next period is to get an implementation of unbiased $1$ D BVP solver of higher order. In the following we implement different BVP  algorithms for\n",
    "$$\n",
    "y''=y, y(-1) = e^{-1},y(1)=e .\n",
    "$$\n",
    "\n",
    "## Preparation\n",
    "For those algorithms we need the corresponding Green functions of this problem.\n",
    "\n",
    "### boundary green function of $y''$\n",
    "\n",
    "$$\n",
    "\\begin{align*}\n",
    "G''_{b_{0}}(t) &= 0, G(b_{0})=1,G(b_{1})=0 \\Rightarrow \\\\\n",
    "G_{b_{0}}(t) &= \\frac{b_{1}-t}{b_{1}-b_{0}} \\\\   \n",
    "\\end{align*}\n",
    "$$ \n",
    "$$\n",
    "\\begin{align*}\n",
    "G''_{b_{1}}(t) &= 0, G(b_{0})=0,G(b_{1})=1 \\Rightarrow \\\\\n",
    "G_{b1}(t) &= \\frac{t-b_{0}}{b_{1} -b_{0}}\n",
    "\\end{align*}\n",
    "$$\n",
    "\n",
    "\n",
    "### source green function of $y''$\n",
    "$$\n",
    "\\begin{align*}\n",
    "G''_{s}(t) &= \\delta(t-s), G(b_{0})=0,G(b_{1})=0 \\Rightarrow \\\\\n",
    "G_{s}(t) &=    \\begin{cases}\n",
    "        -\\frac{(b_{1}-s)(t-b_{0})}{b_{1}-b_{0}} & \\text{if } t<s\\\\\n",
    "        -\\frac{(b_{1}-t)(s-b_{0})}{b_{1}-b_{0}} & \\text{if } s<t\n",
    "    \\end{cases} \\\\\n",
    "G_{t}(s) &=    \\begin{cases}\n",
    "        -\\frac{(b_{1}-t)(s-b_{0})}{b_{1}-b_{0}} & \\text{if } s<t\\\\\n",
    "        -\\frac{(b_{1}-s)(t-b_{0})}{b_{1}-b_{0}} & \\text{if } t<s\n",
    "    \\end{cases}\n",
    "\\end{align*} \n",
    "$$ \n",
    "\n",
    "### testing the green function\n",
    "We solve\n",
    "$$\n",
    "y''= y,y(b_{0}), y(b_{1}).\n",
    "$$ \n",
    "the same way as in period2 to test these green functions are correct"
   ]
  },
  {
   "cell_type": "code",
   "execution_count": 19,
   "metadata": {},
   "outputs": [
    {
     "name": "stdout",
     "output_type": "stream",
     "text": [
      "0.02216861549131576\n",
      "-0.0208313414490792\n",
      "-0.026617346220855084\n",
      "0.007517183795474667\n",
      "-0.003799054516548625\n",
      "--------------------\n",
      "-131755476.57755683\n",
      "314902.9346051018\n",
      "4968.071633233332\n",
      "8456.558236166946\n"
     ]
    }
   ],
   "source": [
    "from random import random\n",
    "from math import exp\n",
    "import numpy as np\n",
    "\n",
    "def Gb0(t,b0,b1): return (b1-t)/(b1-b0)\n",
    "def Gb1(t,b0,b1): return (t-b0)/(b1-b0)\n",
    "def G(t,s,b0,b1): return -(b1-s)*(t-b0)/(b1-b0) if t<s else - (b1-t)*(s-b0)/(b1-b0) \n",
    "\n",
    "def Y(t,y0,y1,b0,b1): \n",
    "    l = 2 # russian roulette rate\n",
    "    if random()*l>1: return Gb0(t,b0,b1)*y0 + Gb1(t,b0,b1)*y1\n",
    "    S = b0+random()*(b1-b0)\n",
    "    return Gb0(t,b0,b1)*y0 + Gb1(t,b0,b1)*y1 + l*G(t,S,b0,b1) * Y(S,y0,y1,b0,b1)*(b1-b0)\n",
    "    \n",
    "def soltest(t,y0,y1,b0,b1,nsim): return sum(Y(t,y0,y1,b0,b1) for _ in range(nsim))/nsim\n",
    "\n",
    "nsim = 10**2\n",
    "B0 = np.arange(-1,0,0.2)\n",
    "B1 = np.arange(1,0,-0.2)\n",
    "T = [b0+(b1-b0)*random() for b0,b1 in zip(B0,B1) ]\n",
    "\n",
    "for t,b0,b1 in zip(T,B0,B1):\n",
    "    print((soltest(t,exp(b0),exp(b1),b0,b1,nsim)-exp(t))/exp(t))\n",
    "\n",
    "\n",
    "print(20*\"-\")\n",
    "nsim = 10**2\n",
    "B0 = list(np.arange(-5,-1,1)) + [-0.5]\n",
    "B1 = list(np.arange(5,1,-1)) + [0.5]\n",
    "T = [0]*len(B0)\n",
    "\n",
    "for t,b0,b1 in zip(T,B0,B1):\n",
    "    print((soltest(t,exp(b0),exp(b1),b0,b1,nsim)-exp(t))/exp(t))"
   ]
  },
  {
   "attachments": {},
   "cell_type": "markdown",
   "metadata": {},
   "source": [
    "## WoS (Walk on Sphere)\n",
    "\n",
    "The idea of walk on sphere is to use the integral equation corresponding to the largest sphere around $t$ contained in the domain:\n",
    "![WoS](tests_period_5/tikz%20figures/WoS/WoS.png)\n",
    "$$\n",
    "y(t) = G_{h_{0}}(t)y_{h_{0}} + G_{h_{1}}(t) y_{h_{1}} + \\int_{h_{0}}^{h_{1}} G_{t}(s)y(s)ds \n",
    "$$ \n",
    "with $h_{0},h_{1}$ the points of the biggest sphere with midpoint $t$. In the $1$ dimensional case is either $h_{0}=b_{0}$ or $h_{1}=b_{1}$. Meaning we're still left with \n",
    "additive branching recursion. To get rid of this we couple the Russian roulette of these\n",
    "terms such that there is no branching. <br>\n",
    "\n",
    "Here is a nasty implementation of this:"
   ]
  },
  {
   "cell_type": "code",
   "execution_count": 117,
   "metadata": {},
   "outputs": [],
   "source": [
    "from random import random\n",
    "from math import exp\n",
    "from numba import njit, prange\n",
    "\n",
    "@njit(fastmath =True)\n",
    "def Gb0(t,b0,b1): return (b1-t)/(b1-b0)\n",
    "@njit(fastmath =True)\n",
    "def Gb1(t,b0,b1): return (t-b0)/(b1-b0)\n",
    "@njit(fastmath =True)\n",
    "def G(t,s,b0,b1): return -(b1-s)*(t-b0)/(b1-b0) if t<s else - (b1-t)*(s-b0)/(b1-b0) \n",
    "\n",
    "@njit(fastmath =True)\n",
    "def Yws(t):\n",
    "    if t==-1: return exp(-1)\n",
    "    if t==1: return exp(1)\n",
    "\n",
    "    if t+1<1-t: \n",
    "        h0,h1 = -1,2*t+1\n",
    "        if random()<0.5:\n",
    "            return Gb0(t,h0,h1)*Yws(h0)+ 2*Gb1(t,h0,h1)*Yws(h1)\n",
    "        elif random()<0.5:\n",
    "            S = h0+random()*(h1-h0)\n",
    "            return Gb0(t,h0,h1)*Yws(h0)+ 4*G(t,S,h0,h1) * Yws(S)*(h1-h0)\n",
    "        else:\n",
    "            return Gb0(t,h0,h1)*Yws(h0)\n",
    "    else:\n",
    "        h0,h1 = 2*t-1,1\n",
    "        if random()<0.5:\n",
    "            return 2*Gb0(t,h0,h1)*Yws(h0) + Gb1(t,h0,h1)*Yws(h1)\n",
    "        elif random()<0.5:\n",
    "            S = h0+random()*(h1-h0)\n",
    "            return Gb1(t,h0,h1)*Yws(h1) + 4*G(t,S,h0,h1) * Yws(S)*(h1-h0)\n",
    "        else:\n",
    "            return Gb1(t,h0,h1)*Yws(h1)\n",
    "\n",
    "@njit(fastmath=True, parallel=True)\n",
    "def wssol(t,nsim ):\n",
    "    total = 0.0\n",
    "    for _ in prange(nsim):\n",
    "        total += Yws(t)\n",
    "    return total/nsim"
   ]
  },
  {
   "cell_type": "code",
   "execution_count": 179,
   "metadata": {},
   "outputs": [
    {
     "name": "stdout",
     "output_type": "stream",
     "text": [
      "0.0016335495054296664\n"
     ]
    }
   ],
   "source": [
    "t,nsim = 0.4,10**5\n",
    "print((wssol(t,nsim)-exp(t))/exp(t))"
   ]
  },
  {
   "attachments": {},
   "cell_type": "markdown",
   "metadata": {},
   "source": [
    "The advantage of Walk on Sphere is that it doesn't need the full Green functions and there is no worrying about meshing."
   ]
  },
  {
   "attachments": {},
   "cell_type": "markdown",
   "metadata": {},
   "source": [
    "## Coupled Stratified RMC\n",
    "\n",
    "$$\n",
    "\\begin{align*}\n",
    "y(t) &= G_{b_{0}}(t)y_{b_{0}} + G_{b_{1}}(t) y_{b_{1}} + \\int_{b_{0}}^{b_{1}} G_{t}(s)f(s)ds \\\\\n",
    " &= G_{b_{0}}(t)y_{b_{0}} + G_{b_{1}}(t) y_{b_{1}} \n",
    " + \\int_{b_{0}}^{l} G_{t}(s)f(s)ds + \\int_{l}^{b_{1}} G_{t}(s)f(s)ds  .\n",
    "\\end{align*}\n",
    "$$\n",
    "\n",
    "We do coupled recursion on those $2$ integral for \n",
    "$$\n",
    "y''=y, y(-1)=e^{-1},y(1)=e.\n",
    "$$ \n",
    "this gives the following nice matrix recursion:\n",
    "\n",
    "$$\n",
    "X(t_{1},t_{2})=\n",
    "\\begin{bmatrix} \n",
    "G_{b_{0}}(t_{1}) & G_{b_{1}}(t_{1})\\\\\n",
    "G_{b_{0}}(t_{2}) & G_{b_{1}}(t_{2})\n",
    "\\end{bmatrix} \n",
    "\\begin{bmatrix} \n",
    "y(b_{0})\\\\\n",
    "y(b_{1})\n",
    "\\end{bmatrix} \n",
    "+\n",
    "\\begin{bmatrix} \n",
    "G_{t_{1}}(U_{1}) & G_{t_{1}}(U_{2}) \\\\\n",
    "G_{t_{2}}(U_{1}) & G_{t_{2}}(U_{2}) \n",
    "\\end{bmatrix}\n",
    "\\begin{bmatrix} \n",
    "f_{U_{1}}(U_{1}) & 0 \\\\\n",
    "0                & f_{U_{2}}(U_{2}) \n",
    "\\end{bmatrix}\n",
    "X(U_{1},U_{2})\n",
    "$$ \n",
    "where $U_{1} = \\text{Uniform}(b_{0},l), U_{2} = \\text{Uniform}(l,b_{1})$. We implement this with russian roulette:"
   ]
  },
  {
   "cell_type": "code",
   "execution_count": 187,
   "metadata": {},
   "outputs": [
    {
     "name": "stdout",
     "output_type": "stream",
     "text": [
      "[0.59564983 1.29340874]\n",
      "0.6065306597126334 1.3498588075760032\n"
     ]
    }
   ],
   "source": [
    "from random import random\n",
    "from math import exp\n",
    "import numpy as np\n",
    "\n",
    "def Gb0(t,b0,b1): return (b1-t)/(b1-b0)\n",
    "def Gb1(t,b0,b1): return (t-b0)/(b1-b0)\n",
    "def G(t,s,b0,b1): return -(b1-s)*(t-b0)/(b1-b0) if t<s else - (b1-t)*(s-b0)/(b1-b0) \n",
    "\n",
    "def Xrec(t1,t2):\n",
    "    l = 2\n",
    "    if random()*l>1: return np.zeros(2) \n",
    "    S1,S2 = random()-1,random()\n",
    "    X = Xrec(S1,S2)\n",
    "    x0 = Gb0(t1,-1,1)*exp(-1) + Gb1(t1,-1,1)*exp(1) \n",
    "    x0 += G(t1,S1,-1,1)*X[0] + G(t1,S2,-1,1)*X[1]\n",
    "    x1 = Gb0(t2,-1,1)*exp(-1) + Gb1(t2,-1,1)*exp(1) \n",
    "    x1 += G(t2,S1,-1,1)*X[0] + G(t2,S2,-1,1)*X[1]\n",
    "    return l*np.array([x0,x1])\n",
    "\n",
    "def solrec(t1,t2,nsim): return sum(Xrec(t1,t2) for _ in range(nsim))/nsim\n",
    "\n",
    "print(solrec(-0.5,0.3,10**3))\n",
    "print(exp(-0.5),exp(0.3))\n"
   ]
  },
  {
   "attachments": {},
   "cell_type": "markdown",
   "metadata": {},
   "source": [
    "## Local RRMC\n",
    "\n",
    "We demonstrate local RRMC on a grid with $3$ points $[-0.5,0,0.5]$.\n",
    "The idea is to use local integral representation on overlapping domains\n",
    "to repeatatly do coupled RMC to estimate the solution on the grid. <br> \n",
    "\n",
    "![local RRMC](tests_period_5/tikz%20figures/local%20RRMC/local%20RRMC.png)\n",
    "\n",
    "We will implement this with recursion in recursion. The outer recursion is a coupled recursion of $3$ points and the inner recursion is just regular RMC where we assume we know the value at adjacent points. This is like walk on rectangle"
   ]
  },
  {
   "cell_type": "code",
   "execution_count": 44,
   "metadata": {},
   "outputs": [
    {
     "name": "stdout",
     "output_type": "stream",
     "text": [
      "soltest2= [0.62359773 1.00871407 1.66011109], %error[0.02813884 0.00871407 0.00690828]\n"
     ]
    }
   ],
   "source": [
    "from random import random\n",
    "from math import exp\n",
    "import numpy as np\n",
    "\n",
    "def Gb0(t,b0,b1): return (b1-t)/(b1-b0)\n",
    "def Gb1(t,b0,b1): return (t-b0)/(b1-b0)\n",
    "def G(t,s,b0,b1): return -(b1-s)*(t-b0)/(b1-b0) if t<s else - (b1-t)*(s-b0)/(b1-b0) \n",
    "\n",
    "def Y(t,y0,y1,b0,b1): \n",
    "    l = 2 # russian roulette rate\n",
    "    if random()*l>1: return Gb0(t,b0,b1)*y0 + Gb1(t,b0,b1)*y1\n",
    "    S = b0+random()*(b1-b0)\n",
    "    return Gb0(t,b0,b1)*y0 + Gb1(t,b0,b1)*y1 + l*G(t,S,b0,b1) * Y(S,y0,y1,b0,b1)*(b1-b0)\n",
    "\n",
    "def X_slow():\n",
    "    l = 1.5 # russian roulette rate\n",
    "    if random()*l>1: return  np.zeros(3)\n",
    "    X = X_slow()\n",
    "    x0 = Y(-0.5,exp(-1),X[1],-1,0)\n",
    "    x1 = Y(0,X[0],X[2],-0.5,0.5)\n",
    "    x2 = Y(0.5,X[1],exp(1),0,1) \n",
    "    return l*np.array([x0,x1,x2]) \n",
    "\n",
    "def soltest2(nsim): return sum(X_slow() for _ in range(nsim))/nsim\n",
    "grid = np.array([-0.5,0,0.5])\n",
    "nsim = 10**4\n",
    "sol = np.exp(grid)\n",
    "ss = soltest2(nsim)\n",
    "print(f\"soltest2= {ss}, %error{(ss-sol)/sol}\")"
   ]
  },
  {
   "attachments": {},
   "cell_type": "markdown",
   "metadata": {},
   "source": [
    "## Remark\n",
    "The ideas in the last $3$ algorithms may be combined. It is for example possible to\n",
    "do WoS inside the local domains of local RRMC."
   ]
  },
  {
   "attachments": {},
   "cell_type": "markdown",
   "metadata": {},
   "source": [
    "# Recursive Brownian Motion\n",
    "\n",
    "## Brownian Motion \n",
    "\n",
    "### Definition\n",
    "\n",
    "### Symmetry\n",
    "\n",
    "## Recursive Brownian Motion\n",
    "\n",
    "\n"
   ]
  },
  {
   "attachments": {},
   "cell_type": "markdown",
   "metadata": {},
   "source": [
    "# TODO\n"
   ]
  }
 ],
 "metadata": {
  "kernelspec": {
   "display_name": "base",
   "language": "python",
   "name": "python3"
  },
  "language_info": {
   "codemirror_mode": {
    "name": "ipython",
    "version": 3
   },
   "file_extension": ".py",
   "mimetype": "text/x-python",
   "name": "python",
   "nbconvert_exporter": "python",
   "pygments_lexer": "ipython3",
   "version": "3.9.13"
  },
  "orig_nbformat": 4,
  "vscode": {
   "interpreter": {
    "hash": "2043299c89c8cd0b4d1a6f5cf4529bd58e6a4e0fe3181a25e0d328c821cdc5c5"
   }
  }
 },
 "nbformat": 4,
 "nbformat_minor": 2
}
