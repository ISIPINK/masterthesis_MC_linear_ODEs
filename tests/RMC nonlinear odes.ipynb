{
 "cells": [
  {
   "attachments": {},
   "cell_type": "markdown",
   "metadata": {},
   "source": [
    "# RMC for non linear ODEs\n",
    "\n",
    "A general approach to smooth nonlinear problems is to linearlize around the solution. <br> \n",
    "Let's look at following example:\n",
    "$$y'= y^2$$\n",
    "Say that we have a approx solution $y \\approx z$ \n",
    "$$y' = (y-z+z)^2 = (y-z)^2 - 2(y-z)z + z^2$$\n",
    "If the approx solution is sufficiently good $(y-z)^2$ is small and we can linearlize:\n",
    "$$y' \\approx - 2(y-z)z + z^2$$\n",
    "If the non linear ODE was stable under linearlization you can get better and better solutions by solving previous linear ODE.<br>\n",
    "RMC with dynamic control variate fits naturally in this linearlization, z being just the dynamic control variate. The dynamic control variate now does has influence on the convergence so needs to be updated accordantly."
   ]
  },
  {
   "cell_type": "code",
   "execution_count": null,
   "metadata": {},
   "outputs": [],
   "source": []
  }
 ],
 "metadata": {
  "kernelspec": {
   "display_name": "Python 3",
   "language": "python",
   "name": "python3"
  },
  "language_info": {
   "name": "python",
   "version": "3.10.8 (tags/v3.10.8:aaaf517, Oct 11 2022, 16:50:30) [MSC v.1933 64 bit (AMD64)]"
  },
  "orig_nbformat": 4,
  "vscode": {
   "interpreter": {
    "hash": "61dcd53c54624714075f66cf77d2f4f7b806bcd73e530a683be31ad82b480a0b"
   }
  }
 },
 "nbformat": 4,
 "nbformat_minor": 2
}
