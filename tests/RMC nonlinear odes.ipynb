{
 "cells": [
  {
   "attachments": {},
   "cell_type": "markdown",
   "metadata": {},
   "source": [
    "# RMC for non linear ODEs\n",
    "\n",
    "A general approach to smooth nonlinear problems is to linearlize around the solution. <br> \n",
    "Let's look at following example:\n",
    "$$y'= y^2$$\n",
    "Say that we have a approx solution $y \\approx z$ \n",
    "$$y' = (y-z+z)^2 = (y-z)^2 - 2(y-z)z + z^2$$\n",
    "If the approx solution is sufficiently good $(y-z)^2$ is small and we can linearlize:\n",
    "$$y' \\approx - 2(y-z)z + z^2$$\n",
    "If the non linear ODE was stable under linearlization you can get better and better solutions by solving previous linear ODE.<br>\n",
    "RMC with dynamic control variate fits naturally in this linearlization, z being just the dynamic control variate. The dynamic control variate now does has influence on the convergence so needs to be updated accordantly."
   ]
  },
  {
   "attachments": {},
   "cell_type": "markdown",
   "metadata": {},
   "source": [
    "An other way to deal with nonlinearty:\n",
    "same problem $y(1)=-1$ solution $-\\frac{1}{x}$"
   ]
  },
  {
   "cell_type": "code",
   "execution_count": 76,
   "metadata": {},
   "outputs": [
    {
     "name": "stdout",
     "output_type": "stream",
     "text": [
      "-0.5422719814857501\n"
     ]
    }
   ],
   "source": [
    "from random import random\n",
    "def y(t,eps):\n",
    "    if t>2.5:\n",
    "        raise Exception(\"variance to big for that t\")\n",
    "    k = 1/3 if t<2 else 1 # careful kill more then you create on average\n",
    "    if random()>k:\n",
    "        return -1\n",
    "    else:\n",
    "        s = random()*(t-1) + 1\n",
    "        return -1 + (t-1) * y(s,eps) * y(s,eps) /k  # not y^2\n",
    "\n",
    "res = 0\n",
    "for _ in range(10**3):\n",
    "    res += y(2,0.01)/10**3\n",
    "print(res)"
   ]
  }
 ],
 "metadata": {
  "kernelspec": {
   "display_name": "Python 3",
   "language": "python",
   "name": "python3"
  },
  "language_info": {
   "codemirror_mode": {
    "name": "ipython",
    "version": 3
   },
   "file_extension": ".py",
   "mimetype": "text/x-python",
   "name": "python",
   "nbconvert_exporter": "python",
   "pygments_lexer": "ipython3",
   "version": "3.10.8"
  },
  "orig_nbformat": 4,
  "vscode": {
   "interpreter": {
    "hash": "61dcd53c54624714075f66cf77d2f4f7b806bcd73e530a683be31ad82b480a0b"
   }
  }
 },
 "nbformat": 4,
 "nbformat_minor": 2
}
