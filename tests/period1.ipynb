{
 "cells": [
  {
   "attachments": {},
   "cell_type": "markdown",
   "metadata": {},
   "source": [
    "# table of contents\n",
    "TODO"
   ]
  },
  {
   "attachments": {},
   "cell_type": "markdown",
   "metadata": {},
   "source": [
    "## RMC for ODEs\n",
    "### Basic construction\n",
    "We ran some tests for \n",
    "$y'=y, y(0)=1$ with a basic Monte Carlo recursive scheme to build understanding. <br>\n",
    "\n",
    "To do Monte Carlo you need a random variable $Y(t)$ which you can simulate such that $y(t) = E[Y(t)]$. To construct such a random variable you first need to turn the ODE into an integral equation which is easier to manipulate in this context. There are multiple techniques to do that (we will write it down later) in this case we want a recursive integral equation for theoretical reasons. This is easily obtained by integrating both sides.\n",
    "\n",
    "$$\n",
    "y(t)= 1 + \\int_0^t y(s)ds.\n",
    "$$\n",
    "Do the following substitution in the integral $ds = \\frac{ds}{dU} dU$ with $U = \\text{Uniform}(0,t)$. (https://en.wikipedia.org/wiki/Radon%E2%80%93Nikodym_theorem $U$ is equivalent to $1_{[0,t]}$ you could interpret constants as random variables) Now you can write the integral as an expectation using reverse LOTUS (https://en.wikipedia.org/wiki/Law_of_the_unconscious_statistician).\n",
    "\n",
    "$$\n",
    "\\begin{align*}\n",
    "y(t)&= 1 + E[y(U) \\frac{ds}{dU}]\\\\\n",
    "&= 1 + tE[y(x) \\mid U = x]\\\\\n",
    "\\end{align*}\n",
    "$$\n",
    "Suppose we can construct a family of random variables $Y(x)>0, 0<x<t$ (induction like) such that $y(x) = E[Y(x)]$. We will try to construct $Y(t)$ out of those. Sub this property in the previous equation.\n",
    "\n",
    "$$\n",
    "y(t)= 1 + tE[E[Y(x)] \\mid U = x]\n",
    "$$\n",
    "\n",
    "Now merge the expectations (in this case it's ok because everything is positive).\n",
    "\n",
    "$$\n",
    "\\begin{align*}\n",
    "y(t)&= 1 + tE[Y(x) \\mid U = x]\\\\\n",
    "    &= 1 + tE[Y(U)]\\\\\n",
    "    &= E[1 + tY(U)]\n",
    "\\end{align*}\n",
    "$$\n",
    "$1 + tY(U)$ has the property of the random variable we wanted to construct. To complete the construction we would need\n",
    "to construct $Y(x)>0, 0<x<\\varepsilon$ for an arbitrary $\\varepsilon$. We haven't figured out how to do that but we approximate such random variable for small $\\varepsilon$ with $1$ and test if it works.<br>\n",
    "Following code demonstrates how to construct $Y(t)$ approximately using recursion."
   ]
  },
  {
   "cell_type": "code",
   "execution_count": 2,
   "metadata": {},
   "outputs": [
    {
     "name": "stdout",
     "output_type": "stream",
     "text": [
      "exp(1) is approx = 2.758516570657602\n"
     ]
    }
   ],
   "source": [
    "from random import random\n",
    "def Y(t,eps):\n",
    "    return 1 + t* Y(random()*t,eps) if t>eps else 1 \n",
    "\n",
    "sol = 0\n",
    "nsim = 10**3\n",
    "eps = 0.01\n",
    "t = 1\n",
    "\n",
    "for _ in range(nsim):\n",
    "    sol += Y(t,eps)/nsim\n",
    "\n",
    "print(f\"exp({t}) is approx = {sol}\")"
   ]
  },
  {
   "attachments": {},
   "cell_type": "markdown",
   "metadata": {},
   "source": [
    "To get clean convergence results we want $\\text{Var}(Y(t)) < \\infty$ but this is not necessary (later we will do an analysis of variance).\n",
    "(https://en.wikipedia.org/wiki/Law_of_large_numbers)"
   ]
  },
  {
   "attachments": {},
   "cell_type": "markdown",
   "metadata": {},
   "source": [
    "### Modifications\n",
    "Once we have a random variable where we can use Monte Carlo on there are tricks to manipulate that random variable such that the expectance is preserved but the behavior of the random variable changes. \n",
    "\n",
    "#### Russian Roulette\n",
    "Russian Roulette is a popular technique in rendering (see Veach). The idea is accelerating simulation by \"killing\" low contribution simulations early and compesating by scaling surviving ones but this has as side effect increased variance. This can be achieved mathematically by adding bernoulli processes and scaling without changing the expectance. <br> \n",
    "\n",
    "In previous example we can change the recursive definition slightly by replacing $t$ with bernoulli process $B(t)$ for $t<1$ (this doesn't affect the expectance). Then the code becomes:"
   ]
  },
  {
   "cell_type": "code",
   "execution_count": 169,
   "metadata": {},
   "outputs": [
    {
     "name": "stdout",
     "output_type": "stream",
     "text": [
      "exp(5) is approx = 145.87086638244105\n",
      "%error = -0.017129833604434153\n"
     ]
    }
   ],
   "source": [
    "from random import random\n",
    "from math import exp\n",
    "def Y(t):\n",
    "    return (1 + Y(random()*t) if 1-t<random() else 1) if t<1 else 1 + t* Y(random()*t)\n",
    "\n",
    "sol = 0\n",
    "nsim = 10**4\n",
    "t = 5\n",
    "\n",
    "for _ in range(nsim):\n",
    "    sol += Y(t)/nsim\n",
    "\n",
    "percentage_error = (sol - exp(t))/exp(t)\n",
    "\n",
    "print(f\"exp({t}) is approx = {sol}\")\n",
    "print(f\"%error = {percentage_error}\")"
   ]
  },
  {
   "attachments": {},
   "cell_type": "markdown",
   "metadata": {},
   "source": [
    "We don't need to approximate our random variable for $\\varepsilon$ because the simulation gets stopped by killing. Russian Roulette in this case got rid of a parameter, made our random variable unbiased and accelerated the program! "
   ]
  },
  {
   "attachments": {},
   "cell_type": "markdown",
   "metadata": {},
   "source": [
    "#### Control Variates\n",
    "Control variates is a widely used method to reduce variance in Monte Carlo methods. The idea is to subtract a similar random variable and add a other random variable with the same expectance. Often the expectance is known and the other random variable becomes a constant. (maybe we add an analysis of variance later)<br>\n",
    "\n",
    "Let's go back to our example. It's a bit tricky to find a control variate for the whole family of random variables because adding a control variate influences higher order recursion calls. The only thing that should stay the same is that $y(t)=E[Y(t)]$ if we had an approximation of $y(t) \\approx u(t)$ we can use that as a control variate. Let's go with a constant approximation of our solution $1$ because of our initial condition and $1+x$ for testing the case when the the expectance isn't known and estimated by Monte Carlo with $1$ simulation. "
   ]
  },
  {
   "cell_type": "code",
   "execution_count": 46,
   "metadata": {},
   "outputs": [
    {
     "data": {
      "image/png": "[encoded data removed]",
      "text/plain": [
       "<Figure size 640x480 with 1 Axes>"
      ]
     },
     "metadata": {},
     "output_type": "display_data"
    }
   ],
   "source": [
    "from random import random\n",
    "from math import exp\n",
    "import matplotlib.pyplot as plt\n",
    "\n",
    "#Russian Roulette base\n",
    "def Y(t):\n",
    "    return (1 + Y(random()*t) if 1-t<random() else 1) if t<1 else 1 + t* Y(random()*t)\n",
    "\n",
    "#Russian Roulette analytic control 1 \n",
    "def Y1(t):\n",
    "    return (1 + Y(random()*t)-1 + t if 1-t<random() else 1+t) if t<1 else 1 + t* (Y(random()*t)-1)+t\n",
    "\n",
    "#Russian Roulette MC1 control 1+x \n",
    "def Y2(t):\n",
    "    s = random()*t\n",
    "    if t<1:\n",
    "        return 1 + Y(s)-1-s+ t*(1+random()*t) if 1-t<random() else 1+ t*(1+random()*t)\n",
    "    else:\n",
    "        return 1 + t* (Y(s)-1-s) + t*(1+random()*t)\n",
    "\n",
    "\n",
    "nsim = 10**2\n",
    "t = 0.5\n",
    "sols = []\n",
    "sols1 = []\n",
    "sols2 = []\n",
    "\n",
    "for _ in range(1000):\n",
    "    sol = 0\n",
    "    sol1 = 0\n",
    "    sol2 = 0\n",
    "    for _ in range(nsim):\n",
    "        sol += Y(t)/nsim\n",
    "        sol1 += Y1(t)/nsim\n",
    "        sol2 += Y2(t)/nsim\n",
    "    sols.append((sol - exp(t))/exp(t))\n",
    "    sols1.append((sol1 - exp(t))/exp(t))\n",
    "    sols2.append((sol2 - exp(t))/exp(t))\n",
    "data = [sols,sols1,sols2]\n",
    "\n",
    "plt.hist(sols,bins=40,alpha = 0.5, color = \"green\",label=\"base\")\n",
    "plt.hist(sols1,bins =40,alpha = 0.5, color = \"orange\", label=\"control 1\")\n",
    "plt.hist(sols2, bins = 40, alpha = 0.5, color = \"red\", label= \"MC control 1+x\")\n",
    "plt.legend()\n",
    "plt.title(\"distribution %error control strats\")\n",
    "plt.show()"
   ]
  },
  {
   "attachments": {},
   "cell_type": "markdown",
   "metadata": {},
   "source": [
    "Control variates don't need to be static. In previous example a lot of information of $y$ can be extracted while doing simulations. Control variates that use information of simulations are adaptive control variates. Adaptive control variates can accelerate convergence complexity. (Later we will discuss orthonormal adaptive control variates)"
   ]
  },
  {
   "attachments": {},
   "cell_type": "markdown",
   "metadata": {},
   "source": [
    "Constant control variates alone usually don't increase performance but with Russian Roulette it does."
   ]
  },
  {
   "attachments": {},
   "cell_type": "markdown",
   "metadata": {},
   "source": [
    "#### Importance Sampling\n",
    "Importance sampling is also a widely used method to reduce variance in Monte Carlo methods. Remember the substitution with the uniform distribution that we did? The uniform distribution was an arbitrary choice we may have chosen any other distribution that was equivalent to $1_{[0,t]}$. Let's chose the distribution $\\frac{dP}{ds} \\sim x$ in our example:\n"
   ]
  },
  {
   "cell_type": "code",
   "execution_count": 48,
   "metadata": {},
   "outputs": [
    {
     "data": {
      "image/png": "[encoded data removed]",
      "text/plain": [
       "<Figure size 640x480 with 1 Axes>"
      ]
     },
     "metadata": {},
     "output_type": "display_data"
    }
   ],
   "source": [
    "from random import random\n",
    "from math import exp,sqrt\n",
    "\n",
    "def box_plot(data, edge_color, fill_color):\n",
    "    bp = ax.boxplot(data, patch_artist=True)\n",
    "    for element in ['boxes', 'whiskers', 'fliers', 'means', 'medians', 'caps']:\n",
    "        plt.setp(bp[element], color=edge_color, alpha = 0.5)\n",
    "    for patch in bp['boxes']:\n",
    "        patch.set(facecolor=fill_color)       \n",
    "    return bp\n",
    "\n",
    "#Russian Roulette base\n",
    "def Y(t):\n",
    "    return (1 + Y(random()*t) if 1-t<random() else 1) if t<1 else 1 + t* Y(random()*t)\n",
    "\n",
    "#unreadable\n",
    "#Russian Roulette importance sampling\n",
    "def Y1(t):\n",
    "    p = sqrt(random())*t\n",
    "    if t<1:\n",
    "        return 1 + t*Y1(p)/(p*2) if 1-t<random() else 1\n",
    "    else:\n",
    "        return 1 + t**2* Y1(p)/(p*2)\n",
    "\n",
    "data = []\n",
    "data1 = []\n",
    "ts= [0.25,0.5,3]\n",
    "for t in ts:\n",
    "    nsim = 10**3\n",
    "    sols = []\n",
    "    sols1 = []\n",
    "\n",
    "    for _ in range(100):\n",
    "        sol = 0\n",
    "        sol1 = 0\n",
    "        for _ in range(nsim):\n",
    "            sol += Y(t)/nsim\n",
    "            sol1 += Y1(t)/nsim\n",
    "        sols.append((sol - exp(t))/exp(t))\n",
    "        sols1.append((sol1 - exp(t))/exp(t))\n",
    "    data.append(sols)\n",
    "    data1.append(sols1)\n",
    "\n",
    "fig, ax = plt.subplots()\n",
    "bp1 = box_plot(data, 'red', 'tan')\n",
    "bp2 = box_plot(data1, 'blue', 'cyan')\n",
    "ax.legend([bp1[\"boxes\"][0], bp2[\"boxes\"][0]], ['base', 'important'])\n",
    "ax.set_ylim(-0.2, 0.2)\n",
    "plt.title(\"%error base vs important\")\n",
    "plt.xticks(ticks=[1,2,3],labels = [f\"t = {t}\" for t in ts])\n",
    "plt.show()\n"
   ]
  },
  {
   "attachments": {},
   "cell_type": "markdown",
   "metadata": {},
   "source": [
    "This wasn't a fair comparison because importance sampling affect simulation lengths ..."
   ]
  },
  {
   "attachments": {},
   "cell_type": "markdown",
   "metadata": {},
   "source": [
    "#### Quasi Monte Carlo\n",
    "Quasi Monte Carlo is a method to reduce variance in Monte Carlo. Remember how we used independent samples to estimate the expectance? Well the samples don't need to be $100\\%$ independent.<br>\n",
    "\n",
    "Gaussian quadrature rules (https://en.wikipedia.org/wiki/Gaussian_quadrature) are an efficient class of $n$-sample integrators that use a combination of importance sampling and carefully chosen sample points to increase performance on integrating a certain class of functions. <br>\n",
    "\n",
    "To perform Quasi Monte Carlo you need to coordinate the samples in some way. In our example you can think of each simulation as a path and coordinating these paths of unequal length we find difficult."
   ]
  },
  {
   "cell_type": "code",
   "execution_count": 7,
   "metadata": {},
   "outputs": [
    {
     "data": {
      "image/png": "[encoded data removed]",
      "text/plain": [
       "<Figure size 640x480 with 1 Axes>"
      ]
     },
     "metadata": {},
     "output_type": "display_data"
    }
   ],
   "source": [
    "# code that we maybe are going to use?\n",
    "from scipy.stats.qmc import Halton\n",
    "import matplotlib.pyplot as plt\n",
    "\n",
    "sampler = Halton(d=1)\n",
    "sample = sampler.random(n=10**2)"
   ]
  },
  {
   "attachments": {},
   "cell_type": "markdown",
   "metadata": {},
   "source": [
    "#### Others\n",
    "There are other techniques to modify the random variables in Monte Carlo but most of them can be replicated with a combination of previous techniques. Honorable mentions are \n",
    "- multilevel Monte Carlo (https://en.wikipedia.org/wiki/Multilevel_Monte_Carlo_method)\n",
    "- stratified sampling (https://en.wikipedia.org/wiki/Stratified_sampling)\n",
    "- ... (maybe we add more later)"
   ]
  },
  {
   "attachments": {},
   "cell_type": "markdown",
   "metadata": {},
   "source": [
    "### From ODEs to integral equations\n",
    "Turning ODEs into integral equations makes getting random variables for Monte Carlo easier. We will introduce a technique for doing this with a series of examples. The basic idea is that linear differential operators can be kind of inverted with integral operators which can be constructed using a kind of basis (when these are dirac delta functions it reduces to something similar to the method of green functions https://en.wikipedia.org/wiki/Green%27s_function).\n",
    "#### 1st order linear differential operators\n",
    "In this example we will try convert the following equation into a integral equation:\n",
    "$$\n",
    "\\begin{align*}\n",
    "    y'+ay&=f \\Leftrightarrow\\\\\n",
    "    (D+a)y&=f\n",
    "\\end{align*}\n",
    "$$\n",
    "$y(0)=y_{0}$ where $f,a$ are integrable functions, $a$ doesn't depend on $y$ (maybe $f$ doesn't contain $y'$). For $1st$ order operators it is known that $D+a= e^{\\int a} D e^{-\\int a}$ which easily can be inverted but for the sake of the example we derive\n",
    "this using steps of a more general approach. <br>\n",
    "\n",
    "We first split our problem using following substitution $y= y_{h} + y_{p}$ a \"homogeneous\" part that captures initial/boundary conditions and a inhomogeneous part that captures the source term (this is like linear ODE theory but only if $f$ doesn't depend on $y$). This step may look obsolete but it will make life easier dealing with boundary conditions in the general case. \n",
    "\n",
    "$$\n",
    "\\begin{align*}\n",
    "    (D+a)(y_{h}+y_{p})&=f \\Leftrightarrow \\\\\n",
    "    (D+a)y_{h}+(D+a)y_{p}&=f \\Leftarrow \\\\\n",
    "    (D+a)y_{h}&= 0 \\text{ and} \\\\\n",
    "    (D+a)y_{p}&=f\n",
    "\\end{align*}\n",
    "$$\n",
    "\n",
    "The boundary conditions: $y(0)=y_{0}= y_{h}(0) + y_{p}(0) \\Leftarrow  y_{h}(0)=y_{0} \\text{ and } y_{p}(0) = 0$. $y_{h}$ and $y_{p}$ are well defined (existence and uniqueness) when the original problem is well defined by Picard–Lindelöf theorem (https://en.wikipedia.org/wiki/Picard%E2%80%93Lindel%C3%B6f_theorem). <br>\n",
    "\n",
    "$y_{h}$ is a solution of a linear homogeneous differential equation so can be written as a linear combination of basis solutions. It is easy to derive following expression:\n",
    "$$\n",
    "    y_{h}(t) = e^{\\int_0^{t}a(s)ds}y(0)\n",
    "$$\n",
    "(Later we will discuss how to deal with $e^{\\int_0^{t}a(s)ds}$ without solving it in Monte Carlo simulations.) <br>\n",
    "\n",
    "$y_{p}$ in general can be found using green function with vanishing boundary/intial conditions. In this case we use the inverse of the linear operator which can be easily found with integrating factor (https://en.wikipedia.org/wiki/Integrating_factor): \n",
    "\n",
    "$$\n",
    "\\begin{align*}\n",
    "   (D+a)y_{p} &= f \\Leftrightarrow \\\\\n",
    "   y_{p}(t) &= e^{\\int_{0}^{t} a(s)ds} \\int_{0}^{t} e^{-\\int_{0}^{l} a(s)ds} f dl \n",
    "\\end{align*}\n",
    "$$\n",
    "\n",
    "This results in following integral equation:\n",
    "$$\n",
    "y(t)= e^{\\int_0^{t}a(s)ds}y(0)+e^{\\int_{0}^{t} a(s)ds} \\int_{0}^{t} e^{-\\int_{0}^{l} a(s)ds} f dl \n",
    "$$\n",
    "\n"
   ]
  },
  {
   "attachments": {},
   "cell_type": "markdown",
   "metadata": {},
   "source": [
    "##### example\n",
    "Let's go back and see how this applies to the first example. There various integral equations we can derive for this example.  Taking $a=0,f= y$ recovers the integral equation we first came up with. Taking $a = -1, f=0$ give a non recursive integral equation. Taking $a = -0.5,f=0.5y$ gives\n",
    "$$ \n",
    "y(t)= e^{0.5t} + 0.5 e^{0.5t}\\int_{0}^{t} e^{-0.5l} y(l)dl  \n",
    "$$\n",
    "Let's compare what the influence of $a$ is on the resulting Monte Carlo scheme (it looks stupid to calculate exp(t) using exp(t))"
   ]
  },
  {
   "cell_type": "code",
   "execution_count": 8,
   "metadata": {},
   "outputs": [
    {
     "data": {
      "image/png": "[encoded data removed]",
      "text/plain": [
       "<Figure size 640x480 with 1 Axes>"
      ]
     },
     "metadata": {},
     "output_type": "display_data"
    }
   ],
   "source": [
    "from random import random\n",
    "from math import exp\n",
    "import matplotlib.pyplot as plt\n",
    "\n",
    "def box_plot(data, edge_color, fill_color):\n",
    "    bp = ax.boxplot(data, patch_artist=True)\n",
    "    for element in ['boxes', 'whiskers', 'fliers', 'means', 'medians', 'caps']:\n",
    "        plt.setp(bp[element], color=edge_color, alpha = 0.5)\n",
    "    for patch in bp['boxes']:\n",
    "        patch.set(facecolor=fill_color)       \n",
    "    return bp\n",
    "\n",
    "def Y(t,a):\n",
    "    s=random()*t\n",
    "    if t<1:\n",
    "        return exp(a*t) + (1-a)*exp(a*t)*exp(-a*s)*Y(s,a) if 1-t<random() else exp(a*t) \n",
    "    else:\n",
    "        return exp(a*t) + (1-a)*t*exp(a*t)*exp(-a*s)*Y(s,a)\n",
    "        \n",
    "\n",
    "nsim = 10**2\n",
    "t = 0.5\n",
    "alist = [-1,-0.3,0,0.5,1,1.5]\n",
    "data=[]\n",
    "\n",
    "for a in alist:\n",
    "    sols = []\n",
    "    for _ in range(1000):\n",
    "            sol = 0\n",
    "            for _ in range(nsim):\n",
    "                sol += Y(t,a)/nsim\n",
    "            sols.append((sol - exp(t))/exp(t))\n",
    "    data.append(sols) \n",
    "\n",
    "\n",
    "fig, ax = plt.subplots()\n",
    "bp1 = box_plot(data, 'red', 'tan')\n",
    "ax.set_ylim(-0.2, 0.2)\n",
    "plt.title(\"%error for different a\")\n",
    "plt.xticks(ticks=range(1,len(alist)+1),labels = [f\"a = {a}\" for a in alist])\n",
    "plt.show()"
   ]
  },
  {
   "attachments": {},
   "cell_type": "markdown",
   "metadata": {},
   "source": [
    "#### 2nd order differential operators\n",
    "(TODO)\n",
    "tricks:\n",
    "- look at subproblem in domain\n",
    "- recursion on derivatives\n",
    "- maybe WoS example for PDEs + conjecture boundary green functions"
   ]
  },
  {
   "attachments": {},
   "cell_type": "markdown",
   "metadata": {},
   "source": [
    "## Non-Linearity\n",
    "From the first example it's not clear how to deal with non-linearity. Again we work through examples to explain how to deal with non-linearity."
   ]
  },
  {
   "attachments": {},
   "cell_type": "markdown",
   "metadata": {},
   "source": [
    "### Polynomials\n",
    "A simple case of non-linearity are polynomials. Let's look to following example:\n",
    "$$\n",
    "y'= y^2\n",
    "$$\n",
    "with $y(1)=-1$. If you repeat the steps from the first example the place where you run into problems is when merging expectation:\n",
    "\n",
    "$$\n",
    "\\begin{align*}\n",
    "y(t) &= -1 + (t-1)E[E^{2}[Y(x)] \\mid U = x] \\\\\n",
    "    &= -1 + (t-1)E[E[Y(x)] E[Y(x)]\\mid U = x]\n",
    "\\end{align*}\n",
    "$$\n",
    "in this case $U = \\text{Uniform}(1,t)$. The trick to be able to take the expectation out is by replacing $1$ of the $Y(x)$ by a independent $\\tilde{Y}(x)$ \n",
    "\n",
    "$$\n",
    "\\begin{align*}\n",
    "y(t)&= -1 + (t-1)E[E[Y(x)] E[\\tilde{Y}(x)]\\mid U = x] \\\\\n",
    "    &= -1 + (t-1)E[ E[Y(x) \\tilde{Y}(x)]\\mid U = x]\\\\\n",
    "    &= -1 + (t-1)E[Y(U)\\tilde{Y}(U)] \\\\\n",
    "    &= E[ -1 + (t-1)Y(U)\\tilde{Y}(U)] \n",
    "\\end{align*}\n",
    "$$\n",
    "Let's implement this in code:"
   ]
  },
  {
   "cell_type": "code",
   "execution_count": 34,
   "metadata": {},
   "outputs": [
    {
     "name": "stdout",
     "output_type": "stream",
     "text": [
      "sol(1.5) is approx = -0.6691999999999426\n",
      "%error = 0.0037999999999139833\n"
     ]
    }
   ],
   "source": [
    "from random import random\n",
    "def Y(t):\n",
    "    if t>2:\n",
    "        raise Exception(\"this doesn't support higher t\")\n",
    "    u = random()*(t-1)+1\n",
    "    return -1 + Y(u)*Y(u) if random()<t-1 else -1 # Y(u)**2 != Y(u)*Y(u) !!!\n",
    "\n",
    "sol = 0\n",
    "nsim = 10**4\n",
    "t = 1.5\n",
    "\n",
    "for _ in range(nsim):\n",
    "    sol += Y(t)/nsim\n",
    "\n",
    "s = -1/t\n",
    "percentage_error = (sol - s)/s\n",
    "\n",
    "print(f\"sol({t}) is approx = {sol}\")\n",
    "print(f\"%error = {percentage_error}\")"
   ]
  },
  {
   "attachments": {},
   "cell_type": "markdown",
   "metadata": {},
   "source": [
    "This can be easily generalized to higher order polynomials. Note that in nonlinear problems modifications are key. Without controlling the amount of recursion calls with Russian Roulette you will have to do exponential recursion calls and control variates are way more effective on higher order terms. <br> \n",
    "\n",
    "Now that we dealt with polynomials we have an approximate way to deal with continous functions by the Weierstrass approximation theorem (https://en.wikipedia.org/wiki/Stone%E2%80%93Weierstrass_theorem)."
   ]
  },
  {
   "attachments": {},
   "cell_type": "markdown",
   "metadata": {},
   "source": [
    "### Analytic Functions\n",
    "There is a nice way to deal with analytic functions in an unbiased way. Basically you can do Russian Roulette to terminate a taylor series reducing it to a polynomial. Remember that we said we were going to discuss how to deal with $e^{\\int_0^{t}a(s)ds}$? Let's do it. <br>\n",
    "\n",
    "The beginning point is the taylor series of $e^{x}$:\n",
    "$$\n",
    "\\begin{align*}\n",
    "e^{E[X]} &= \\sum_{n} \\frac{E^{n}[X]}{n!}\\\\\n",
    "      &= 1 + \\frac{1}{1}E[X](1+ \\frac{1}{2}E[X](1+\\frac{1}{3}E[X](1+ ...)))\n",
    "\\end{align*}\n",
    "$$\n",
    "Change the fractions to Bernoulli processes and replace all $X$ with independent $X_i$ with $E[X]=E[X_{i}]$.\n",
    "\n",
    "$$\n",
    "\\begin{align*}\n",
    "e^{E[X]}&= 1 + B(\\frac{1}{1})E[X_1](1+ B(\\frac{1}{2})E[X_2](1+B(\\frac{1}{3})E[X_3](1+ ...)))\\\\ \n",
    "      &= E[1 + B(\\frac{1}{1})X_1(1+ B(\\frac{1}{2})X_2(1+B(\\frac{1}{3})X_3(1+ ...)))]\\\\ \n",
    "      \n",
    "\\end{align*}\n",
    "$$\n",
    "What is inside the expectation is something that we can simulate. We haven't done an analysis of variance yet. Let's code up a Monte Carlo scheme for $e^{-\\int_0^t{xdx}}$ with this technique:"
   ]
  },
  {
   "cell_type": "code",
   "execution_count": 63,
   "metadata": {},
   "outputs": [
    {
     "name": "stdout",
     "output_type": "stream",
     "text": [
      "%error= 0.012528783413970243\n"
     ]
    }
   ],
   "source": [
    "from random import random\n",
    "from math import exp\n",
    "\n",
    "def X(t):\n",
    "    return -t*t*random()\n",
    "\n",
    "#this calculate the depth of Bernoulli = 1\n",
    "def amount_bernoulli():\n",
    "    i = 1\n",
    "    while random()*i<1:\n",
    "        i+=1\n",
    "    return i-1\n",
    "\n",
    "#if the Bernoulli's are 1 you have a recursive structure in the def\n",
    "def res(n,estimator):\n",
    "    return 1 + estimator()*res(n-1,estimator) if n != 0 else 1    \n",
    "\n",
    "def expE(estimator):\n",
    "    return res(amount_bernoulli(),estimator)\n",
    "    \n",
    "nsim = 10**3\n",
    "sol = 0\n",
    "# this example works well for -1.5<t<1.5\n",
    "t = 1.5\n",
    "\n",
    "def Y():\n",
    "    return X(t)\n",
    "\n",
    "for _ in range(nsim):\n",
    "    sol += expE(Y)/nsim\n",
    "\n",
    "exact = exp(-t**2/2)\n",
    "print(\"%error=\",(sol- exact)/exact)"
   ]
  },
  {
   "attachments": {},
   "cell_type": "markdown",
   "metadata": {},
   "source": [
    "## Other Applications\n",
    "The techniques that we have so far can be used to build/modify other algorithms.\n",
    "\n",
    "### Linear Systems \n",
    "(see test period1 RMC for linear system)\n",
    "\n",
    "### Stochastic Fixpoint Example\n",
    "Following code solves\n",
    "$$\n",
    "x = \\frac{1}{1-\\frac{1}{8}x}\n",
    "$$"
   ]
  },
  {
   "cell_type": "code",
   "execution_count": 1,
   "metadata": {},
   "outputs": [
    {
     "name": "stdout",
     "output_type": "stream",
     "text": [
      "%error =  -0.0005428997666106146\n",
      "#average amount of recursive calls = 1.508\n"
     ]
    }
   ],
   "source": [
    "from random import random\n",
    "\n",
    "def amount_bernoulli():\n",
    "    return amount_bernoulli() + 1 if random()<1/4 else 0\n",
    "    \n",
    "def res(n,estimator):\n",
    "    return 1+0.5*estimator()*res(n-1,estimator) if n>0 else 1\n",
    "    \n",
    "amount_of_recursive_calls=0\n",
    "def X():\n",
    "    global amount_of_recursive_calls\n",
    "    amount_of_recursive_calls += 1\n",
    "    return res(amount_bernoulli(),X)\n",
    "\n",
    "def x(n):\n",
    "    return 1/(1-(x(n-1))/8) if n>0 else 1.5\n",
    "    \n",
    "nsim = 10**3\n",
    "sol = 0\n",
    "\n",
    "for _ in range(nsim):\n",
    "    sol+=X()/nsim\n",
    "\n",
    "exact = x(10**3)\n",
    "print(\"%error = \",(sol-exact)/exact)\n",
    "print(\"#average amount of recursive calls =\",amount_of_recursive_calls/nsim)"
   ]
  },
  {
   "attachments": {},
   "cell_type": "markdown",
   "metadata": {},
   "source": [
    "#average amount of recursive calls is deceiving measure for parallel speed, parallel speed should be measured in longest recursion call and that is in this case difficult to measure."
   ]
  },
  {
   "attachments": {},
   "cell_type": "markdown",
   "metadata": {},
   "source": [
    "## Further Work\n",
    "TODO:\n",
    "- variance analysis\n",
    "- orthonormal adaptive control variates\n",
    "- importance sampling tricks\n",
    "- DIY stochastic trust region method\n",
    "- Volterra, Fredholm integral equations?\n",
    "- diffusion type PDEs with efficient Brownian simulation + compressing"
   ]
  }
 ],
 "metadata": {
  "kernelspec": {
   "display_name": "Python 3",
   "language": "python",
   "name": "python3"
  },
  "language_info": {
   "codemirror_mode": {
    "name": "ipython",
    "version": 3
   },
   "file_extension": ".py",
   "mimetype": "text/x-python",
   "name": "python",
   "nbconvert_exporter": "python",
   "pygments_lexer": "ipython3",
   "version": "3.10.8"
  },
  "orig_nbformat": 4,
  "vscode": {
   "interpreter": {
    "hash": "61dcd53c54624714075f66cf77d2f4f7b806bcd73e530a683be31ad82b480a0b"
   }
  }
 },
 "nbformat": 4,
 "nbformat_minor": 2
}
