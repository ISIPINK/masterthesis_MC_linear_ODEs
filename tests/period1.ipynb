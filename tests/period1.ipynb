{
 "cells": [
  {
   "attachments": {},
   "cell_type": "markdown",
   "metadata": {},
   "source": [
    "# table of contents\n",
    "TODO"
   ]
  },
  {
   "attachments": {},
   "cell_type": "markdown",
   "metadata": {},
   "source": [
    "## RMC for ODEs\n",
    "### Basic construction\n",
    "We ran some tests for \n",
    "$y'=y, y(0)=1$ with a basic Monte Carlo recursive scheme to build understanding. <br>\n",
    "\n",
    "To do Monte Carlo you need a random variable $Y(t)$ which you can simulate such that $y(t) = E[Y(t)]$. To construct such a random variable you first need to turn the ODE into an integral equation which is easier to manipulate in this context. There are multiple techniques to do that (we will write it down later) in this case we want a recursive integral equation for theoretical reasons. This is easily obtained by integrating both sides.\n",
    "\n",
    "$$\n",
    "y(t)= 1 + \\int_0^t y(s)ds.\n",
    "$$\n",
    "Do the following substitution in the integral $ds = \\frac{ds}{dU} dU$ with $U = \\text{Uniform}(0,t)$. (https://en.wikipedia.org/wiki/Radon%E2%80%93Nikodym_theorem $U$ is equivalent to $1_{[0,t]}$ you could interpret constants as random variables) Now you can write the integral as an expectation using reverse LOTUS (https://en.wikipedia.org/wiki/Law_of_the_unconscious_statistician).\n",
    "\n",
    "$$\n",
    "\\begin{align*}\n",
    "y(t)&= 1 + E[y(U) \\frac{ds}{dU}]\\\\\n",
    "&= 1 + tE[y(x) \\mid U = x]\\\\\n",
    "\\end{align*}\n",
    "$$\n",
    "Suppose we can construct a family of random variables $Y(x)>0, 0<x<t$ (induction like) such that $y(x) = E[Y(x)]$. We will try to construct $Y(t)$ out of those. Sub this property in the previous equation.\n",
    "\n",
    "$$\n",
    "y(t)= 1 + tE[E[Y(x)] \\mid U = x]\n",
    "$$\n",
    "\n",
    "Now merge the expectations (in this case it's ok because everything is positive).\n",
    "\n",
    "$$\n",
    "\\begin{align*}\n",
    "y(t)&= 1 + tE[Y(x) \\mid U = x]\\\\\n",
    "    &= 1 + tE[Y(U)]\\\\\n",
    "    &= E[1 + tY(U)]\n",
    "\\end{align*}\n",
    "$$\n",
    "$1 + tY(U)$ has the property of the random variable we wanted to construct. To complete the construction we would need\n",
    "to construct $Y(x)>0, 0<x<\\varepsilon$ for an arbitrary $\\varepsilon$. We haven't figured out how to do that but we approximate such random variable for small $\\varepsilon$ with $1$.<br>\n",
    "Following code demonstrates how to construct $Y(t)$ approximately using recursion."
   ]
  },
  {
   "cell_type": "code",
   "execution_count": 2,
   "metadata": {},
   "outputs": [
    {
     "name": "stdout",
     "output_type": "stream",
     "text": [
      "exp(1) is approx = 2.758516570657602\n"
     ]
    }
   ],
   "source": [
    "from random import random\n",
    "def Y(t,eps):\n",
    "    return 1 + t* Y(random()*t,eps) if t>eps else 1 \n",
    "\n",
    "sol = 0\n",
    "nsim = 10**3\n",
    "eps = 0.01\n",
    "t = 1\n",
    "\n",
    "for _ in range(nsim):\n",
    "    sol += Y(t,eps)/nsim\n",
    "\n",
    "print(f\"exp({t}) is approx = {sol}\")"
   ]
  },
  {
   "attachments": {},
   "cell_type": "markdown",
   "metadata": {},
   "source": [
    "To get clean convergence results we want $\\text{Var}(Y(t)) < \\infty$ but this is not necessary (later we will do an analysis of variance).\n",
    "(https://en.wikipedia.org/wiki/Law_of_large_numbers)"
   ]
  },
  {
   "attachments": {},
   "cell_type": "markdown",
   "metadata": {},
   "source": [
    "### Modifications\n",
    "Once we have a random variable where we can use Monte Carlo on there are tricks to manipulate that random variable such that the expectance is preserved but the behavior of the random variable changes. \n",
    "\n",
    "#### Russian Roulette\n",
    "Russian Roulette is a popular technique in rendering (see Veach). The idea is accelerating simulation by \"killing\" low contribution simulations early but this has as side effect increased variance. This can be achieved mathematically by adding bernoulli processes without changing the expectance. <br> \n",
    "\n",
    "In previous example we can change the recursive definition slightly by replacing $t$ with bernoulli process $B(t)$ for $t<1$ (this doesn't affect the expectance). Then the code becomes:"
   ]
  },
  {
   "cell_type": "code",
   "execution_count": 169,
   "metadata": {},
   "outputs": [
    {
     "name": "stdout",
     "output_type": "stream",
     "text": [
      "exp(5) is approx = 145.87086638244105\n",
      "%error = -0.017129833604434153\n"
     ]
    }
   ],
   "source": [
    "from random import random\n",
    "from math import exp\n",
    "def Y(t):\n",
    "    return (1 + Y(random()*t) if 1-t<random() else 1) if t<1 else 1 + t* Y(random()*t)\n",
    "\n",
    "sol = 0\n",
    "nsim = 10**4\n",
    "t = 5\n",
    "\n",
    "for _ in range(nsim):\n",
    "    sol += Y(t)/nsim\n",
    "\n",
    "percentage_error = (sol - exp(t))/exp(t)\n",
    "\n",
    "print(f\"exp({t}) is approx = {sol}\")\n",
    "print(f\"%error = {percentage_error}\")"
   ]
  },
  {
   "attachments": {},
   "cell_type": "markdown",
   "metadata": {},
   "source": [
    "We don't need to approximate our random variable for $\\varepsilon$ because the simulation gets stopped by killing. Russian Roulette in this case got rid of a parameter, made our random variable unbiased and accelerated the program! "
   ]
  },
  {
   "attachments": {},
   "cell_type": "markdown",
   "metadata": {},
   "source": [
    "#### Control Variates\n",
    "Control variates is a widely used method to reduce variance in Monte Carlo methods. The idea is to subtract a similar random variable and add a other random variable with the same expectance. Often the expectance is known and the other random variable becomes a constant. (maybe we add an analysis of variance later)<br>\n",
    "\n",
    "Let's go back to our example. It's a bit tricky to find a control variate for the whole family of random variables because adding a control variate influences higher order recursion calls. The only thing that should stay the same is that $y(t)=E[Y(t)]$ if we had an approximation of $y(t) \\approx u(t)$ we can use that as a control variate. Let's go with a constant approximation of our solution $1$ because of our initial condition and $1+x$ for testing the case when the the expectance isn't known and estimated by Monte Carlo with $1$ simulation. "
   ]
  },
  {
   "cell_type": "code",
   "execution_count": 3,
   "metadata": {},
   "outputs": [
    {
     "data": {
      "image/png": "[encoded data removed]",
      "text/plain": [
       "<Figure size 640x480 with 1 Axes>"
      ]
     },
     "metadata": {},
     "output_type": "display_data"
    }
   ],
   "source": [
    "from random import random\n",
    "from math import exp\n",
    "import matplotlib.pyplot as plt\n",
    "\n",
    "#Russian Roulette base\n",
    "def Y(t):\n",
    "    return (1 + Y(random()*t) if 1-t<random() else 1) if t<1 else 1 + t* Y(random()*t)\n",
    "\n",
    "#Russian Roulette analytic control 1 \n",
    "def Y1(t):\n",
    "    return (1 + Y(random()*t)-1 + t if 1-t<random() else 1+t) if t<1 else 1 + t* (Y(random()*t)-1)+t\n",
    "\n",
    "#Russian Roulette MC1 control 1+x \n",
    "def Y2(t):\n",
    "    s = random()*t\n",
    "    return (1 + Y(s)-1-s+ t*(1+random()*t) if 1-t<random() else 1+ t*(1+random()*t)) if t<1 else 1 + t* (Y(s)-1-s) + t*(1+random()*t)\n",
    "\n",
    "\n",
    "nsim = 10**2\n",
    "t = 0.5\n",
    "sols = []\n",
    "sols1 = []\n",
    "sols2 = []\n",
    "\n",
    "for _ in range(1000):\n",
    "    sol = 0\n",
    "    sol1 = 0\n",
    "    sol2 = 0\n",
    "    for _ in range(nsim):\n",
    "        sol += Y(t)/nsim\n",
    "        sol1 += Y1(t)/nsim\n",
    "        sol2 += Y2(t)/nsim\n",
    "    sols.append((sol - exp(t))/exp(t))\n",
    "    sols1.append((sol1 - exp(t))/exp(t))\n",
    "    sols2.append((sol2 - exp(t))/exp(t))\n",
    "data = [sols,sols1,sols2]\n",
    "\n",
    "plt.hist(sols,bins=40,alpha = 0.5, color = \"green\",label=\"base\")\n",
    "plt.hist(sols1,bins =40,alpha = 0.5, color = \"orange\", label=\"control 1\")\n",
    "plt.hist(sols2, bins = 40, alpha = 0.5, color = \"red\", label= \"MC control 1+x\")\n",
    "plt.legend()\n",
    "plt.title(\"distribution %error control strats\")\n",
    "plt.show()"
   ]
  },
  {
   "attachments": {},
   "cell_type": "markdown",
   "metadata": {},
   "source": [
    "Control variates don't need to be static. In previous example a lot of information of $y$ can be extracted while doing simulations. Control variates that use information of simulations are adaptive control variates. Adaptive control variates can accelerate convergence complexity. (Later we will discuss orthonormal adaptive control variates)"
   ]
  },
  {
   "attachments": {},
   "cell_type": "markdown",
   "metadata": {},
   "source": [
    "Constant control variates alone usably don't increase performance but with Russian Roulette it does."
   ]
  },
  {
   "attachments": {},
   "cell_type": "markdown",
   "metadata": {},
   "source": [
    "#### Importance Sampling\n",
    "Importance sampling is also a widely used method to reduce variance in Monte Carlo methods. Remember the substitution with the uniform distribution that we did? The uniform distribution was an arbitrary choice we may have chosen any other distribution that was equivalent to $1_{[0,t]}$. Let's chose the distribution $\\frac{dP}{ds} \\sim t$ in our example:\n"
   ]
  },
  {
   "cell_type": "code",
   "execution_count": 44,
   "metadata": {},
   "outputs": [
    {
     "data": {
      "image/png": "[encoded data removed]",
      "text/plain": [
       "<Figure size 640x480 with 1 Axes>"
      ]
     },
     "metadata": {},
     "output_type": "display_data"
    }
   ],
   "source": [
    "from random import random\n",
    "from math import exp,sqrt\n",
    "\n",
    "def box_plot(data, edge_color, fill_color):\n",
    "    bp = ax.boxplot(data, patch_artist=True)\n",
    "    for element in ['boxes', 'whiskers', 'fliers', 'means', 'medians', 'caps']:\n",
    "        plt.setp(bp[element], color=edge_color, alpha = 0.5)\n",
    "    for patch in bp['boxes']:\n",
    "        patch.set(facecolor=fill_color)       \n",
    "    return bp\n",
    "\n",
    "#Russian Roulette base\n",
    "def Y(t):\n",
    "    return (1 + Y(random()*t) if 1-t<random() else 1) if t<1 else 1 + t* Y(random()*t)\n",
    "\n",
    "#unreadable\n",
    "#Russian Roulette importance sampling\n",
    "def Y1(t):\n",
    "    p = sqrt(random())*t\n",
    "    return (1 + t*Y1(p)/(p*2) if 1-t<random() else 1) if t<1 else 1 + t**2* Y1(p)/(p*2)\n",
    "\n",
    "data = []\n",
    "data1 = []\n",
    "ts= [0.25,0.5,3]\n",
    "for t in ts:\n",
    "    nsim = 10**3\n",
    "    sols = []\n",
    "    sols1 = []\n",
    "\n",
    "    for _ in range(100):\n",
    "        sol = 0\n",
    "        sol1 = 0\n",
    "        for _ in range(nsim):\n",
    "            sol += Y(t)/nsim\n",
    "            sol1 += Y1(t)/nsim\n",
    "        sols.append((sol - exp(t))/exp(t))\n",
    "        sols1.append((sol1 - exp(t))/exp(t))\n",
    "    data.append(sols)\n",
    "    data1.append(sols1)\n",
    "\n",
    "fig, ax = plt.subplots()\n",
    "bp1 = box_plot(data, 'red', 'tan')\n",
    "bp2 = box_plot(data1, 'blue', 'cyan')\n",
    "ax.legend([bp1[\"boxes\"][0], bp2[\"boxes\"][0]], ['base', 'important'])\n",
    "ax.set_ylim(-0.2, 0.2)\n",
    "plt.title(\"%error base vs important\")\n",
    "plt.xticks(ticks=[1,2,3],labels = [f\"t = {t}\" for t in ts])\n",
    "plt.show()\n"
   ]
  },
  {
   "attachments": {},
   "cell_type": "markdown",
   "metadata": {},
   "source": [
    "This wasn't a fair comparison because importance sampling affect simulation lengths ..."
   ]
  },
  {
   "attachments": {},
   "cell_type": "markdown",
   "metadata": {},
   "source": [
    "#### Quasi Monte Carlo\n",
    "Quasi Monte Carlo is a method to reduce variance in Monte Carlo. Remember how we used independent samples to estimate the expectance? Well the samples don't need to be $100%$ independent.<br>\n",
    "\n",
    "Gaussian quadrature rules (https://en.wikipedia.org/wiki/Gaussian_quadrature) are an efficient class of $n$-sample integrators that use a combination of importance sampling and carefully chosen sample points to increase performance on integrating a certain class of functions. <br>\n",
    "\n",
    "To perform Quasi Monte Carlo you need to coordinate the samples in some way. In our example you can think that each simulation is a path and coordinating these paths of unequal length we find difficult."
   ]
  },
  {
   "cell_type": "code",
   "execution_count": 7,
   "metadata": {},
   "outputs": [
    {
     "data": {
      "image/png": "[encoded data removed]",
      "text/plain": [
       "<Figure size 640x480 with 1 Axes>"
      ]
     },
     "metadata": {},
     "output_type": "display_data"
    }
   ],
   "source": [
    "# code that we maybe are going to use?\n",
    "from scipy.stats.qmc import Halton\n",
    "import matplotlib.pyplot as plt\n",
    "\n",
    "sampler = Halton(d=1)\n",
    "sample = sampler.random(n=10**2)"
   ]
  },
  {
   "attachments": {},
   "cell_type": "markdown",
   "metadata": {},
   "source": [
    "#### others\n",
    "There are a lot more techniques to modify the random variables in Monte Carlo but most of them can be replicated with a combination of previous techniques. Honorable mentions are \n",
    "- multilevel Monte Carlo (https://en.wikipedia.org/wiki/Multilevel_Monte_Carlo_method)\n",
    "- stratified sampling (https://en.wikipedia.org/wiki/Stratified_sampling)\n",
    "- ... (maybe we add more later)"
   ]
  }
 ],
 "metadata": {
  "kernelspec": {
   "display_name": "Python 3",
   "language": "python",
   "name": "python3"
  },
  "language_info": {
   "codemirror_mode": {
    "name": "ipython",
    "version": 3
   },
   "file_extension": ".py",
   "mimetype": "text/x-python",
   "name": "python",
   "nbconvert_exporter": "python",
   "pygments_lexer": "ipython3",
   "version": "3.10.8"
  },
  "orig_nbformat": 4,
  "vscode": {
   "interpreter": {
    "hash": "61dcd53c54624714075f66cf77d2f4f7b806bcd73e530a683be31ad82b480a0b"
   }
  }
 },
 "nbformat": 4,
 "nbformat_minor": 2
}
