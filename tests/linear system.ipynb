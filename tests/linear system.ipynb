{
 "cells": [
  {
   "cell_type": "code",
   "execution_count": 4,
   "metadata": {},
   "outputs": [],
   "source": [
    "from random import random, randint\n",
    "import numpy as np"
   ]
  },
  {
   "attachments": {},
   "cell_type": "markdown",
   "metadata": {},
   "source": [
    "Lets solve \n",
    "x = [[-1/8 1/8] [1/8 1/8]] x + [1 3/4]T\n",
    "with recursive Monte Carlo.\n",
    "This has solution x = [1,1]"
   ]
  },
  {
   "cell_type": "code",
   "execution_count": 40,
   "metadata": {},
   "outputs": [],
   "source": [
    "def x1():\n",
    "    r = randint(0,3)\n",
    "    if r == 0:\n",
    "        return -0.5*x1() +1\n",
    "    elif r==1:\n",
    "        return 0.5*x2() +1\n",
    "    else:\n",
    "        return 1\n",
    "    \n",
    "def x2():\n",
    "    r = randint(0,3)\n",
    "    if r == 0:\n",
    "        return 0.5*x1() +3/4\n",
    "    elif r==1:\n",
    "        return 0.5*x2() +3/4\n",
    "    else:\n",
    "        return 3/4"
   ]
  },
  {
   "cell_type": "code",
   "execution_count": 73,
   "metadata": {},
   "outputs": [
    {
     "name": "stdout",
     "output_type": "stream",
     "text": [
      "1.0065107421874995\n",
      "0.9821152343750039\n"
     ]
    }
   ],
   "source": [
    "res = 0\n",
    "for _ in range(1000):\n",
    "    res += x1()/1000\n",
    "print(res)\n",
    "\n",
    "res = 0\n",
    "for _ in range(1000):\n",
    "    res += x2()/1000\n",
    "print(res)"
   ]
  }
 ],
 "metadata": {
  "kernelspec": {
   "display_name": "Python 3",
   "language": "python",
   "name": "python3"
  },
  "language_info": {
   "codemirror_mode": {
    "name": "ipython",
    "version": 3
   },
   "file_extension": ".py",
   "mimetype": "text/x-python",
   "name": "python",
   "nbconvert_exporter": "python",
   "pygments_lexer": "ipython3",
   "version": "3.10.8"
  },
  "orig_nbformat": 4,
  "vscode": {
   "interpreter": {
    "hash": "61dcd53c54624714075f66cf77d2f4f7b806bcd73e530a683be31ad82b480a0b"
   }
  }
 },
 "nbformat": 4,
 "nbformat_minor": 2
}
