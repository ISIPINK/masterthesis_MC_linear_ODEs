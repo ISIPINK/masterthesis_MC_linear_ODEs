{
 "cells": [
  {
   "cell_type": "code",
   "execution_count": 83,
   "metadata": {},
   "outputs": [
    {
     "name": "stdout",
     "output_type": "stream",
     "text": [
      "x(1,1) = [2.719 2.718]\n"
     ]
    }
   ],
   "source": [
    "from random import random as U\n",
    "from collections import deque\n",
    "import numpy as np\n",
    "\n",
    "def sample_path(t):\n",
    "    res = deque([t])\n",
    "    while U() < t:\n",
    "        t *= U()\n",
    "        res.append(t)\n",
    "    return res\n",
    "\n",
    "def X(t,a) ->np.array:\n",
    "    q , A = np.array([1.0 , 0.0]) , np.array([[ a , 0.0] , [1.0 , a ]])\n",
    "    X, path = np.zeros(2), sample_path(t)\n",
    "    while path:\n",
    "        t = path[-1]\n",
    "        X = q + (A @ X if t<1 else t* A @ X)\n",
    "        path.pop()\n",
    "    return X\n",
    "def sol(t, a, nsim): return sum(X(t, a) for _ in range(nsim))/nsim\n",
    "print(f\"x(1,1) = {sol(1,1,10**3)}\")"
   ]
  }
 ],
 "metadata": {
  "kernelspec": {
   "display_name": "Python 3",
   "language": "python",
   "name": "python3"
  },
  "language_info": {
   "codemirror_mode": {
    "name": "ipython",
    "version": 3
   },
   "file_extension": ".py",
   "mimetype": "text/x-python",
   "name": "python",
   "nbconvert_exporter": "python",
   "pygments_lexer": "ipython3",
   "version": "3.10.11"
  },
  "orig_nbformat": 4
 },
 "nbformat": 4,
 "nbformat_minor": 2
}
