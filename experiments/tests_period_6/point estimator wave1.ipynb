{
 "cells": [
  {
   "cell_type": "markdown",
   "metadata": {},
   "source": [
    "\n",
    "\\begin{align*}\n",
    "u_{tt} &= u_{xx} \\\\\n",
    "u_{tt}(t,x) &= \\frac{u(t,x+ \\Delta x)-2u(t,x)+u(t,x- \\Delta x)}{\\Delta x^{2}} \\\\\n",
    "u_{tt}(t,x) + \\frac{2}{\\Delta x^{2}}u(t,x) &= \\frac{u(t,x+ \\Delta x)+u(t,x- \\Delta x)}{\\Delta x^{2}} \\\\\n",
    "\\end{align*}\n",
    "Introduce: $q = \\frac{\\sqrt{2}}{\\Delta x}$.\n",
    "\\begin{align*}\n",
    "u_{tt}(t,x) + 2 q u_t(t,x) + q^{2}u(t,x) &= q^{2}\\frac{u(t,x+ \\Delta x)+u(t,x- \\Delta x)}{2}+ 2 q u_t(t,x) \\\\\n",
    "\\end{align*}\n",
    "Green's functions:\n",
    "\n",
    "\\begin{align*}\n",
    "u(t,x) &= e^{-qt}(qt+1) u(0,x) + t e^{-qt}u_t(0,x)\n",
    "+  \\int_{0}^{t} (t-s) e^{q(s-t)} \n",
    "\\left[\\frac{q^{2}}{2} (u(s,x+\\Delta x)+u(s,x-\\Delta x)) + 2 q u_t(s,x)\\right]  ds\n",
    "\\end{align*}\n",
    "\n",
    "Now take time derivative: \n",
    "\\begin{align*}\n",
    "u_t(t,x) &= -q^{2} t e^{-qt} u(0,x) + (1-qt) e^{-qt}u_t(0,x) +  \\int_{0}^{t} (1-qt+qs) e^{q(s-t)} \\left[\\frac{q^{2}}{2} (u(s,x+\\Delta x)+u(s,x-\\Delta x)) + 2 q u_t(s,x)\\right]  ds\n",
    "\\end{align*}\n",
    "\n",
    "Still need to try out removing $u_t$ with integration by parts and splitting the integral to monotone terms for importance sampling."
   ]
  },
  {
   "cell_type": "markdown",
   "metadata": {},
   "source": [
    "This is assuming you know noisy $u_t$"
   ]
  },
  {
   "cell_type": "markdown",
   "metadata": {},
   "source": [
    "wolframalpha: y''(t) +2ay'(t)+a^2 y(t) = delta(t-s) , y(0) =0 , y'(0)=0, t>0 ,s>0 <br>\n",
    "$$\n",
    "y''(t) +2ay'(t)+a^2 y(t) = \\delta(t-s) , y(0) =0 , y'(0)=0, t>0 ,s>0\n",
    ".\n",
    "$$ \n",
    "solution : \n",
    "$$\n",
    "y(t) = (s - t) e^{a (s - t)} (θ(-s) - θ(t - s))\n",
    ".\n",
    "$$ \n",
    "\n",
    "wolframalpha: {y''(t) + 2 a y'(t) + a^2 y(t) = 0, y(0) = 1, y'(0) = 0, t>0} <br>\n",
    "$$\n",
    "y''(t) + 2 a y'(t) + a^2 y(t) = 0, y(0) = 1, y'(0) = 0, t>0\n",
    ".\n",
    "$$ \n",
    "solution: \n",
    "$$\n",
    "y(t) = e^{-a t} (a t + 1).\n",
    "$$ \n",
    "\n",
    "wolframalpha: {y''(t) + 2 a y'(t) + a^2 y(t) = 0, y(0) = 0, y'(0) = 1, t>0}\n",
    "$$\n",
    "y''(t) + 2 a y'(t) + a^2 y(t) = 0, y(0) = 0, y'(0) = 1, t>0\n",
    ".\n",
    "$$ \n",
    "solution:\n",
    "$$\n",
    "y(t) = t e^{-a t}\n",
    ".\n",
    "$$ \n",
    "\n",
    "wolframalpha: d/dt( integral_0^t (t - s) exp(a (s - t)) f(s) ds) = integral_0^t (e^(a (s - t)) f(s) - a e^(a (s - t)) (t - s) f(s)) ds <br>\n",
    "solution:\n",
    "\\begin{align*}\n",
    " \\frac{\\partial}{\\partial t}\\left(\\int_0^t(t-s) \\exp (a(s-t)) f(s) d s\\right)=\\int_0^t\\left(e^{a(s-t)} f(s)-a e^{a(s-t)}(t-s) f(s)\\right) d s   \n",
    "\\end{align*}\n",
    "\n",
    "\n"
   ]
  },
  {
   "cell_type": "code",
   "execution_count": 1,
   "metadata": {},
   "outputs": [
    {
     "data": {
      "application/vnd.jupyter.widget-view+json": {
       "model_id": "528ecb1b99904be5a4caf1b9a1c88150",
       "version_major": 2,
       "version_minor": 0
      },
      "text/plain": [
       "Label(value='')"
      ]
     },
     "metadata": {},
     "output_type": "display_data"
    },
    {
     "data": {
      "application/vnd.jupyter.widget-view+json": {
       "model_id": "69a7ef22b3bf4a5bb750a91812af7ac9",
       "version_major": 2,
       "version_minor": 0
      },
      "text/plain": [
       "Label(value='')"
      ]
     },
     "metadata": {},
     "output_type": "display_data"
    },
    {
     "data": {
      "application/vnd.jupyter.widget-view+json": {
       "model_id": "17152e6db02d41fab5013083cbc352c2",
       "version_major": 2,
       "version_minor": 0
      },
      "text/plain": [
       "interactive(children=(FloatSlider(value=0.0, description='t:', max=10.0), FloatSlider(value=0.0, description='…"
      ]
     },
     "metadata": {},
     "output_type": "display_data"
    },
    {
     "data": {
      "text/plain": [
       "<function __main__.update_histogram(t, x, dt, dx, nsim)>"
      ]
     },
     "execution_count": 1,
     "metadata": {},
     "output_type": "execute_result"
    }
   ],
   "source": [
    "from random import random as U\n",
    "import numpy as np\n",
    "import matplotlib.pyplot as plt\n",
    "from ipywidgets import interact, widgets\n",
    "\n",
    "# def u(t,x): return x**2 + 2*t #needs to satisfy wave equation\n",
    "# def ut(t,x): return  2 #needs to satisfy wave equation\n",
    "\n",
    "# def u(t,x): return x*t**2 + x**3/3 #needs to satisfy wave equation\n",
    "# def ut(t,x): return 2*x*t  #needs to satisfy wave equation\n",
    "\n",
    "def u(t,x): return np.sin(x+t) #needs to satisfy wave equation\n",
    "def ut(t,x): return np.cos(x+t)  #needs to satisfy wave equation\n",
    "\n",
    "def P1(t,q): return (q*t+1)*np.exp(-q*t) \n",
    "def P2(t,q): return t*np.exp(-q*t) \n",
    "def GG(t,s,q): return (t-s)*np.exp(q*(s-t)) \n",
    "count = 0\n",
    "\n",
    "def Z0(t,x,dx,dt):\n",
    "    q =np.sqrt(2)/dx\n",
    "    s = t*U()\n",
    "    xnew = x+dx if U()<1/2 else x-dx\n",
    "    sol = P1(t,q)*u(0,x)\n",
    "    sol += P2(t,q)*ut(0,x)\n",
    "    sol += t*GG(t,s,q) * 2 *q * ut(s,x)\n",
    "    if t/dt>1:\n",
    "        sol+=t*GG(t,s,q)*q**2*Z0(s,xnew,dx,dt)\n",
    "    elif U()<t/dt:\n",
    "        sol+=dt*GG(t,s,q)*q**2*Z0(s,xnew,dx,dt)\n",
    "    return sol\n",
    "\n",
    "def Z(t,x,dx,dt):\n",
    "    if t< dt: return Z0(t,x,dx,dt) \n",
    "    t0 = t-dt\n",
    "    q =np.sqrt(2)/dx\n",
    "    s = dt*U()+t0\n",
    "    xnew = x+dx if U()<1/2 else x-dx\n",
    "    samp = 5/10\n",
    "    if U()<samp: \n",
    "        sol = P1(dt,q)*Z(t0,x,dx,dt)/samp\n",
    "    else:\n",
    "        sol=dt*GG(t,s,q)*q**2*Z(s,xnew,dx,dt)/(1-samp)\n",
    "    \n",
    "    rr_rate = q if 1/q <1 else 1\n",
    "\n",
    "    if 1/rr_rate>U():\n",
    "        rr = rr_rate\n",
    "        global count\n",
    "        count +=1\n",
    "        sol += rr*dt*P2(dt,q)*ut(t0,x) \n",
    "        sol += rr*dt*GG(t,s,q)* 2 *q *ut(s,x)\n",
    "\n",
    "    return sol\n",
    "\n",
    "def update_histogram(t,x,dt, dx,nsim):\n",
    "    nsim = 10**int(nsim)\n",
    "    global count\n",
    "    count = 0\n",
    "    zz = np.array([Z(t, x, dx,dt) for _ in range(nsim)])\n",
    "    avg_label.value = f\"Updated Average of zz: {np.average(zz):.2f}, {u(t,x):.2f}\"\n",
    "    counter.value = f\"Updated Average of count: {count/nsim} \"\n",
    "    plt.hist(zz, bins=50)\n",
    "    plt.xlabel(\"Values of Z\")\n",
    "    plt.ylabel(\"Frequency\")\n",
    "    plt.title(\"Histogram of Z\")\n",
    "    plt.show()\n",
    "\n",
    "dt_slider = widgets.FloatSlider(value=1, min=0.1, max=10, step=0.01, description='dt:')\n",
    "dx_slider = widgets.FloatSlider(value=1, min=0.1, max=10, step=0.01, description='dx:')\n",
    "t_slider = widgets.FloatSlider(value=0, min=0, max=10.0, step=0.1, description='t:')\n",
    "x_slider = widgets.FloatSlider(value=0, min=-50, max=50, step=1, description='x:')\n",
    "nsim_slider = widgets.FloatSlider(value=0, min=0, max=5, step=1, description='nsim:')\n",
    "\n",
    "avg_label = widgets.Label(value=\"\")\n",
    "counter = widgets.Label(value=\"\")\n",
    "\n",
    "display(avg_label)\n",
    "display(counter)\n",
    "\n",
    "interact(update_histogram,t=t_slider,x=x_slider, dt=dt_slider, dx=dx_slider, nsim = nsim_slider)"
   ]
  },
  {
   "cell_type": "markdown",
   "metadata": {},
   "source": [
    "Now we use Z to estimate $u_t$\n"
   ]
  },
  {
   "cell_type": "code",
   "execution_count": 6,
   "metadata": {},
   "outputs": [
    {
     "data": {
      "application/vnd.jupyter.widget-view+json": {
       "model_id": "a75f8c69c6ad45e983aa1cca13bb7008",
       "version_major": 2,
       "version_minor": 0
      },
      "text/plain": [
       "Label(value='')"
      ]
     },
     "metadata": {},
     "output_type": "display_data"
    },
    {
     "data": {
      "application/vnd.jupyter.widget-view+json": {
       "model_id": "fce35aa995504af196f616ae065751bb",
       "version_major": 2,
       "version_minor": 0
      },
      "text/plain": [
       "Label(value='')"
      ]
     },
     "metadata": {},
     "output_type": "display_data"
    },
    {
     "data": {
      "application/vnd.jupyter.widget-view+json": {
       "model_id": "1b5cc6e155cc471f93151d8a67b45934",
       "version_major": 2,
       "version_minor": 0
      },
      "text/plain": [
       "interactive(children=(FloatSlider(value=0.0, description='t:', max=10.0), FloatSlider(value=0.0, description='…"
      ]
     },
     "metadata": {},
     "output_type": "display_data"
    },
    {
     "data": {
      "text/plain": [
       "<function __main__.update_histogram(t, x, dt, dx, nsim)>"
      ]
     },
     "execution_count": 6,
     "metadata": {},
     "output_type": "execute_result"
    }
   ],
   "source": [
    "\n",
    "# def P(t,q): return np.exp(-q*t)*np.array([[q*t +1 , t], [-q**2 *t , (1-q*t) ]])\n",
    "# def G(t,s,q): return np.exp(q*(s-t))*np.array([[(t-s)*q**2/2, (t-s)*q],[(1-q*t+q*s)*q**2/2 ,(1-q*t+q*s)*q ]])\n",
    "\n",
    "def Pt1(t,q): return -q**2 * t *np.exp(-q*t) \n",
    "def Pt2(t,q): return (1-q*t)*np.exp(-q*t)\n",
    "\n",
    "def Gt(t,s,q): return (1-q*t+q*s)*np.exp(-q*(s-t))\n",
    "# def Gt1(t,s,q): return G(t,s,q)[1][0]\n",
    "# def Gt2(t,s,q): return G(t,s,q)[1][1]\n",
    "\n",
    "def Zt(t,x,dx,dt):\n",
    "    t0 = t-dt\n",
    "    q =np.sqrt(2)/dx\n",
    "    s = dt*U()+t0\n",
    "    xnew = x+dx if U()<1/2 else x-dx\n",
    "    samp = 5/10\n",
    "    if U()<samp: \n",
    "        sol = Pt1(dt,q)*u(t0,x)/samp\n",
    "    else:\n",
    "        sol=dt*Gt(t,s,q)*q**2*u(s,xnew)/(1-samp)\n",
    "    \n",
    "    rr_rate = q if 1/q <1 else 1\n",
    "    rr_rate *= 2\n",
    "    if 1/rr_rate>U():\n",
    "        rr = rr_rate\n",
    "        global count\n",
    "        count +=1\n",
    "        sol += rr*dt*Pt2(dt,q)*Zt(t0,x,dx,dt) \n",
    "        sol += rr*dt*Gt(t,s,q)*2*q*Zt(s,x,dx,dt)\n",
    "    return sol\n",
    "\n",
    "def update_histogram(t,x,dt, dx,nsim):\n",
    "    nsim = 10**int(nsim)\n",
    "    global count\n",
    "    count = 0\n",
    "    zz = np.array([Zt(t, x, dx,dt) for _ in range(nsim)])\n",
    "    avg_label.value = f\"Updated Average of zz: {np.average(zz):.2f}, {ut(t,x):.2f}\"\n",
    "    counter.value = f\"Updated Average of count: {count/nsim} \"\n",
    "    plt.hist(zz, bins=50)\n",
    "    plt.xlabel(\"Values of Z\")\n",
    "    plt.ylabel(\"Frequency\")\n",
    "    plt.title(\"Histogram of Z\")\n",
    "    plt.show()\n",
    "\n",
    "dt_slider = widgets.FloatSlider(value=1, min=0.1, max=10, step=0.01, description='dt:')\n",
    "dx_slider = widgets.FloatSlider(value=1, min=0.1, max=10, step=0.01, description='dx:')\n",
    "t_slider = widgets.FloatSlider(value=0, min=0, max=10.0, step=0.1, description='t:')\n",
    "x_slider = widgets.FloatSlider(value=0, min=-50, max=50, step=1, description='x:')\n",
    "nsim_slider = widgets.FloatSlider(value=0, min=0, max=5, step=1, description='nsim:')\n",
    "\n",
    "avg_label = widgets.Label(value=\"\")\n",
    "counter = widgets.Label(value=\"\")\n",
    "\n",
    "display(avg_label)\n",
    "display(counter)\n",
    "\n",
    "interact(update_histogram,t=t_slider,x=x_slider, dt=dt_slider, dx=dx_slider, nsim = nsim_slider)"
   ]
  },
  {
   "cell_type": "markdown",
   "metadata": {},
   "source": [
    "This is with ut RRVE estimated $u_t$ probably wrong ..."
   ]
  },
  {
   "cell_type": "code",
   "execution_count": 7,
   "metadata": {},
   "outputs": [
    {
     "data": {
      "application/vnd.jupyter.widget-view+json": {
       "model_id": "6dae0514f6014531baf0fd3b62544189",
       "version_major": 2,
       "version_minor": 0
      },
      "text/plain": [
       "Label(value='')"
      ]
     },
     "metadata": {},
     "output_type": "display_data"
    },
    {
     "data": {
      "application/vnd.jupyter.widget-view+json": {
       "model_id": "8d0cca93515c484696012a1ed2b045e0",
       "version_major": 2,
       "version_minor": 0
      },
      "text/plain": [
       "interactive(children=(FloatSlider(value=0.0, description='t:', max=10.0), FloatSlider(value=0.0, description='…"
      ]
     },
     "metadata": {},
     "output_type": "display_data"
    },
    {
     "data": {
      "text/plain": [
       "<function __main__.update_histogram(t, x, dt, dx, nsim)>"
      ]
     },
     "execution_count": 7,
     "metadata": {},
     "output_type": "execute_result"
    }
   ],
   "source": [
    "\n",
    "from random import random as U\n",
    "import numpy as np\n",
    "import matplotlib.pyplot as plt\n",
    "from ipywidgets import interact, widgets\n",
    "\n",
    "# def u(t,x): return x**2 + 2*t #needs to satisfy wave equation\n",
    "# def ut(t,x): return  2 #needs to satisfy wave equation\n",
    "\n",
    "# def u(t,x): return x*t**2 + x**3/3 #needs to satisfy wave equation\n",
    "# def ut(t,x): return 2*x*t  #needs to satisfy wave equation\n",
    "\n",
    "def u(t,x): return np.sin(x+t) #needs to satisfy wave equation\n",
    "def ut(t,x): return np.cos(x+t)  #needs to satisfy wave equation\n",
    "\n",
    "def Z0(t,x,dx):\n",
    "    q =np.sqrt(2)/dx\n",
    "    P = np.exp(-q*t)*np.matrix([[q*t +1 , t], [-q**2 *t , (1-q*t) ]])\n",
    "    sol = P @ np.array( [u(0,x), ut(0,x) ])\n",
    "    sol = np.transpose(sol)\n",
    "    samp = 1-1/2\n",
    "    if U()<samp:\n",
    "        s = t*U()\n",
    "        G = np.exp(q*(s-t))*np.matrix([[(t-s)*q**2/2, (t-s)*q],[(1-q*t+q*s)*q**2/2 ,(1-q*t+q*s)*q ]])\n",
    "        xnew = x+dx if U()<1/2 else x-dx\n",
    "        sol +=  2 *t*G @ Z0(s,xnew,dx)/samp \n",
    "    return np.array(sol)\n",
    "# Function to update and display the histogram\n",
    "def update_histogram(t,x,dt, dx,nsim):\n",
    "    nsim = 10**int(nsim)\n",
    "    zz = np.array([Z0(t, x, dx) for _ in range(nsim)])\n",
    "    zz0,zz1 = zip(*list(zz))\n",
    "    avg_label.value = f\"Updated Average of zz: {np.average(zz0):.2f},{np.average(zz1):.2f}, {u(t,x):.2f}, {ut(t,x):.2f}\"\n",
    "    zz00 = [float(z) for z in zz0]\n",
    "    plt.hist(zz00, bins=int(nsim/5+1))\n",
    "    plt.xlabel(\"Values of Z\")\n",
    "    plt.ylabel(\"Frequency\")\n",
    "    plt.title(\"Histogram of Z\")\n",
    "    plt.show()\n",
    "\n",
    "# Create sliders for dt and dx\n",
    "dt_slider = widgets.FloatSlider(value=1, min=0.1, max=10, step=0.01, description='dt:')\n",
    "dx_slider = widgets.FloatSlider(value=1, min=0.1, max=10, step=0.01, description='dx:')\n",
    "t_slider = widgets.FloatSlider(value=0, min=0, max=10.0, step=0.1, description='t:')\n",
    "x_slider = widgets.FloatSlider(value=0, min=-50, max=50, step=1, description='x:')\n",
    "nsim_slider = widgets.FloatSlider(value=0, min=0, max=5, step=1, description='nsim:')\n",
    "\n",
    "# Create a label to display the average of zz\n",
    "avg_label = widgets.Label(value=\"\")\n",
    "\n",
    "# Create an interactive interface\n",
    "display(avg_label)\n",
    "interact(update_histogram,t=t_slider,x=x_slider, dt=dt_slider, dx=dx_slider, nsim = nsim_slider)"
   ]
  },
  {
   "cell_type": "markdown",
   "metadata": {},
   "source": [
    "This is with euler integration"
   ]
  },
  {
   "cell_type": "code",
   "execution_count": 113,
   "metadata": {},
   "outputs": [
    {
     "data": {
      "application/vnd.jupyter.widget-view+json": {
       "model_id": "752f1608c3ad4c02bee0d7691a7777b4",
       "version_major": 2,
       "version_minor": 0
      },
      "text/plain": [
       "Label(value='')"
      ]
     },
     "metadata": {},
     "output_type": "display_data"
    },
    {
     "data": {
      "application/vnd.jupyter.widget-view+json": {
       "model_id": "002049d18c0f46bc87762510da7423b4",
       "version_major": 2,
       "version_minor": 0
      },
      "text/plain": [
       "interactive(children=(FloatSlider(value=0.0, description='t:', max=10.0), FloatSlider(value=0.0, description='…"
      ]
     },
     "metadata": {},
     "output_type": "display_data"
    },
    {
     "data": {
      "text/plain": [
       "<function __main__.update_histogram(t, x, dt, dx, nsim)>"
      ]
     },
     "execution_count": 113,
     "metadata": {},
     "output_type": "execute_result"
    }
   ],
   "source": [
    "from random import random as U\n",
    "import numpy as np\n",
    "import matplotlib.pyplot as plt\n",
    "from ipywidgets import interact, widgets\n",
    "\n",
    "# def u(t,x): return x**2 + 2*t #needs to satisfy wave equation\n",
    "# def ut(t,x): return  2 #needs to satisfy wave equation\n",
    "\n",
    "# def u(t,x): return x*t**2 + x**3/3 #needs to satisfy wave equation\n",
    "# def ut(t,x): return 2*x*t  #needs to satisfy wave equation\n",
    "\n",
    "def u(t,x): return np.sin(x+t) #needs to satisfy wave equation\n",
    "def ut(t,x): return np.cos(x+t)  #needs to satisfy wave equation\n",
    "def P(t,q): return np.exp(-q*t)*np.matrix([[q*t +1 , t], [-q**2 *t , (1-q*t) ]])\n",
    "def G(t,s,q): return np.exp(q*(s-t))*np.matrix([[(t-s)*q**2/2, (t-s)*q],[(1-q*t+q*s)*q**2/2 ,(1-q*t+q*s)*q ]])\n",
    "\n",
    "def ZZ(t, x, dx, dt):\n",
    "    q = np.sqrt(2) / dx\n",
    "    t0 = t - dt\n",
    "    if t0 < 0: return np.transpose(np.matrix([u(0, x), ut(0, x)]))\n",
    "    if U() < 1/3:\n",
    "        PP = P(dt, q)\n",
    "        sol = 3 * PP @ ZZ(t0, x, dx, dt)\n",
    "    else:\n",
    "        GG = G(t, t0, q)\n",
    "        xnew = x + dx if U() < 1/2 else x - dx\n",
    "        sol = 3 * dt * GG @ ZZ(t0, xnew, dx, dt)\n",
    "    return np.matrix(sol)\n",
    "\n",
    "\n",
    "# Function to update and display the histogram\n",
    "def update_histogram(t,x,dt, dx,nsim):\n",
    "    nsim = 10**int(nsim)\n",
    "    zz = np.array([ZZ(t, x, dx,dt) for _ in range(nsim)])\n",
    "    zz0,zz1 = zip(*list(zz))\n",
    "    avg_label.value = f\"Updated Average of zz: {np.average(zz0):.2f},{np.average(zz1):.2f}, {u(t,x):.2f}, {ut(t,x):.2f}\"\n",
    "    zz00 = [float(z) for z in zz0]\n",
    "    plt.hist(zz00, bins=int(nsim/5+1))\n",
    "    plt.xlabel(\"Values of Z\")\n",
    "    plt.ylabel(\"Frequency\")\n",
    "    plt.title(\"Histogram of Z\")\n",
    "    plt.show()\n",
    "\n",
    "# Create sliders for dt and dx\n",
    "dt_slider = widgets.FloatSlider(value=1, min=0.1, max=10, step=0.01, description='dt:')\n",
    "dx_slider = widgets.FloatSlider(value=1, min=0.1, max=10, step=0.01, description='dx:')\n",
    "t_slider = widgets.FloatSlider(value=0, min=0, max=10.0, step=0.1, description='t:')\n",
    "x_slider = widgets.FloatSlider(value=0, min=-50, max=50, step=1, description='x:')\n",
    "nsim_slider = widgets.FloatSlider(value=0, min=0, max=5, step=1, description='nsim:')\n",
    "\n",
    "# Create a label to display the average of zz\n",
    "avg_label = widgets.Label(value=\"\")\n",
    "\n",
    "# Create an interactive interface\n",
    "display(avg_label)\n",
    "interact(update_histogram,t=t_slider,x=x_slider, dt=dt_slider, dx=dx_slider, nsim = nsim_slider)"
   ]
  }
 ],
 "metadata": {
  "kernelspec": {
   "display_name": "Python 3",
   "language": "python",
   "name": "python3"
  },
  "language_info": {
   "codemirror_mode": {
    "name": "ipython",
    "version": 3
   },
   "file_extension": ".py",
   "mimetype": "text/x-python",
   "name": "python",
   "nbconvert_exporter": "python",
   "pygments_lexer": "ipython3",
   "version": "3.10.11"
  },
  "orig_nbformat": 4
 },
 "nbformat": 4,
 "nbformat_minor": 2
}
