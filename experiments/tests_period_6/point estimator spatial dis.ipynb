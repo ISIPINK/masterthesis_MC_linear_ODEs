{
 "cells": [
  {
   "cell_type": "markdown",
   "metadata": {},
   "source": [
    "\\begin{align*}\n",
    "u_t &= u_{xx} \\\\\n",
    "u_t(t,x) &= \\frac{u(t,x+ \\Delta x)-2u(t,x)+u(t,x- \\Delta x)}{\\Delta x^{2}} \\\\\n",
    "u_t(t,x) + \\frac{2}{\\Delta x^{2}}u(t,x) &= \\frac{u(t,x+ \\Delta x)+u(t,x- \\Delta x)}{\\Delta x^{2}} \\\\\n",
    "u(t,x) &= e^{-\\frac{2}{\\Delta x^{2}} t} \\left[u(0,x) \n",
    "+ \\frac{1}{\\Delta x^{2}} \\int_{0}^{t} e^{\\frac{2}{\\Delta x^{2}} s} \n",
    "u(s,x+ \\Delta x)+u(s,x- \\Delta x)ds  \\right] \\\\\n",
    "u \\left(\\frac{\\Delta x^{2}}{2},x \\right) &= e^{-1} \\left[u(0,x) \n",
    "+ \\frac{1}{\\Delta x^{2}} \\int_{0}^{\\frac{\\Delta x^{2}}{2}} e^{\\frac{2}{\\Delta x^{2}} s} \n",
    "(u(s,x+ \\Delta x)+u(s,x- \\Delta x))ds  \\right] \\\\\n",
    "u \\left(\\frac{\\Delta x^{2}}{2},x \\right) &= e^{-1} \\left[u(0,x) \n",
    "+ \\frac{1}{2} \\int_{0}^{1} e^v \n",
    "\\left( u \\left(\\frac{\\Delta x^{2}}{2} v,x+ \\Delta x \\right)\n",
    "+u \\left(\\frac{\\Delta x^{2}}{2} v,x- \\Delta x \\right)\\right) ds   \\right] \n",
    "\\end{align*}\n"
   ]
  },
  {
   "cell_type": "code",
   "execution_count": null,
   "metadata": {},
   "outputs": [],
   "source": []
  }
 ],
 "metadata": {
  "language_info": {
   "name": "python"
  },
  "orig_nbformat": 4
 },
 "nbformat": 4,
 "nbformat_minor": 2
}
