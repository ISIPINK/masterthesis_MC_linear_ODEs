{
 "cells": [
  {
   "cell_type": "markdown",
   "metadata": {},
   "source": [
    "\\begin{align*}\n",
    "u_t &= u_{xx} \\\\\n",
    "u_t(t,x) &= \\frac{u(t,x+ \\Delta x)-2u(t,x)+u(t,x- \\Delta x)}{\\Delta x^{2}} \\\\\n",
    "u_t(t,x) + \\frac{2}{\\Delta x^{2}}u(t,x) &= \\frac{u(t,x+ \\Delta x)+u(t,x- \\Delta x)}{\\Delta x^{2}} \\\\\n",
    "u(t,x) &= e^{-\\frac{2}{\\Delta x^{2}} t} \\left[u(0,x) \n",
    "+ \\frac{1}{\\Delta x^{2}} \\int_{0}^{t} e^{\\frac{2}{\\Delta x^{2}} s} \n",
    "(u(s,x+ \\Delta x)+u(s,x- \\Delta x))ds  \\right] \n",
    "\\end{align*}\n"
   ]
  },
  {
   "cell_type": "code",
   "execution_count": 31,
   "metadata": {},
   "outputs": [
    {
     "data": {
      "application/vnd.jupyter.widget-view+json": {
       "model_id": "e851f88c60b04f73bd1376def7a8ef88",
       "version_major": 2,
       "version_minor": 0
      },
      "text/plain": [
       "interactive(children=(FloatSlider(value=0.0, description='t:', max=10.0), FloatSlider(value=0.0, description='…"
      ]
     },
     "metadata": {},
     "output_type": "display_data"
    },
    {
     "data": {
      "application/vnd.jupyter.widget-view+json": {
       "model_id": "b8aeb0380e964187bf4b0625e620af55",
       "version_major": 2,
       "version_minor": 0
      },
      "text/plain": [
       "Label(value='Updated Average of zz: 0.00, 0.00')"
      ]
     },
     "metadata": {},
     "output_type": "display_data"
    }
   ],
   "source": [
    "from random import random as U\n",
    "import numpy as np\n",
    "import matplotlib.pyplot as plt\n",
    "from ipywidgets import interact, widgets\n",
    "\n",
    "# def u(t,x): return x**2 + 2*t #needs to satisfy heat equation\n",
    "def u(t,x): return 2*x*t + x**3/3 #needs to satisfy heat equation\n",
    "\n",
    "def Z0(t,x,dx):\n",
    "    a =2/dx**2 \n",
    "    sol = np.exp(-a*t)*u(0,x)\n",
    "    if U()>5/10:\n",
    "        if U()<1/2:\n",
    "            s = t*U()\n",
    "            sol+=2*(10/5)*np.exp(-a*t) *np.exp(a*s)*Z0(s,x+dx,dx)*t/dx**2\n",
    "        else: \n",
    "            s = t*U()\n",
    "            sol+=2*(10/5)*np.exp(-a*t) *np.exp(a*s)*Z0(s,x-dx,dx)*t/dx**2\n",
    "    return sol\n",
    "\n",
    "def Z(t,x,dx,dt):\n",
    "    if t< dt: return Z0(t,x,dx) \n",
    "    t0 = t-dt\n",
    "    a =2/dx**2 \n",
    "    samp = np.exp(-a*dt)/(0.5+np.exp(-a*dt))\n",
    "    if U()<samp: \n",
    "        sol = np.exp(-a*dt)*Z(t0,x,dx,dt)/samp\n",
    "    elif U()<1/2:\n",
    "        s = dt*U()+t0\n",
    "        sol=2* np.exp(a*(s-t))*Z(s,x+dx,dx,dt)*dt/dx**2 /(1-samp)\n",
    "    else:\n",
    "        s = dt*U()+t0\n",
    "        sol=2* np.exp(a*(s-t))*Z(s,x-dx,dx,dt)*dt/dx**2 / (1-samp)\n",
    "    return sol\n",
    "\n",
    "# Number of simulations\n",
    "\n",
    "# Function to update and display the histogram\n",
    "def update_histogram(t,x,dt, dx,nsim):\n",
    "    nsim = int(nsim)\n",
    "    zz = np.array([Z(t, x, dx, dt) for _ in range(nsim)])\n",
    "    avg_label.value = f\"Updated Average of zz: {np.average(zz):.2f}, {u(t,x):.2f}\"\n",
    "    plt.hist(zz, bins=50)\n",
    "    plt.xlabel(\"Values of Z\")\n",
    "    plt.ylabel(\"Frequency\")\n",
    "    plt.title(\"Histogram of Z\")\n",
    "    plt.show()\n",
    "\n",
    "# Create sliders for dt and dx\n",
    "dt_slider = widgets.FloatSlider(value=1, min=0.01, max=1, step=0.01, description='dt:')\n",
    "dx_slider = widgets.FloatSlider(value=1, min=0.01, max=10, step=0.1, description='dx:')\n",
    "t_slider = widgets.FloatSlider(value=0, min=0, max=10.0, step=0.1, description='t:')\n",
    "x_slider = widgets.FloatSlider(value=0, min=-50, max=50, step=1, description='x:')\n",
    "nsim_slider = widgets.FloatSlider(value=1, min=1, max=10000, step=1, description='nsim:')\n",
    "\n",
    "# Create a label to display the average of zz\n",
    "avg_label = widgets.Label(value=\"\")\n",
    "\n",
    "# Create an interactive interface\n",
    "interact(update_histogram,t=t_slider,x=x_slider, dt=dt_slider, dx=dx_slider, nsim = nsim_slider)\n",
    "display(avg_label)\n"
   ]
  },
  {
   "cell_type": "markdown",
   "metadata": {},
   "source": [
    "\n",
    "\\begin{align*}\n",
    "u_{tt} &= u_{xx} \\\\\n",
    "u_{tt}(t,x) &= \\frac{u(t,x+ \\Delta x)-2u(t,x)+u(t,x- \\Delta x)}{\\Delta x^{2}} \\\\\n",
    "u_{tt}(t,x) + \\frac{2}{\\Delta x^{2}}u(t,x) &= \\frac{u(t,x+ \\Delta x)+u(t,x- \\Delta x)}{\\Delta x^{2}} \\\\\n",
    "\\end{align*}\n",
    "Introduce: $q = \\frac{\\sqrt{2}}{\\Delta x}$.\n",
    "\\begin{align*}\n",
    "u_{tt}(t,x) + 2 q u_t(t,x) + q^{2}u(t,x) &= q^{2}\\frac{u(t,x+ \\Delta x)+u(t,x- \\Delta x)}{2}+ 2 q u_t(t,x) \\\\\n",
    "\\end{align*}\n",
    "Green's functions:\n",
    "\n",
    "\\begin{align*}\n",
    "u(t,x) &= e^{-qt}(qt+1) u(0,x) + t e^{-qt}u_t(0,x)\n",
    "+  \\int_{0}^{t} (t-s) e^{q(s-t)} \n",
    "\\left[\\frac{q^{2}}{2} (u(s,x+\\Delta x)+u(s,x-\\Delta x)) + 2 q u_t(s,x)\\right]  ds\n",
    "\\end{align*}\n"
   ]
  },
  {
   "cell_type": "code",
   "execution_count": 51,
   "metadata": {},
   "outputs": [
    {
     "data": {
      "application/vnd.jupyter.widget-view+json": {
       "model_id": "d12d6578232b444d91962e37fbcfff2c",
       "version_major": 2,
       "version_minor": 0
      },
      "text/plain": [
       "interactive(children=(FloatSlider(value=0.0, description='t:', max=10.0), FloatSlider(value=0.0, description='…"
      ]
     },
     "metadata": {},
     "output_type": "display_data"
    },
    {
     "data": {
      "application/vnd.jupyter.widget-view+json": {
       "model_id": "924b87a66047477ba14b798c0a168fd4",
       "version_major": 2,
       "version_minor": 0
      },
      "text/plain": [
       "Label(value='Updated Average of zz: 0.00, 0.00')"
      ]
     },
     "metadata": {},
     "output_type": "display_data"
    }
   ],
   "source": [
    "from random import random as U\n",
    "import numpy as np\n",
    "import matplotlib.pyplot as plt\n",
    "from ipywidgets import interact, widgets\n",
    "\n",
    "# def u(t,x): return x**2 + 2*t #needs to satisfy wave equation\n",
    "# def ut(t,x): return  2 #needs to satisfy wave equation\n",
    "\n",
    "# def u(t,x): return x*t**2 + x**3/3 #needs to satisfy wave equation\n",
    "# def ut(t,x): return 2*x*t  #needs to satisfy wave equation\n",
    "\n",
    "def u(t,x): return np.sin(x+t) #needs to satisfy wave equation\n",
    "def ut(t,x): return np.cos(x+t)  #needs to satisfy wave equation\n",
    "\n",
    "def Z0(t,x,dx):\n",
    "    q =np.sqrt(2)/dx\n",
    "    sol = np.exp(-q*t)*(q*t+1)*u(0,x)\n",
    "    sol += t*np.exp(-q*t)*ut(0,x)\n",
    "\n",
    "    if U()>1/2:\n",
    "        if U()<1/2:\n",
    "            s = t*U()\n",
    "            sol+=4*(t-s)*np.exp(-q*(s-t)) *Z0(s,x+dx,dx)*t*q**2/2\n",
    "        else: \n",
    "            s = t*U()\n",
    "            sol+=4*(t-s)*np.exp(-q*(s-t)) *Z0(s,x-dx,dx)*t*q**2/2\n",
    "    s = t*U()\n",
    "    sol += t*(t-s)*np.exp(q*(s-t)) * 2 *q *ut(s,x)\n",
    "    return sol\n",
    "\n",
    "def Z(t,x,dx,dt):\n",
    "    if t< dt: return Z0(t,x,dx) \n",
    "    t0 = t-dt\n",
    "    q =np.sqrt(2)/dx\n",
    "    samp = 1/3\n",
    "    if U()<samp: \n",
    "        sol = np.exp(-q*dt)*(q*dt+1)*Z(t0,x,dx,dt)/samp\n",
    "    elif U()<1/2:\n",
    "        s = dt*U()+t0\n",
    "        sol=2*(t-s)*np.exp(q*(s-t))*Z(s,x+dx,dx,dt)*dt*q**2/2 /(1-samp)\n",
    "    else:\n",
    "        s = dt*U()+t0\n",
    "        sol=2*(t-s)*np.exp(q*(s-t))*Z(s,x-dx,dx,dt)*dt*q**2/2 / (1-samp)\n",
    "\n",
    "    sol += dt*np.exp(-q*dt)*(ut(t0,x) + U()-0.5)\n",
    "\n",
    "    s = dt*U() + t0\n",
    "    sol += dt*(t-s)*np.exp(q*(s-t)) * 2 *q *(ut(s,x)+ U()-0.5)\n",
    "    return sol\n",
    "# Number of simulations\n",
    "\n",
    "# Function to update and display the histogram\n",
    "def update_histogram(t,x,dt, dx,nsim):\n",
    "    nsim = 10**int(nsim)\n",
    "    zz = np.array([Z(t, x, dx,dx) for _ in range(nsim)])\n",
    "    avg_label.value = f\"Updated Average of zz: {np.average(zz):.2f}, {u(t,x):.2f}\"\n",
    "    plt.hist(zz, bins=50)\n",
    "    plt.xlabel(\"Values of Z\")\n",
    "    plt.ylabel(\"Frequency\")\n",
    "    plt.title(\"Histogram of Z\")\n",
    "    plt.show()\n",
    "\n",
    "# Create sliders for dt and dx\n",
    "dt_slider = widgets.FloatSlider(value=1, min=0.1, max=10, step=0.01, description='dt:')\n",
    "dx_slider = widgets.FloatSlider(value=1, min=0.1, max=10, step=0.01, description='dx:')\n",
    "t_slider = widgets.FloatSlider(value=0, min=0, max=10.0, step=0.1, description='t:')\n",
    "x_slider = widgets.FloatSlider(value=0, min=-50, max=50, step=1, description='x:')\n",
    "nsim_slider = widgets.FloatSlider(value=0, min=0, max=5, step=1, description='nsim:')\n",
    "\n",
    "# Create a label to display the average of zz\n",
    "avg_label = widgets.Label(value=\"\")\n",
    "\n",
    "# Create an interactive interface\n",
    "interact(update_histogram,t=t_slider,x=x_slider, dt=dt_slider, dx=dx_slider, nsim = nsim_slider)\n",
    "display(avg_label)"
   ]
  }
 ],
 "metadata": {
  "kernelspec": {
   "display_name": "Python 3",
   "language": "python",
   "name": "python3"
  },
  "language_info": {
   "codemirror_mode": {
    "name": "ipython",
    "version": 3
   },
   "file_extension": ".py",
   "mimetype": "text/x-python",
   "name": "python",
   "nbconvert_exporter": "python",
   "pygments_lexer": "ipython3",
   "version": "3.10.11"
  },
  "orig_nbformat": 4
 },
 "nbformat": 4,
 "nbformat_minor": 2
}
