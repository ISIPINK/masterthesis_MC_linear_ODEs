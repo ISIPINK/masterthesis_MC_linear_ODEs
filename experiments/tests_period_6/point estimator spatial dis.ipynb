{
 "cells": [
  {
   "cell_type": "markdown",
   "metadata": {},
   "source": [
    "\\begin{align*}\n",
    "u_t &= u_{xx} \\\\\n",
    "u_t(t,x) &= \\frac{u(t,x+ \\Delta x)-2u(t,x)+u(t,x- \\Delta x)}{\\Delta x^{2}} \\\\\n",
    "u_t(t,x) + \\frac{2}{\\Delta x^{2}}u(t,x) &= \\frac{u(t,x+ \\Delta x)+u(t,x- \\Delta x)}{\\Delta x^{2}} \\\\\n",
    "u(t,x) &= e^{-\\frac{2}{\\Delta x^{2}} t} \\left[u(0,x) \n",
    "+ \\frac{1}{\\Delta x^{2}} \\int_{0}^{t} e^{\\frac{2}{\\Delta x^{2}} s} \n",
    "(u(s,x+ \\Delta x)+u(s,x- \\Delta x))ds  \\right] \n",
    "\\end{align*}\n"
   ]
  },
  {
   "cell_type": "code",
   "execution_count": 1,
   "metadata": {},
   "outputs": [
    {
     "name": "stdout",
     "output_type": "stream",
     "text": [
      "106.3989775253234\n",
      "110\n"
     ]
    }
   ],
   "source": [
    "from random import random as U\n",
    "import numpy as np\n",
    "import matplotlib.pyplot as plt\n",
    "\n",
    "\n",
    "def u(t,x): return x**2 + 2*t #needs to satify heat equation\n",
    "# def u(t,x): return 2*x*t + x**3/3 #needs to satify heat equation\n",
    "\n",
    "def Z0(t,x,dx):\n",
    "    a =2/dx**2 \n",
    "    sol = np.exp(-a*t)*u(0,x)\n",
    "    if U()>5/10:\n",
    "        if U()<1/2:\n",
    "            s = t*U()\n",
    "            sol+=2*(10/5)*np.exp(-a*t) *np.exp(a*s)*Z0(s,x+dx,dx)*t/dx**2\n",
    "        else: \n",
    "            s = t*U()\n",
    "            sol+=2*(10/5)*np.exp(-a*t) *np.exp(a*s)*Z0(s,x-dx,dx)*t/dx**2\n",
    "    return sol\n",
    "\n",
    "def Z(t,x,dx,dt):\n",
    "    if t< dt: return Z0(t,x,dx) \n",
    "    t0 = t-dt\n",
    "    a =2/dx**2 \n",
    "    samp = np.exp(-a*dt)/(0.5+np.exp(-a*dt))\n",
    "    if U()<samp: \n",
    "        sol = np.exp(-a*dt)*Z(t0,x,dx,dt)/samp\n",
    "    elif U()<1/2:\n",
    "        s = dt*U()+t0\n",
    "        sol=2* np.exp(a*(s-t))*Z(s,x+dx,dx,dt)*dt/dx**2 /(1-samp)\n",
    "    else:\n",
    "        s = dt*U()+t0\n",
    "        sol=2* np.exp(a*(s-t))*Z(s,x-dx,dx,dt)*dt/dx**2 / (1-samp)\n",
    "    return sol\n",
    "\n",
    "t,x,dx = 5,10,0.5\n",
    "dt = dx**2/5\n",
    "nsim =1000\n",
    "z0 = sum(Z(t,x,dx,dt) for _ in range(nsim))/nsim \n",
    "print(z0)\n",
    "print(u(t,x))"
   ]
  }
 ],
 "metadata": {
  "kernelspec": {
   "display_name": "Python 3",
   "language": "python",
   "name": "python3"
  },
  "language_info": {
   "codemirror_mode": {
    "name": "ipython",
    "version": 3
   },
   "file_extension": ".py",
   "mimetype": "text/x-python",
   "name": "python",
   "nbconvert_exporter": "python",
   "pygments_lexer": "ipython3",
   "version": "3.10.11"
  },
  "orig_nbformat": 4
 },
 "nbformat": 4,
 "nbformat_minor": 2
}
