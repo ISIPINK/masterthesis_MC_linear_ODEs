{
 "cells": [
  {
   "cell_type": "markdown",
   "metadata": {},
   "source": [
    "$$\n",
    "\\int_{0}^{\\pi} \\sin\\left(x\\right)x dx = \\int_{-1}^{1} \\arccos(-u)du .\n",
    "$$ "
   ]
  },
  {
   "cell_type": "code",
   "execution_count": 17,
   "metadata": {},
   "outputs": [
    {
     "name": "stdout",
     "output_type": "stream",
     "text": [
      "ss 3.8825467879081557 3.140314293795158\n",
      "aa 1.8701416835538984 3.136706589159742\n"
     ]
    }
   ],
   "source": [
    "from random import random as U\n",
    "import numpy as np\n",
    "\n",
    "def S(): \n",
    "    x = U()*np.pi\n",
    "    return np.pi*np.sin(x)*x \n",
    "\n",
    "def A():\n",
    "    u = U()*2-1\n",
    "    return 2* np.arccos(u)\n",
    "\n",
    "nsim = 10**5\n",
    "ss = [S() for _ in range(nsim)] \n",
    "aa = [A() for _ in range(nsim)]\n",
    "\n",
    "print(\"ss\", np.var(ss),np.mean(ss))\n",
    "print(\"aa\", np.var(aa),np.mean(aa))"
   ]
  }
 ],
 "metadata": {
  "kernelspec": {
   "display_name": "Python 3",
   "language": "python",
   "name": "python3"
  },
  "language_info": {
   "codemirror_mode": {
    "name": "ipython",
    "version": 3
   },
   "file_extension": ".py",
   "mimetype": "text/x-python",
   "name": "python",
   "nbconvert_exporter": "python",
   "pygments_lexer": "ipython3",
   "version": "3.10.11"
  },
  "orig_nbformat": 4
 },
 "nbformat": 4,
 "nbformat_minor": 2
}
