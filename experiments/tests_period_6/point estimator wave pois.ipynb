{
 "cells": [
  {
   "cell_type": "markdown",
   "metadata": {},
   "source": [
    "See point estimator wave 1: \n",
    "\n",
    "\\begin{align*}\n",
    "u(t,x) &= e^{-qt}(qt+1) u(0,x) + t e^{-qt}u_t(0,x)\n",
    "+  \\int_{0}^{t} (t-s) e^{q(s-t)} \n",
    "\\left[\\frac{q^{2}}{2} (u(s,x+\\Delta x)+u(s,x-\\Delta x)) + 2 q u_t(s,x)\\right]  ds \\\\\n",
    "u_t(t,x) &= -q^{2} t e^{-qt} u(0,x) + (1-qt) e^{-qt}u_t(0,x) +  \\int_{0}^{t} (1-qt+qs) e^{q(s-t)} \\left[\\frac{q^{2}}{2} (u(s,x+\\Delta x)+u(s,x-\\Delta x)) + 2 q u_t(s,x)\\right]  ds\n",
    "\\end{align*}\n"
   ]
  },
  {
   "cell_type": "code",
   "execution_count": 6,
   "metadata": {},
   "outputs": [
    {
     "data": {
      "application/vnd.jupyter.widget-view+json": {
       "model_id": "d22183354a954de8b818de29ef4e58cf",
       "version_major": 2,
       "version_minor": 0
      },
      "text/plain": [
       "Label(value='')"
      ]
     },
     "metadata": {},
     "output_type": "display_data"
    },
    {
     "data": {
      "application/vnd.jupyter.widget-view+json": {
       "model_id": "87a753c4fd7f4bca9366eb390550d374",
       "version_major": 2,
       "version_minor": 0
      },
      "text/plain": [
       "Label(value='')"
      ]
     },
     "metadata": {},
     "output_type": "display_data"
    },
    {
     "data": {
      "application/vnd.jupyter.widget-view+json": {
       "model_id": "7c623f0f61d247a8a23fa957d36d9380",
       "version_major": 2,
       "version_minor": 0
      },
      "text/plain": [
       "interactive(children=(FloatSlider(value=0.0, description='t:', max=10.0), FloatSlider(value=0.0, description='…"
      ]
     },
     "metadata": {},
     "output_type": "display_data"
    },
    {
     "data": {
      "text/plain": [
       "<function __main__.update_histogram(t, x, dt, dx, nsim)>"
      ]
     },
     "execution_count": 6,
     "metadata": {},
     "output_type": "execute_result"
    }
   ],
   "source": [
    "from random import random as U\n",
    "import numpy as np\n",
    "import matplotlib.pyplot as plt\n",
    "from ipywidgets import interact, widgets\n",
    "\n",
    "# def u(t,x): return x**2 + 2*t #needs to satisfy wave equation\n",
    "# def ut(t,x): return  2 #needs to satisfy wave equation\n",
    "\n",
    "# def u(t,x): return x*t**2 + x**3/3 #needs to satisfy wave equation\n",
    "# def ut(t,x): return 2*x*t  #needs to satisfy wave equation\n",
    "\n",
    "def u(t,x): return np.sin(x+t) #needs to satisfy wave equation\n",
    "def ut(t,x): return np.cos(x+t)  #needs to satisfy wave equation\n",
    "\n",
    "def P1(t,q): return (q*t+1)*np.exp(-q*t) \n",
    "def P2(t,q): return t*np.exp(-q*t) \n",
    "def GG(t,s,q): return (t-s) \n",
    "\n",
    "def Pt1(t,q): return -q**2 * t *np.exp(-q*t) \n",
    "def Pt2(t,q): return (1-q*t)*np.exp(-q*t)\n",
    "def Gt(t,s,q): return (1-q*t+q*s)*np.exp(-q*(s-t))\n",
    "\n",
    "count = 0\n",
    "\n",
    "def Z0(t,x,dx):\n",
    "    q =np.sqrt(2)/dx\n",
    "    s = t-np.random.exponential(scale=1/q,size=1)[0] #actually we can sample better\n",
    "    xnew = x+dx if U()<1/2 else x-dx\n",
    "    sol = P1(t,q)*u(0,x)\n",
    "    sol += P2(t,q)*ut(0,x)\n",
    "    if s>0:\n",
    "        sol+=GG(t,s,q)*q*Z0(s,xnew,dx)\n",
    "        sol+=GG(t,s,q) * 2  * ut(s,xnew)\n",
    "    return sol\n",
    "\n",
    "\n",
    "# def Z0t(t,x,dx,dt):\n",
    "#     q =np.sqrt(2)/dx\n",
    "#     s = t-np.random.exponential(scale=1/q,size=1)[0]\n",
    "#     xnew = x+dx if U()<1/2 else x-dx\n",
    "#     samp = 5/10\n",
    "#     if U()<samp: \n",
    "#         sol = Pt1(dt,q)*u(t0,x)/samp\n",
    "#     else:\n",
    "#         sol=dt*Gt(t,s,q)*q**2*u(s,xnew)/(1-samp)\n",
    "    \n",
    "#     rr_rate = q if 1/q <1 else 1\n",
    "#     rr_rate *= 2\n",
    "#     if 1/rr_rate>U():\n",
    "#         rr = rr_rate\n",
    "#         global count\n",
    "#         count +=1\n",
    "#         sol += rr*dt*Pt2(dt,q)*Z0t(t,x,dx,dt) \n",
    "#         sol += rr*dt*Gt(t,s,q)*2*q*Z0t(s,x,dx,dt)\n",
    "#     return sol\n",
    "\n",
    "def update_histogram(t,x,dt, dx,nsim):\n",
    "    nsim = 10**int(nsim)\n",
    "    global count\n",
    "    count = 0\n",
    "    zz = np.array([Z0(t, x, dx) for _ in range(nsim)])\n",
    "    avg_label.value = f\"Updated Average of zz: {np.average(zz):.2f}, {u(t,x):.2f}\"\n",
    "    counter.value = f\"Updated Average of count: {count/nsim} \"\n",
    "    plt.hist(zz, bins=50)\n",
    "    plt.xlabel(\"Values of Z\")\n",
    "    plt.ylabel(\"Frequency\")\n",
    "    plt.title(\"Histogram of Z\")\n",
    "    plt.show()\n",
    "\n",
    "dt_slider = widgets.FloatSlider(value=1, min=0.1, max=10, step=0.01, description='dt:')\n",
    "dx_slider = widgets.FloatSlider(value=1, min=0.1, max=10, step=0.01, description='dx:')\n",
    "t_slider = widgets.FloatSlider(value=0, min=0, max=10.0, step=0.1, description='t:')\n",
    "x_slider = widgets.FloatSlider(value=0, min=-50, max=50, step=1, description='x:')\n",
    "nsim_slider = widgets.FloatSlider(value=0, min=0, max=5, step=1, description='nsim:')\n",
    "\n",
    "avg_label = widgets.Label(value=\"\")\n",
    "counter = widgets.Label(value=\"\")\n",
    "\n",
    "display(avg_label)\n",
    "display(counter)\n",
    "\n",
    "interact(update_histogram,t=t_slider,x=x_slider, dt=dt_slider, dx=dx_slider, nsim = nsim_slider)"
   ]
  },
  {
   "cell_type": "code",
   "execution_count": 8,
   "metadata": {},
   "outputs": [
    {
     "data": {
      "application/vnd.jupyter.widget-view+json": {
       "model_id": "c1b126625d614a0391848c592cee3f39",
       "version_major": 2,
       "version_minor": 0
      },
      "text/plain": [
       "interactive(children=(FloatSlider(value=8.0, description='t:', max=10.0), FloatSlider(value=1.0, description='…"
      ]
     },
     "metadata": {},
     "output_type": "display_data"
    },
    {
     "data": {
      "text/plain": [
       "<function __main__.update_plot(t, x, dx, nsim)>"
      ]
     },
     "execution_count": 8,
     "metadata": {},
     "output_type": "execute_result"
    }
   ],
   "source": [
    "\n",
    "from random import random as U\n",
    "import numpy as np\n",
    "import matplotlib.pyplot as plt\n",
    "from ipywidgets import interact, widgets\n",
    "\n",
    "# @njit(fastmath=True)\n",
    "# def u(t,x): return x**2 + 2*t #needs to satisfy wave equation\n",
    "# @njit(fastmath=True)\n",
    "# def ut(t,x): return  2 #needs to satisfy wave equation\n",
    "\n",
    "def u(t,x): return x*t**2 + x**3/3 #needs to satisfy wave equation\n",
    "def ut(t,x): return 2*x*t  #needs to satisfy wave equation\n",
    "\n",
    "# @njit(fastmath=True)\n",
    "# def u(t,x): return np.sin((x+t)) #needs to satisfy wave equation\n",
    "# @njit(fastmath=True)\n",
    "# def ut(t,x): return np.cos((x+t))  #needs to satisfy wave equation\n",
    "\n",
    "def u(t,x): return np.sin(x+t) #needs to satisfy wave equation\n",
    "def ut(t,x): return np.cos(x+t)  #needs to satisfy wave equation\n",
    "\n",
    "def P1(t,q): return (q*t+1)*np.exp(-q*t) \n",
    "def P2(t,q): return t*np.exp(-q*t) \n",
    "def GG(t,s,q): return (t-s) \n",
    "\n",
    "def Pt1(t,q): return -q**2 * t *np.exp(-q*t) \n",
    "def Pt2(t,q): return (1-q*t)*np.exp(-q*t)\n",
    "def Gt(t,s,q): return (1-q*t+q*s)*np.exp(-q*(s-t))\n",
    "\n",
    "count = 0\n",
    "\n",
    "points = []\n",
    "def Z0(t,x,dx):\n",
    "    q =np.sqrt(2)/dx\n",
    "    s = t-np.random.exponential(scale=1/q,size=1)[0] #actually we can sample better\n",
    "    xnew = x+dx if U()<1/2 else x-dx\n",
    "    sol = P1(t,q)*u(0,x)\n",
    "    sol += P2(t,q)*ut(0,x)\n",
    "    if s>0:\n",
    "        sol+=GG(t,s,q)*q*Z0(s,xnew,dx)\n",
    "        sol+=GG(t,s,q) * 2  * ut(s,xnew)\n",
    "\n",
    "    global points\n",
    "    points.append((t,x))\n",
    "    return sol\n",
    "\n",
    "def update_plot(t,x, dx,nsim):\n",
    "    nsim = 10**int(nsim)\n",
    "    for _ in range(nsim):\n",
    "        global points \n",
    "        points = []\n",
    "        Z0(t,x,dx)\n",
    "        tt,xx  = zip(*points)\n",
    "        plt.plot(tt,xx)\n",
    "    plt.show()\n",
    "# Create sliders for dt and dx\n",
    "dx_slider = widgets.FloatSlider(value=0.01, min=0.01, max=10, step=0.1, description='dx:')\n",
    "t_slider = widgets.FloatSlider(value=8, min=0, max=10.0, step=0.1, description='t:')\n",
    "x_slider = widgets.FloatSlider(value=1, min=-50, max=50, step=1, description='x:')\n",
    "nsim_slider = widgets.FloatSlider(value=0, min=0, max=2, step=1, description='nsim:')\n",
    "\n",
    "interact(update_plot,t=t_slider,x=x_slider, dx=dx_slider, nsim = nsim_slider)"
   ]
  }
 ],
 "metadata": {
  "kernelspec": {
   "display_name": "Python 3",
   "language": "python",
   "name": "python3"
  },
  "language_info": {
   "codemirror_mode": {
    "name": "ipython",
    "version": 3
   },
   "file_extension": ".py",
   "mimetype": "text/x-python",
   "name": "python",
   "nbconvert_exporter": "python",
   "pygments_lexer": "ipython3",
   "version": "3.10.11"
  },
  "orig_nbformat": 4
 },
 "nbformat": 4,
 "nbformat_minor": 2
}
