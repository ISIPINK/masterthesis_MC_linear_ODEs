{
 "cells": [
  {
   "cell_type": "markdown",
   "metadata": {},
   "source": [
    "\\begin{align*}\n",
    "u_{tt} &= u_{xx} \\\\\n",
    "u_{tt}(t,x) &= \\frac{u(t,x+ \\Delta x)-2u(t,x)+u(t,x- \\Delta x)}{\\Delta x^{2}} \\\\\n",
    "u_{tt}(t,x) + \\frac{2}{\\Delta x^{2}}u(t,x) &= \\frac{u(t,x+ \\Delta x)+u(t,x- \\Delta x)}{\\Delta x^{2}} \\\\\n",
    "\\end{align*}\n",
    "Introduce: $q = \\frac{\\sqrt{2}}{\\Delta x}$.\n",
    "\\begin{align*}\n",
    "u_{tt}(t,x) + q^{2}u(t,x) &= q^{2}\\frac{u(t,x+ \\Delta x)+u(t,x- \\Delta x)}{2} \\\\\n",
    "\\end{align*}\n",
    "Green's functions:\n",
    "\n",
    "\\begin{align*}\n",
    "u(t,x) = \\cos\\left(q t\\right) u(0,t) + \\frac{\\sin\\left(qt\\right)}{q} u_t(0,x) +    \n",
    "\\frac{q}{2} \\int_{0}^{t} \\sin\\left(q(s-t) \\right) \\left[ u(s,x+\\Delta x) +u(s,x-\\Delta x) \\right] ds \n",
    "\\end{align*}\n",
    "\n"
   ]
  },
  {
   "cell_type": "code",
   "execution_count": 24,
   "metadata": {},
   "outputs": [
    {
     "data": {
      "application/vnd.jupyter.widget-view+json": {
       "model_id": "b627be2a12c449b7a226bfa329f0287f",
       "version_major": 2,
       "version_minor": 0
      },
      "text/plain": [
       "Label(value='')"
      ]
     },
     "metadata": {},
     "output_type": "display_data"
    },
    {
     "data": {
      "application/vnd.jupyter.widget-view+json": {
       "model_id": "78aeb746447442e3b6c278917fef7bd2",
       "version_major": 2,
       "version_minor": 0
      },
      "text/plain": [
       "Label(value='')"
      ]
     },
     "metadata": {},
     "output_type": "display_data"
    },
    {
     "data": {
      "application/vnd.jupyter.widget-view+json": {
       "model_id": "a4a09e96383d461d80c655ed553a2073",
       "version_major": 2,
       "version_minor": 0
      },
      "text/plain": [
       "interactive(children=(FloatSlider(value=0.0, description='t:', max=10.0), FloatSlider(value=0.0, description='…"
      ]
     },
     "metadata": {},
     "output_type": "display_data"
    },
    {
     "data": {
      "text/plain": [
       "<function __main__.update_histogram(t, x, dt, dx, nsim)>"
      ]
     },
     "execution_count": 24,
     "metadata": {},
     "output_type": "execute_result"
    }
   ],
   "source": [
    "from random import random as U\n",
    "import numpy as np\n",
    "from numba import njit, prange\n",
    "import matplotlib.pyplot as plt\n",
    "from ipywidgets import interact, widgets\n",
    "\n",
    "# @njit(fastmath=True)\n",
    "# def u(t,x): return x**2 + 2*t #needs to satisfy wave equation\n",
    "# @njit(fastmath=True)\n",
    "# def ut(t,x): return  2 #needs to satisfy wave equation\n",
    "\n",
    "# @njit(fastmath=True)\n",
    "# def u(t,x): return x*t**2 + x**3/3 #needs to satisfy wave equation\n",
    "# @njit(fastmath=True)\n",
    "# def ut(t,x): return 2*x*t  #needs to satisfy wave equation\n",
    "\n",
    "@njit(fastmath=True)\n",
    "def u(t,x): return x**2 *t**2/2 + t**4/12 + x**4/12 #needs to satisfy wave equation\n",
    "@njit(fastmath=True)\n",
    "def ut(t,x): return x**2*t+t**3/3  #needs to satisfy wave equation\n",
    "\n",
    "# this looks like the most challenging solution\n",
    "# @njit(fastmath=True)\n",
    "# def u(t,x): return np.sin((x+t)) #needs to satisfy wave equation\n",
    "# @njit(fastmath=True)\n",
    "# def ut(t,x): return np.cos((x+t))  #needs to satisfy wave equation\n",
    "\n",
    "@njit(fastmath=True)\n",
    "def P1(t,q): return np.cos( q*t) \n",
    "@njit(fastmath=True)\n",
    "def P2(t,q): return np.sin(q*t)/q \n",
    "@njit(fastmath=True)\n",
    "def GG(t,s,q): return q*np.sin(q*(t-s)) # not sure this is good ? \n",
    "count = 0\n",
    "\n",
    "@njit(fastmath=True)\n",
    "def Z0(t,x,dx,dt):\n",
    "    if abs(x)>5: return u(t,x) # with or without boundaries \n",
    "    q =np.sqrt(2)/dx\n",
    "    s = t*U()\n",
    "    xnew = x+dx if U()<1/2 else x-dx\n",
    "    sol = P1(t,q)*u(0,x)\n",
    "    sol += P2(t,q)*ut(0,x)\n",
    "    if t/dt>1:\n",
    "        sol+=t*GG(t,s,q)*Z0(s,xnew,dx,dt)\n",
    "    elif U()<t/dt:\n",
    "        sol+=dt*GG(t,s,q)*Z0(s,xnew,dx,dt)\n",
    "    return sol\n",
    "\n",
    "@njit(fastmath=True, parallel=True)\n",
    "def z0(t,x,dx,dt, nsim):\n",
    "    total = 0.0 # <- typing becomes important 0 vs 0.0\n",
    "    total2 = 0.0 # <- typing becomes important 0 vs 0.0\n",
    "    for _ in prange(nsim): # numba likes explicit loops sometimes even over vectorized numpy\n",
    "        total += Z0(t,x,dx,dt)\n",
    "        total2 += Z0(t,x,dx,dt)**2\n",
    "    return total/nsim,total2/nsim-(total/nsim)**2\n",
    "\n",
    "def update_histogram(t,x, dt,dx,nsim):\n",
    "    nsim = 10**int(nsim)\n",
    "    sol,v = z0(t,x,dx,dt,nsim)\n",
    "    avg_label.value = f\"Updated Average of zz: {sol:.2f}, {u(t,x):.2f}, acc: {100*(sol-u(t,x))/(u(t,x)+0.00001):.2f}%\"\n",
    "    var.value = f\"sig: {np.sqrt(v/nsim)}\"\n",
    "    if nsim<=10**3:\n",
    "        zz = np.array([Z0(t, x, dx,dt) for _ in range(nsim)])\n",
    "        plt.hist(zz, bins=int(nsim/20+1))\n",
    "        plt.xlabel(\"Values of Z\")\n",
    "        plt.ylabel(\"Frequency\")\n",
    "        plt.title(\"Histogram of Z\")\n",
    "        plt.show()\n",
    "\n",
    "dt_slider = widgets.FloatSlider(value=1, min=0.1, max=10, step=0.01, description='dt:')\n",
    "dx_slider = widgets.FloatSlider(value=1, min=0.1, max=10, step=0.01, description='dx:')\n",
    "t_slider = widgets.FloatSlider(value=0, min=0, max=10.0, step=0.1, description='t:')\n",
    "x_slider = widgets.FloatSlider(value=0, min=-50, max=50, step=0.1, description='x:')\n",
    "nsim_slider = widgets.FloatSlider(value=0, min=0, max=6, step=1, description='nsim:')\n",
    "\n",
    "avg_label = widgets.Label(value=\"\")\n",
    "var = widgets.Label(value=\"\")\n",
    "\n",
    "display(avg_label)\n",
    "display(var)\n",
    "\n",
    "interact(update_histogram,t=t_slider,x=x_slider, dt=dt_slider, dx=dx_slider, nsim = nsim_slider)"
   ]
  },
  {
   "cell_type": "markdown",
   "metadata": {},
   "source": [
    "move a period and take the difference\n",
    "\n",
    "\\begin{align*}\n",
    "u(t+\\frac{2 \\pi}{q},x)  = u(t,x) +\n",
    "\\frac{q}{2} \\int_{t}^{t+\\frac{2 \\pi}{q} } \\sin\\left(q(s-t) \\right) \\left[ u(s,x+\\Delta x) +u(s,x-\\Delta x) \\right] ds \n",
    "\\end{align*}\n"
   ]
  },
  {
   "cell_type": "markdown",
   "metadata": {},
   "source": [
    "Control variate previous example"
   ]
  }
 ],
 "metadata": {
  "kernelspec": {
   "display_name": "Python 3",
   "language": "python",
   "name": "python3"
  },
  "language_info": {
   "codemirror_mode": {
    "name": "ipython",
    "version": 3
   },
   "file_extension": ".py",
   "mimetype": "text/x-python",
   "name": "python",
   "nbconvert_exporter": "python",
   "pygments_lexer": "ipython3",
   "version": "3.10.11"
  },
  "orig_nbformat": 4
 },
 "nbformat": 4,
 "nbformat_minor": 2
}
