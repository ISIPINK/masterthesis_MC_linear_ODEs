{
 "cells": [
  {
   "cell_type": "markdown",
   "metadata": {},
   "source": [
    "\\begin{align*}\n",
    "u_{tt} &= u_{xx} \\\\\n",
    "u_{tt}(t,x) &= \\frac{u(t,x+ \\Delta x)-2u(t,x)+u(t,x- \\Delta x)}{\\Delta x^{2}} \\\\\n",
    "u_{tt}(t,x) + \\frac{2}{\\Delta x^{2}}u(t,x) &= \\frac{u(t,x+ \\Delta x)+u(t,x- \\Delta x)}{\\Delta x^{2}} \\\\\n",
    "\\end{align*}\n",
    "Introduce: $q = \\frac{\\sqrt{2}}{\\Delta x}$.\n",
    "\\begin{align*}\n",
    "u_{tt}(t,x) + q^{2}u(t,x) &= q^{2}\\frac{u(t,x+ \\Delta x)+u(t,x- \\Delta x)}{2} \\\\\n",
    "\\end{align*}\n",
    "Green's functions:\n",
    "\n",
    "\\begin{align*}\n",
    "u(t,x) = \\cos\\left(\\sqrt{q} t\\right) u(0,t) + \\frac{\\sin\\left(\\sqrt{q}t\\right)}{\\sqrt{q}} u_t(0,x) +    \n",
    "\\frac{\\sqrt{q}}{2} \\int_{0}^{t} \\sin\\left(\\sqrt{q}(s-t) \\right) \\left[ u(s,x+\\Delta x) +u(s,x-\\Delta x) \\right] ds \n",
    "\\end{align*}\n",
    "\n"
   ]
  },
  {
   "cell_type": "code",
   "execution_count": 7,
   "metadata": {},
   "outputs": [
    {
     "data": {
      "application/vnd.jupyter.widget-view+json": {
       "model_id": "98c4fe3d592747c5a14de485ee869482",
       "version_major": 2,
       "version_minor": 0
      },
      "text/plain": [
       "Label(value='')"
      ]
     },
     "metadata": {},
     "output_type": "display_data"
    },
    {
     "data": {
      "application/vnd.jupyter.widget-view+json": {
       "model_id": "2d82d41ad24645968bd72a93fbca49f4",
       "version_major": 2,
       "version_minor": 0
      },
      "text/plain": [
       "Label(value='')"
      ]
     },
     "metadata": {},
     "output_type": "display_data"
    },
    {
     "data": {
      "application/vnd.jupyter.widget-view+json": {
       "model_id": "8822f427df184140a15b7ea0e7f99048",
       "version_major": 2,
       "version_minor": 0
      },
      "text/plain": [
       "interactive(children=(FloatSlider(value=0.0, description='t:', max=10.0), FloatSlider(value=0.0, description='…"
      ]
     },
     "metadata": {},
     "output_type": "display_data"
    },
    {
     "data": {
      "text/plain": [
       "<function __main__.update_histogram(t, x, dt, dx, nsim)>"
      ]
     },
     "execution_count": 7,
     "metadata": {},
     "output_type": "execute_result"
    }
   ],
   "source": [
    "from random import random as U\n",
    "import numpy as np\n",
    "import matplotlib.pyplot as plt\n",
    "from ipywidgets import interact, widgets\n",
    "\n",
    "# def u(t,x): return x**2 + 2*t #needs to satisfy wave equation\n",
    "# def ut(t,x): return  2 #needs to satisfy wave equation\n",
    "\n",
    "# def u(t,x): return x*t**2 + x**3/3 #needs to satisfy wave equation\n",
    "# def ut(t,x): return 2*x*t  #needs to satisfy wave equation\n",
    "\n",
    "def u(t,x): return np.sin((x+t)) #needs to satisfy wave equation\n",
    "def ut(t,x): return np.cos((x+t))  #needs to satisfy wave equation\n",
    "\n",
    "def P1(t,q): return np.cos( np.sqrt(q)*t) \n",
    "def P2(t,q): return np.sin(np.sqrt(q)*t)/np.sqrt(q) \n",
    "def GG(t,s,q): return np.sqrt(q)*np.sin(np.sqrt(q)*(t-s)) # not sure this is good ? \n",
    "count = 0\n",
    "\n",
    "def Z0(t,x,dx,dt):\n",
    "    q =2/dx**2\n",
    "    s = t*U()\n",
    "    xnew = x+dx if U()<1/2 else x-dx\n",
    "    sol = P1(t,q)*u(0,x)\n",
    "    sol += P2(t,q)*ut(0,x)\n",
    "    if t/dt>1:\n",
    "        sol+=t*GG(t,s,q)*Z0(s,xnew,dx,dt)\n",
    "    elif U()<t/dt:\n",
    "        sol+=dt*GG(t,s,q)*Z0(s,xnew,dx,dt)\n",
    "    return sol\n",
    "\n",
    "def Z(t,x,dx,dt):\n",
    "    if t< dt: return Z0(t,x,dx,dt) \n",
    "    t0 = t-dt\n",
    "    q =np.sqrt(2)/dx\n",
    "    s = dt*U()+t0\n",
    "    xnew = x+dx if U()<1/2 else x-dx\n",
    "    samp = 5/10\n",
    "    if U()<samp: \n",
    "        sol = P1(dt,q)*Z(t0,x,dx,dt)/samp\n",
    "    else:\n",
    "        sol=dt*GG(t,s,q)*q**2*Z(s,xnew,dx,dt)/(1-samp)\n",
    "    \n",
    "    rr_rate = q if 1/q <1 else 1\n",
    "\n",
    "    if 1/rr_rate>U():\n",
    "        rr = rr_rate\n",
    "        global count\n",
    "        count +=1\n",
    "        sol += rr*dt*P2(dt,q)*ut(t0,x) \n",
    "        sol += rr*dt*GG(t,s,q)* 2 *q *ut(s,x)\n",
    "\n",
    "    return sol\n",
    "\n",
    "def update_histogram(t,x,dt, dx,nsim):\n",
    "    nsim = 10**int(nsim)\n",
    "    global count\n",
    "    count = 0\n",
    "    zz = np.array([Z0(t, x, dx,dt) for _ in range(nsim)])\n",
    "    avg_label.value = f\"Updated Average of zz: {np.average(zz):.2f}, {u(t,x):.2f}\"\n",
    "    counter.value = f\"Updated Average of count: {count/nsim} \"\n",
    "    plt.hist(zz, bins=50)\n",
    "    plt.xlabel(\"Values of Z\")\n",
    "    plt.ylabel(\"Frequency\")\n",
    "    plt.title(\"Histogram of Z\")\n",
    "    plt.show()\n",
    "\n",
    "dt_slider = widgets.FloatSlider(value=1, min=0.1, max=10, step=0.01, description='dt:')\n",
    "dx_slider = widgets.FloatSlider(value=1, min=0.1, max=10, step=0.01, description='dx:')\n",
    "t_slider = widgets.FloatSlider(value=0, min=0, max=10.0, step=0.1, description='t:')\n",
    "x_slider = widgets.FloatSlider(value=0, min=-50, max=50, step=1, description='x:')\n",
    "nsim_slider = widgets.FloatSlider(value=0, min=0, max=5, step=1, description='nsim:')\n",
    "\n",
    "avg_label = widgets.Label(value=\"\")\n",
    "counter = widgets.Label(value=\"\")\n",
    "\n",
    "display(avg_label)\n",
    "display(counter)\n",
    "\n",
    "interact(update_histogram,t=t_slider,x=x_slider, dt=dt_slider, dx=dx_slider, nsim = nsim_slider)"
   ]
  },
  {
   "cell_type": "markdown",
   "metadata": {},
   "source": [
    "move a period and take the difference\n",
    "\n",
    "\\begin{align*}\n",
    "u(t+\\frac{2 \\pi}{\\sqrt{q}},x)  = u(t,x) +\n",
    "\\frac{\\sqrt{q}}{2} \\int_{t}^{t+\\frac{2 \\pi}{\\sqrt{q}} } \\sin\\left(\\sqrt{q}(s-t) \\right) \\left[ u(s,x+\\Delta x) +u(s,x-\\Delta x) \\right] ds \n",
    "\\end{align*}\n"
   ]
  }
 ],
 "metadata": {
  "kernelspec": {
   "display_name": "Python 3",
   "language": "python",
   "name": "python3"
  },
  "language_info": {
   "codemirror_mode": {
    "name": "ipython",
    "version": 3
   },
   "file_extension": ".py",
   "mimetype": "text/x-python",
   "name": "python",
   "nbconvert_exporter": "python",
   "pygments_lexer": "ipython3",
   "version": "3.10.11"
  },
  "orig_nbformat": 4
 },
 "nbformat": 4,
 "nbformat_minor": 2
}
