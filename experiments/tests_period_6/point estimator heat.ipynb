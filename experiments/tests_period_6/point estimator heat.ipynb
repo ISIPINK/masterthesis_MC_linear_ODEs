{
 "cells": [
  {
   "cell_type": "markdown",
   "metadata": {},
   "source": [
    "\\begin{align*}\n",
    "u_t &= u_{xx} \\\\\n",
    "u_t(t,x) &= \\frac{u(t,x+ \\Delta x)-2u(t,x)+u(t,x- \\Delta x)}{\\Delta x^{2}} \\\\\n",
    "u_t(t,x) + \\frac{2}{\\Delta x^{2}}u(t,x) &= \\frac{u(t,x+ \\Delta x)+u(t,x- \\Delta x)}{\\Delta x^{2}} \\\\\n",
    "u(t,x) &= e^{-\\frac{2}{\\Delta x^{2}} t} \\left[u(0,x) \n",
    "+ \\frac{1}{\\Delta x^{2}} \\int_{0}^{t} e^{\\frac{2}{\\Delta x^{2}} s} \n",
    "(u(s,x+ \\Delta x)+u(s,x- \\Delta x))ds  \\right] \n",
    "\\end{align*}"
   ]
  },
  {
   "cell_type": "code",
   "execution_count": 1,
   "metadata": {},
   "outputs": [
    {
     "data": {
      "application/vnd.jupyter.widget-view+json": {
       "model_id": "eb591165ff1b4e778acb0040098b69a5",
       "version_major": 2,
       "version_minor": 0
      },
      "text/plain": [
       "Label(value='')"
      ]
     },
     "metadata": {},
     "output_type": "display_data"
    },
    {
     "data": {
      "application/vnd.jupyter.widget-view+json": {
       "model_id": "e4e0289f4d524002b7a37733e1d90159",
       "version_major": 2,
       "version_minor": 0
      },
      "text/plain": [
       "interactive(children=(FloatSlider(value=0.0, description='t:', max=10.0), FloatSlider(value=0.0, description='…"
      ]
     },
     "metadata": {},
     "output_type": "display_data"
    },
    {
     "data": {
      "text/plain": [
       "<function __main__.update_histogram(t, x, dt, dx, nsim)>"
      ]
     },
     "execution_count": 1,
     "metadata": {},
     "output_type": "execute_result"
    }
   ],
   "source": [
    "from random import random as U\n",
    "import numpy as np\n",
    "import matplotlib.pyplot as plt\n",
    "from ipywidgets import interact, widgets\n",
    "\n",
    "# def u(t,x): return x**2 + 2*t #needs to satisfy heat equation\n",
    "def u(t,x): return 2*x*t + x**3/3 #needs to satisfy heat equation\n",
    "def Pheat(t,q): return np.exp(-q*t)\n",
    "def Gheat(t,s,q): return np.exp(q*(s-t)) \n",
    "\n",
    "\n",
    "def Z0(t,x,dx,dt):\n",
    "    a =2/dx**2 \n",
    "    sol = Pheat(t,a)*u(0,x)\n",
    "    s = t*U()\n",
    "    xnew = x+dx if U()<1/2 else x-dx\n",
    "    if U()<t/dt:\n",
    "        sol+=2*Gheat(t,s,a)*Z0(s,xnew,dx,dt)*dt/dx**2\n",
    "    return sol\n",
    "\n",
    "def Z(t,x,dx,dt):\n",
    "    if t< dt: return Z0(t,x,dx,dt) \n",
    "    t0 = t-dt\n",
    "    a =2/dx**2 \n",
    "    s = dt*U()+t0\n",
    "    xnew = x+dx if U()<1/2 else x-dx\n",
    "    samp = np.exp(-a*dt)/(0.5+np.exp(-a*dt))\n",
    "    if U()<samp: \n",
    "        sol = Pheat(dt,a)*Z(t0,x,dx,dt)/samp\n",
    "    else:\n",
    "        sol=2* Gheat(t,s,a)*Z(s,xnew,dx,dt)*dt/dx**2 / (1-samp)\n",
    "    return sol\n",
    "\n",
    "# Number of simulations\n",
    "\n",
    "# Function to update and display the histogram\n",
    "def update_histogram(t,x,dt, dx,nsim):\n",
    "    nsim = 10**int(nsim)\n",
    "    zz = np.array([Z(t, x, dx, dt) for _ in range(nsim)])\n",
    "    avg_label.value = f\"Updated Average of zz: {np.average(zz):.2f}, {u(t,x):.2f}\"\n",
    "    plt.hist(zz, bins=int(nsim/20+1))\n",
    "    plt.xlabel(\"Values of Z\")\n",
    "    plt.ylabel(\"Frequency\")\n",
    "    plt.title(\"Histogram of Z\")\n",
    "    plt.show()\n",
    "\n",
    "# Create sliders for dt and dx\n",
    "dt_slider = widgets.FloatSlider(value=1, min=0.01, max=1, step=0.01, description='dt:')\n",
    "dx_slider = widgets.FloatSlider(value=1, min=0.01, max=10, step=0.1, description='dx:')\n",
    "t_slider = widgets.FloatSlider(value=0, min=0, max=10.0, step=0.1, description='t:')\n",
    "x_slider = widgets.FloatSlider(value=0, min=-50, max=50, step=1, description='x:')\n",
    "nsim_slider = widgets.FloatSlider(value=0, min=0, max=5, step=1, description='nsim:')\n",
    "\n",
    "# Create a label to display the average of zz\n",
    "avg_label = widgets.Label(value=\"\")\n",
    "\n",
    "# Create an interactive interface\n",
    "display(avg_label)\n",
    "interact(update_histogram,t=t_slider,x=x_slider, dt=dt_slider, dx=dx_slider, nsim = nsim_slider)"
   ]
  },
  {
   "cell_type": "markdown",
   "metadata": {},
   "source": [
    "now with importance sampling"
   ]
  },
  {
   "cell_type": "code",
   "execution_count": 7,
   "metadata": {},
   "outputs": [
    {
     "data": {
      "application/vnd.jupyter.widget-view+json": {
       "model_id": "cfa3577129b2497c872441e5c789446e",
       "version_major": 2,
       "version_minor": 0
      },
      "text/plain": [
       "Label(value='')"
      ]
     },
     "metadata": {},
     "output_type": "display_data"
    },
    {
     "data": {
      "application/vnd.jupyter.widget-view+json": {
       "model_id": "19f66ecd46fd4d67b836bd7009632fae",
       "version_major": 2,
       "version_minor": 0
      },
      "text/plain": [
       "interactive(children=(FloatSlider(value=0.0, description='t:', max=10.0), FloatSlider(value=0.0, description='…"
      ]
     },
     "metadata": {},
     "output_type": "display_data"
    },
    {
     "data": {
      "text/plain": [
       "<function __main__.update_histogram(t, x, dx, nsim)>"
      ]
     },
     "execution_count": 7,
     "metadata": {},
     "output_type": "execute_result"
    }
   ],
   "source": [
    "from random import random as U\n",
    "import numpy as np\n",
    "from numba import njit, prange\n",
    "import matplotlib.pyplot as plt\n",
    "from ipywidgets import interact, widgets\n",
    "\n",
    "# @njit(fastmath=True)\n",
    "# def u(t,x): return x**2 + 2*t #needs to satisfy heat equation\n",
    "@njit(fastmath=True)\n",
    "def u(t,x): return 2*x*t + x**3/3 #needs to satisfy heat equation\n",
    "@njit(fastmath=True)\n",
    "def Pheat(t,q): return np.exp(-q*t)\n",
    "\n",
    "@njit(fastmath=True)\n",
    "def Z0(t,x,dx):\n",
    "    a =2.0/dx**2 \n",
    "    sol = Pheat(t,a)*u(0,x)\n",
    "    s = t-np.random.exponential(scale=1/a,size=1)[0]\n",
    "    xnew = x+dx if U()<1/2 else x-dx\n",
    "    sol+=Z0(s,xnew,dx) if s>0 else 0.0\n",
    "    return sol\n",
    "\n",
    "# Function to update and display the histogram\n",
    "def update_histogram(t,x, dx,nsim):\n",
    "    nsim = 10**int(nsim)\n",
    "    zz = np.array([Z0(t, x, dx) for _ in range(nsim)])\n",
    "    avg_label.value = f\"Updated Average of zz: {np.average(zz):.2f}, {u(t,x):.2f}\"\n",
    "    plt.hist(zz, bins=int(nsim/20+1))\n",
    "    plt.xlabel(\"Values of Z\")\n",
    "    plt.ylabel(\"Frequency\")\n",
    "    plt.title(\"Histogram of Z\")\n",
    "    plt.show()\n",
    "\n",
    "# Create sliders for dt and dx\n",
    "dx_slider = widgets.FloatSlider(value=1, min=0.1, max=10, step=0.1, description='dx:')\n",
    "t_slider = widgets.FloatSlider(value=0, min=0, max=10.0, step=0.1, description='t:')\n",
    "x_slider = widgets.FloatSlider(value=0, min=-50, max=50, step=1, description='x:')\n",
    "nsim_slider = widgets.FloatSlider(value=0, min=0, max=5, step=1, description='nsim:')\n",
    "\n",
    "# Create a label to display the average of zz\n",
    "avg_label = widgets.Label(value=\"\")\n",
    "\n",
    "# Create an interactive interface\n",
    "display(avg_label)\n",
    "interact(update_histogram,t=t_slider,x=x_slider, dx=dx_slider, nsim = nsim_slider)"
   ]
  }
 ],
 "metadata": {
  "kernelspec": {
   "display_name": "Python 3",
   "language": "python",
   "name": "python3"
  },
  "language_info": {
   "codemirror_mode": {
    "name": "ipython",
    "version": 3
   },
   "file_extension": ".py",
   "mimetype": "text/x-python",
   "name": "python",
   "nbconvert_exporter": "python",
   "pygments_lexer": "ipython3",
   "version": "3.10.11"
  },
  "orig_nbformat": 4
 },
 "nbformat": 4,
 "nbformat_minor": 2
}
