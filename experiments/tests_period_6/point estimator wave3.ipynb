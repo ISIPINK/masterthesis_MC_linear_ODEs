{
 "cells": [
  {
   "cell_type": "markdown",
   "metadata": {},
   "source": [
    "we dont think the following works out because the time proces tends to $\\infty$."
   ]
  },
  {
   "cell_type": "markdown",
   "metadata": {},
   "source": [
    "\\begin{align*}\n",
    "u_{tt} &= u_{xx} \\\\\n",
    "u_{tt}(t,x) &= \\frac{u(t,x+ \\Delta x)-2u(t,x)+u(t,x- \\Delta x)}{\\Delta x^{2}} \\\\\n",
    "u_{tt}(t,x) + \\frac{2}{\\Delta x^{2}}u(t,x) &= \\frac{u(t,x+ \\Delta x)+u(t,x- \\Delta x)}{\\Delta x^{2}} \\\\\n",
    "\\end{align*}\n",
    "Introduce: $b = \\frac{1 + \\sqrt{3}}{\\Delta x} \\Rightarrow b^{2} = \\frac{4 + 2\\sqrt{3}}{\\Delta x^{2}}$.\n",
    "\\begin{align*}\n",
    "u_{tt}(t,x) + 2b u_t(t,x) + b^{2}u(t,x) &=  \\left(\\frac{u(t,x+ \\Delta x)+u(t,x- \\Delta x)}{\\Delta x ^{2}}+ \\frac{2 + 2\\sqrt{3}}{\\Delta x^{2}} u(t+\\Delta x,x) \\right) \\\\\n",
    "\\end{align*}"
   ]
  },
  {
   "cell_type": "markdown",
   "metadata": {},
   "source": [
    "wolframalpha: <br>\n",
    "\n",
    "solve y''(t) + (sqrt(2)+sqrt(6))a y'(t) + (2+sqrt(3))a^2 y(t) = delta(t-s) , y(0)=0 , y'(0)=0, t>0,s>0 <br>\n",
    "\n",
    "\\begin{align*}\n",
    "y(t) = (s - t) \\left(\\theta(-s) - \\theta(t - s)\\right) e^{-\\frac{1}{2}a\\left(\\sqrt{2} + \\sqrt{6} - 4\\sqrt{2 + \\sqrt{3}}\\right)s + \\sqrt{2}(1 + \\sqrt{3})t}\n",
    "\\end{align*}\n",
    "\n",
    "find a such that (1- 1/(a^2 + a sqrt(a^2+2)+1))/a <= 1/(a+sqrt(a^2+2))  <br>\n",
    "no solution exists\n"
   ]
  }
 ],
 "metadata": {
  "language_info": {
   "name": "python"
  },
  "orig_nbformat": 4
 },
 "nbformat": 4,
 "nbformat_minor": 2
}
