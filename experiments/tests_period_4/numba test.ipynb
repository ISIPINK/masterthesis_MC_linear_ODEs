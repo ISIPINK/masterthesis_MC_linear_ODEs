{
 "cells": [
  {
   "attachments": {},
   "cell_type": "markdown",
   "metadata": {},
   "source": [
    "We use numba to accelerate one of our examples :"
   ]
  },
  {
   "cell_type": "code",
   "execution_count": 1,
   "metadata": {},
   "outputs": [],
   "source": [
    "from random import random\n",
    "def Y(t): return 1 + (Y(random()*t) if random()<t else 0)\n",
    "def y(t,nsim): return sum(Y(t) for _ in range(nsim))/nsim"
   ]
  },
  {
   "cell_type": "code",
   "execution_count": 2,
   "metadata": {},
   "outputs": [
    {
     "name": "stdout",
     "output_type": "stream",
     "text": [
      "2.7181785\n"
     ]
    }
   ],
   "source": [
    "print(y(1,10**7))"
   ]
  },
  {
   "cell_type": "code",
   "execution_count": 3,
   "metadata": {},
   "outputs": [],
   "source": [
    "from numba import njit, prange\n",
    "from random import random \n",
    "\n",
    "@njit(fastmath=True)\n",
    "def Yf(t): \n",
    "    sol = 1\n",
    "    while random()<t:\n",
    "        sol +=1\n",
    "        t*= random()\n",
    "    return sol\n",
    "\n",
    "@njit(fastmath=True, parallel=True)\n",
    "def yf(t, nsim):\n",
    "    total = 0.0\n",
    "    for _ in prange(nsim):\n",
    "        total += Yf(t)\n",
    "    return total/nsim"
   ]
  },
  {
   "cell_type": "code",
   "execution_count": 27,
   "metadata": {},
   "outputs": [
    {
     "name": "stdout",
     "output_type": "stream",
     "text": [
      "2.7180485\n"
     ]
    }
   ],
   "source": [
    "print(yf(1, 10**7))"
   ]
  },
  {
   "cell_type": "code",
   "execution_count": 32,
   "metadata": {},
   "outputs": [],
   "source": [
    "import numpy as np\n",
    "from numba import jit\n",
    "\n",
    "@jit(nopython=True)\n",
    "def matrix_multiply(a, b):\n",
    "    \"\"\"\n",
    "    Computes the matrix product of two matrices.\n",
    "    \"\"\"\n",
    "    m, n = a.shape\n",
    "    p = b.shape[1]\n",
    "    result = np.zeros((m, p))\n",
    "    for i in range(m):\n",
    "        for j in range(p):\n",
    "            dot_product = 0\n",
    "            for k in range(n):\n",
    "                dot_product += a[i,k] * b[k,j]\n",
    "            result[i,j] = dot_product\n",
    "    return result\n",
    "\n",
    "\n"
   ]
  },
  {
   "cell_type": "code",
   "execution_count": 37,
   "metadata": {},
   "outputs": [
    {
     "name": "stdout",
     "output_type": "stream",
     "text": [
      "[[260.28290744 250.52801974 247.96041146 ... 250.5053192  245.88114898\n",
      "  242.99888351]\n",
      " [252.79307914 246.98386182 238.82206026 ... 242.33713964 236.5272261\n",
      "  237.10691429]\n",
      " [252.25960912 250.49624406 247.77368566 ... 248.22160872 244.23347981\n",
      "  242.8201026 ]\n",
      " ...\n",
      " [263.58380979 262.6695535  253.71957964 ... 253.48918747 249.985647\n",
      "  247.74080593]\n",
      " [260.32980426 255.40158467 255.47341038 ... 260.92876601 248.87819946\n",
      "  250.25299892]\n",
      " [257.3187709  251.82815001 249.2490913  ... 253.01821431 239.85581594\n",
      "  239.92211038]]\n"
     ]
    }
   ],
   "source": [
    "a = np.random.rand(1000, 1000)\n",
    "b = np.random.rand(1000, 1000)\n",
    "result = np.matmul(a, b)\n",
    "print(result)"
   ]
  },
  {
   "cell_type": "code",
   "execution_count": 33,
   "metadata": {},
   "outputs": [
    {
     "name": "stdout",
     "output_type": "stream",
     "text": [
      "[[249.39706223 242.81949706 242.57081109 ... 244.28237177 252.61763238\n",
      "  250.63899395]\n",
      " [247.50294308 234.81297525 244.34413249 ... 246.1710537  253.06789775\n",
      "  250.93207975]\n",
      " [248.58669202 242.88122921 254.18495535 ... 249.34237559 258.93176557\n",
      "  257.94081273]\n",
      " ...\n",
      " [244.7875718  237.35546387 244.98985201 ... 248.87119984 253.67951434\n",
      "  251.01124905]\n",
      " [238.61728758 231.21247487 237.68404937 ... 243.41701069 250.89727827\n",
      "  249.67407766]\n",
      " [247.82385214 244.34959067 246.15794621 ... 251.89006598 258.16924687\n",
      "  256.97427152]]\n"
     ]
    }
   ],
   "source": [
    "a = np.random.rand(1000, 1000)\n",
    "b = np.random.rand(1000, 1000)\n",
    "result = matrix_multiply(a, b)\n",
    "print(result)"
   ]
  },
  {
   "cell_type": "code",
   "execution_count": 51,
   "metadata": {},
   "outputs": [
    {
     "name": "stdout",
     "output_type": "stream",
     "text": [
      "[42. 87.]\n"
     ]
    }
   ],
   "source": [
    "import numpy as np\n",
    "from numba import njit\n",
    "\n",
    "@njit\n",
    "def testmatmul():\n",
    "    A = np.identity(2)\n",
    "    x = np.array([42.0 ,87.0])\n",
    "    return A@x\n",
    "\n",
    "print(testmatmul())"
   ]
  },
  {
   "cell_type": "code",
   "execution_count": 13,
   "metadata": {},
   "outputs": [
    {
     "ename": "TypingError",
     "evalue": "Failed in nopython mode pipeline (step: nopython frontend)\n\u001b[1m\u001b[1mUnknown attribute 'Sobol' of type Module(<module 'scipy.stats.qmc' from 'c:\\\\Users\\\\Admin\\\\anaconda3\\\\lib\\\\site-packages\\\\scipy\\\\stats\\\\qmc.py'>)\n\u001b[1m\nFile \"..\\..\\..\\..\\..\\AppData\\Local\\Temp\\ipykernel_4112\\1637256765.py\", line 11:\u001b[0m\n\u001b[1m<source missing, REPL/exec in use?>\u001b[0m\n\u001b[0m\n\u001b[0m\u001b[1mDuring: typing of get attribute at C:\\Users\\Admin\\AppData\\Local\\Temp\\ipykernel_4112\\1637256765.py (11)\u001b[0m\n\u001b[1m\nFile \"..\\..\\..\\..\\..\\AppData\\Local\\Temp\\ipykernel_4112\\1637256765.py\", line 11:\u001b[0m\n\u001b[1m<source missing, REPL/exec in use?>\u001b[0m\n",
     "output_type": "error",
     "traceback": [
      "\u001b[1;31m---------------------------------------------------------------------------\u001b[0m",
      "\u001b[1;31mTypingError\u001b[0m                               Traceback (most recent call last)",
      "\u001b[1;32m~\\AppData\\Local\\Temp\\ipykernel_4112\\1637256765.py\u001b[0m in \u001b[0;36m<module>\u001b[1;34m\u001b[0m\n\u001b[0;32m     13\u001b[0m \u001b[1;33m\u001b[0m\u001b[0m\n\u001b[0;32m     14\u001b[0m \u001b[1;33m\u001b[0m\u001b[0m\n\u001b[1;32m---> 15\u001b[1;33m \u001b[0mqmc_pi_estimate\u001b[0m\u001b[1;33m(\u001b[0m\u001b[1;36m10\u001b[0m\u001b[1;33m**\u001b[0m\u001b[1;36m3\u001b[0m\u001b[1;33m)\u001b[0m\u001b[1;33m\u001b[0m\u001b[1;33m\u001b[0m\u001b[0m\n\u001b[0m",
      "\u001b[1;32mc:\\Users\\Admin\\anaconda3\\lib\\site-packages\\numba\\core\\dispatcher.py\u001b[0m in \u001b[0;36m_compile_for_args\u001b[1;34m(self, *args, **kws)\u001b[0m\n\u001b[0;32m    466\u001b[0m                 \u001b[0me\u001b[0m\u001b[1;33m.\u001b[0m\u001b[0mpatch_message\u001b[0m\u001b[1;33m(\u001b[0m\u001b[0mmsg\u001b[0m\u001b[1;33m)\u001b[0m\u001b[1;33m\u001b[0m\u001b[1;33m\u001b[0m\u001b[0m\n\u001b[0;32m    467\u001b[0m \u001b[1;33m\u001b[0m\u001b[0m\n\u001b[1;32m--> 468\u001b[1;33m             \u001b[0merror_rewrite\u001b[0m\u001b[1;33m(\u001b[0m\u001b[0me\u001b[0m\u001b[1;33m,\u001b[0m \u001b[1;34m'typing'\u001b[0m\u001b[1;33m)\u001b[0m\u001b[1;33m\u001b[0m\u001b[1;33m\u001b[0m\u001b[0m\n\u001b[0m\u001b[0;32m    469\u001b[0m         \u001b[1;32mexcept\u001b[0m \u001b[0merrors\u001b[0m\u001b[1;33m.\u001b[0m\u001b[0mUnsupportedError\u001b[0m \u001b[1;32mas\u001b[0m \u001b[0me\u001b[0m\u001b[1;33m:\u001b[0m\u001b[1;33m\u001b[0m\u001b[1;33m\u001b[0m\u001b[0m\n\u001b[0;32m    470\u001b[0m             \u001b[1;31m# Something unsupported is present in the user code, add help info\u001b[0m\u001b[1;33m\u001b[0m\u001b[1;33m\u001b[0m\u001b[0m\n",
      "\u001b[1;32mc:\\Users\\Admin\\anaconda3\\lib\\site-packages\\numba\\core\\dispatcher.py\u001b[0m in \u001b[0;36merror_rewrite\u001b[1;34m(e, issue_type)\u001b[0m\n\u001b[0;32m    407\u001b[0m                 \u001b[1;32mraise\u001b[0m \u001b[0me\u001b[0m\u001b[1;33m\u001b[0m\u001b[1;33m\u001b[0m\u001b[0m\n\u001b[0;32m    408\u001b[0m             \u001b[1;32melse\u001b[0m\u001b[1;33m:\u001b[0m\u001b[1;33m\u001b[0m\u001b[1;33m\u001b[0m\u001b[0m\n\u001b[1;32m--> 409\u001b[1;33m                 \u001b[1;32mraise\u001b[0m \u001b[0me\u001b[0m\u001b[1;33m.\u001b[0m\u001b[0mwith_traceback\u001b[0m\u001b[1;33m(\u001b[0m\u001b[1;32mNone\u001b[0m\u001b[1;33m)\u001b[0m\u001b[1;33m\u001b[0m\u001b[1;33m\u001b[0m\u001b[0m\n\u001b[0m\u001b[0;32m    410\u001b[0m \u001b[1;33m\u001b[0m\u001b[0m\n\u001b[0;32m    411\u001b[0m         \u001b[0margtypes\u001b[0m \u001b[1;33m=\u001b[0m \u001b[1;33m[\u001b[0m\u001b[1;33m]\u001b[0m\u001b[1;33m\u001b[0m\u001b[1;33m\u001b[0m\u001b[0m\n",
      "\u001b[1;31mTypingError\u001b[0m: Failed in nopython mode pipeline (step: nopython frontend)\n\u001b[1m\u001b[1mUnknown attribute 'Sobol' of type Module(<module 'scipy.stats.qmc' from 'c:\\\\Users\\\\Admin\\\\anaconda3\\\\lib\\\\site-packages\\\\scipy\\\\stats\\\\qmc.py'>)\n\u001b[1m\nFile \"..\\..\\..\\..\\..\\AppData\\Local\\Temp\\ipykernel_4112\\1637256765.py\", line 11:\u001b[0m\n\u001b[1m<source missing, REPL/exec in use?>\u001b[0m\n\u001b[0m\n\u001b[0m\u001b[1mDuring: typing of get attribute at C:\\Users\\Admin\\AppData\\Local\\Temp\\ipykernel_4112\\1637256765.py (11)\u001b[0m\n\u001b[1m\nFile \"..\\..\\..\\..\\..\\AppData\\Local\\Temp\\ipykernel_4112\\1637256765.py\", line 11:\u001b[0m\n\u001b[1m<source missing, REPL/exec in use?>\u001b[0m\n"
     ]
    }
   ],
   "source": [
    "import numpy as np\n",
    "from scipy.stats import qmc\n",
    "from numba import njit\n",
    "\n",
    "@njit\n",
    "def qmc_pi_estimate(n: int):\n",
    "    \"\"\"\n",
    "    Estimate the value of pi using QMC\n",
    "    \"\"\"\n",
    "    # Generate n Quasi-random points in a unit square\n",
    "    points = qmc.Sobol(d=2).random(n)\n",
    "    print(points)\n",
    "    \n",
    "\n",
    "qmc_pi_estimate(10**3)"
   ]
  }
 ],
 "metadata": {
  "kernelspec": {
   "display_name": "base",
   "language": "python",
   "name": "python3"
  },
  "language_info": {
   "codemirror_mode": {
    "name": "ipython",
    "version": 3
   },
   "file_extension": ".py",
   "mimetype": "text/x-python",
   "name": "python",
   "nbconvert_exporter": "python",
   "pygments_lexer": "ipython3",
   "version": "3.9.13"
  },
  "orig_nbformat": 4,
  "vscode": {
   "interpreter": {
    "hash": "2043299c89c8cd0b4d1a6f5cf4529bd58e6a4e0fe3181a25e0d328c821cdc5c5"
   }
  }
 },
 "nbformat": 4,
 "nbformat_minor": 2
}
