{
 "cells": [
  {
   "attachments": {},
   "cell_type": "markdown",
   "metadata": {},
   "source": [
    "# RMC for linear systems\n",
    "RMC can deal with linear systems of the form\n",
    "$$x =Ax +b$$\n",
    "where the coefficients of $A$ are sufficiently small. This very similar but simpler then how Ulam and Neumann did it."
   ]
  },
  {
   "attachments": {},
   "cell_type": "markdown",
   "metadata": {},
   "source": [
    "Lets solve \n",
    "$$x = \n",
    "\\begin{pmatrix}\n",
    "-\\frac{1}{8} & \\frac{1}{8} \\\\\n",
    "\\frac{1}{8} & \\frac{1}{8}\n",
    "\\end{pmatrix}x\n",
    "+\n",
    "\\begin{pmatrix}\n",
    "1 \\\\\n",
    "\\frac{3}{4}\n",
    "\\end{pmatrix}\n",
    "$$\n",
    "with RMC. <br>\n",
    "This has solution x = [1,1] <br>\n",
    "The basic idea is to add a random row selector matrix with expectation $I$. (still have to write it out)"
   ]
  },
  {
   "cell_type": "code",
   "execution_count": 4,
   "metadata": {},
   "outputs": [],
   "source": [
    "from random import random, randint\n",
    "import numpy as np"
   ]
  },
  {
   "cell_type": "code",
   "execution_count": 40,
   "metadata": {},
   "outputs": [],
   "source": [
    "def x1():\n",
    "    r = randint(0,3)\n",
    "    if r == 0:\n",
    "        return -0.5*x1() +1\n",
    "    elif r==1:\n",
    "        return 0.5*x2() +1\n",
    "    else:\n",
    "        return 1\n",
    "    \n",
    "def x2():\n",
    "    r = randint(0,3)\n",
    "    if r == 0:\n",
    "        return 0.5*x1() +3/4\n",
    "    elif r==1:\n",
    "        return 0.5*x2() +3/4\n",
    "    else:\n",
    "        return 3/4"
   ]
  },
  {
   "cell_type": "code",
   "execution_count": 73,
   "metadata": {},
   "outputs": [
    {
     "name": "stdout",
     "output_type": "stream",
     "text": [
      "1.0065107421874995\n",
      "0.9821152343750039\n"
     ]
    }
   ],
   "source": [
    "res = 0\n",
    "for _ in range(1000):\n",
    "    res += x1()/1000\n",
    "print(res)\n",
    "\n",
    "res = 0\n",
    "for _ in range(1000):\n",
    "    res += x2()/1000\n",
    "print(res)"
   ]
  },
  {
   "attachments": {},
   "cell_type": "markdown",
   "metadata": {},
   "source": [
    "Same problem but with memory (taking the average inside recursion is possible but harder)\n",
    "You can reuse every recursion "
   ]
  },
  {
   "cell_type": "code",
   "execution_count": 196,
   "metadata": {},
   "outputs": [],
   "source": [
    "memo1 = []\n",
    "memo2 = []\n",
    "\n",
    "def x1memo():\n",
    "    r = randint(0,3)\n",
    "    if r == 0:\n",
    "        res = -0.5*x1memo() +1\n",
    "    elif r==1:\n",
    "        res = 0.5*x2memo() +1\n",
    "    else:\n",
    "        res = 1\n",
    "    memo1.append(res)\n",
    "    return res\n",
    "    \n",
    "def x2memo():\n",
    "    r = randint(0,3)\n",
    "    if r == 0:\n",
    "        res= 0.5*x1memo() +3/4\n",
    "    elif r==1:\n",
    "        res= 0.5*x2memo() +3/4\n",
    "    else:\n",
    "        res= 3/4\n",
    "    memo2.append(res)\n",
    "    return res"
   ]
  },
  {
   "cell_type": "code",
   "execution_count": 236,
   "metadata": {},
   "outputs": [
    {
     "name": "stdout",
     "output_type": "stream",
     "text": [
      "2019\n",
      "1.002028096365775\n",
      "1953\n",
      "0.9923935131848438\n"
     ]
    }
   ],
   "source": [
    "memo1 = []\n",
    "memo2 = []\n",
    "for _ in range(1000):\n",
    "    x1memo()\n",
    "    x2memo()\n",
    "\n",
    "print(len(memo1))\n",
    "print(sum(memo1)/len(memo1))\n",
    "print(len(memo2))\n",
    "print(sum(memo2)/len(memo2))\n"
   ]
  },
  {
   "attachments": {},
   "cell_type": "markdown",
   "metadata": {},
   "source": [
    "Now add dynamic control variate so we get something similar to sequential Monte Carlo"
   ]
  },
  {
   "cell_type": "code",
   "execution_count": 465,
   "metadata": {},
   "outputs": [],
   "source": [
    "memo1 = []\n",
    "memo2 = []\n",
    "def x1memo_control(x1control, x2control):\n",
    "    r = randint(0,3)\n",
    "    if r == 0:\n",
    "        res = -0.5*(x1memo_control(x1control,x2control)-x1control) - x1control/8 + x2control/8+1\n",
    "    elif r==1:\n",
    "        res = 0.5*(x2memo_control(x1control,x2control)-x2control) - x1control/8 + x2control/8+1\n",
    "    else:\n",
    "        res = 1+x1control/8 - x2control/8\n",
    "    memo1.append(res)\n",
    "    return res\n",
    "    \n",
    "def x2memo_control(x1control,x2control):\n",
    "    r = randint(0,3)\n",
    "    if r == 0:\n",
    "        res= 0.5*(x1memo_control(x1control,x2control)-x1control) +x1control/8 + x2control/8 +3/4\n",
    "    elif r==1:\n",
    "        res= 0.5*(x2memo_control(x1control,x2control)-x2control) +x1control/8 + x2control/8+3/4\n",
    "    else:\n",
    "        res= 3/4+x1control/8 + x2control/8\n",
    "    memo2.append(res)\n",
    "    return res"
   ]
  },
  {
   "cell_type": "code",
   "execution_count": 560,
   "metadata": {},
   "outputs": [
    {
     "name": "stdout",
     "output_type": "stream",
     "text": [
      "1.0001935437321663\n",
      "1.000024475157261\n"
     ]
    }
   ],
   "source": [
    "x1control = 0\n",
    "x2control = 0\n",
    "# you can have finer control over the outer and inner iteration\n",
    "for _ in range(5):\n",
    "    memo1 = []\n",
    "    memo2 = []\n",
    "    for _ in range(1):\n",
    "        x1memo_control(x1control,x2control)\n",
    "        x2memo_control(x1control,x2control)\n",
    "    x1control = sum(memo1)/len(memo1)\n",
    "    x2control = sum(memo2)/len(memo2)\n",
    "\n",
    "print(x1control)\n",
    "print(x2control)\n"
   ]
  },
  {
   "attachments": {},
   "cell_type": "markdown",
   "metadata": {},
   "source": []
  }
 ],
 "metadata": {
  "kernelspec": {
   "display_name": "Python 3",
   "language": "python",
   "name": "python3"
  },
  "language_info": {
   "codemirror_mode": {
    "name": "ipython",
    "version": 3
   },
   "file_extension": ".py",
   "mimetype": "text/x-python",
   "name": "python",
   "nbconvert_exporter": "python",
   "pygments_lexer": "ipython3",
   "version": "3.10.10"
  },
  "orig_nbformat": 4,
  "vscode": {
   "interpreter": {
    "hash": "61dcd53c54624714075f66cf77d2f4f7b806bcd73e530a683be31ad82b480a0b"
   }
  }
 },
 "nbformat": 4,
 "nbformat_minor": 2
}
