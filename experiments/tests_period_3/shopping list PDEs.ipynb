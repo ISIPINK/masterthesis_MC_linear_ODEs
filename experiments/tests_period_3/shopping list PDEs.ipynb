{
 "cells": [
  {
   "attachments": {},
   "cell_type": "markdown",
   "metadata": {},
   "source": [
    "#  Heat Equation (parabolic equations)\n",
    "https://en.wikipedia.org/wiki/Heat_equation <br>\n",
    "We want to solve the heat equation later as base for parabolic differential equations. An important reference is https://en.wikipedia.org/wiki/Feynman%E2%80%93Kac_formula. We already gathered all possible ingredients to cook an unbiased Monte Carlo solver for the Heat equation with nasty dirichlet boundary conditions:\n",
    "\n",
    "- Recursive brownian motion (see prototype monte carlo on github)\n",
    "- unbiased estimator of exp integral \n",
    "- an other solver to compare\n",
    "\n",
    "adding Neumann boundary conditions we need a way to obtain the derivative of the green function (on a compact domain) and do some coupling."
   ]
  },
  {
   "attachments": {},
   "cell_type": "markdown",
   "metadata": {},
   "source": [
    "# Wave Equation (hyperbolic equations)\n",
    "https://en.wikipedia.org/wiki/Wave_equation <br>\n",
    "\n",
    "- understand the boundary conditions and solutions\n",
    "- green function + derivative of a compact domain (like a box)\n",
    "- coupling for recursion on boundary\n",
    "- basic test example\n",
    "- an other solver to compare\n",
    "\n",
    "We aren't sure that a Monte Carlo solver for the wave equation is even remotely possible but given if we have enough time we'll try and learn from it."
   ]
  },
  {
   "attachments": {},
   "cell_type": "markdown",
   "metadata": {},
   "source": [
    "# Laplace Equation (elliptic equations)\n",
    "Examples can be found in Grid-Free Monte Carlo for PDEs with Spatially Varying Coefficients."
   ]
  }
 ],
 "metadata": {
  "kernelspec": {
   "display_name": "Python 3",
   "language": "python",
   "name": "python3"
  },
  "language_info": {
   "name": "python",
   "version": "3.10.10"
  },
  "orig_nbformat": 4,
  "vscode": {
   "interpreter": {
    "hash": "61dcd53c54624714075f66cf77d2f4f7b806bcd73e530a683be31ad82b480a0b"
   }
  }
 },
 "nbformat": 4,
 "nbformat_minor": 2
}
