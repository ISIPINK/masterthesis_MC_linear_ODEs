{
 "cells": [
  {
   "attachments": {},
   "cell_type": "markdown",
   "metadata": {},
   "source": [
    "Check out A Random Walk on Rectangles Algorithm and https://www.researchgate.net/publication/333002793_Random_walk_on_rectangles_and_parallelepipeds_algorithm_for_solving_transient_anisotropic_drift-diffusion-reaction_problems (we have not the full text)"
   ]
  },
  {
   "attachments": {},
   "cell_type": "markdown",
   "metadata": {},
   "source": [
    "# example1 recursion on boundary (broken)\n",
    "We think that this example won't work because the domain is to big and we don't want to add more then $2$ integral representations ... \n",
    "\n",
    "\n",
    "Lets do an example with recursion on the boundary. Lets look at following ODE:\n",
    "$$\n",
    "y'' = y, y(-2)=e^{-2}, y'(2)=e^{2}.\n",
    "$$\n",
    "We will use different integral equations for different regions $R_{1},R_{2}$ of the domain: <br>\n",
    "\n",
    "![axis](./tikz%20figures/axis/axis1.jpg)\n",
    "\n",
    "We derive an \"integral\" equation for $y$ on $R_{1}$ by solving a dirichlet boundary problem on $R_{1}$:\n",
    "$$\n",
    " \\begin{aligned}\n",
    "y_1= & A \\cosh (x)+B \\sinh (x) \\\\\n",
    "y_1(-2)= & A \\cosh (-2)+B \\sin (-2)=e^{-2} \\\\\n",
    "y_1(1)= & A \\cosh (1)+B \\sin (1)=y(1) \\\\\n",
    "& \\left(\\begin{array}{l}\n",
    "A \\\\\n",
    "B\n",
    "\\end{array}\\right)=\\left(\\begin{array}{ll}\n",
    "\\cosh (-2) & \\sinh (-2) \\\\\n",
    "\\cosh (1) & \\sinh (1)\n",
    "\\end{array}\\right)^{-1}\\left(\\begin{array}{c}\n",
    "e^{-2} \\\\\n",
    "y(1)\n",
    "\\end{array}\\right) \\\\\n",
    "y_1(x)= & (\\cosh (x) \\text{ } \\sinh (x))\\left(\\begin{array}{c}\n",
    "\\cosh (-2) &\\sinh (-2) \\\\\n",
    "\\cosh (1) & \\sinh (1)\n",
    "\\end{array}\\right)^{-1}\\left(\\begin{array}{c}\n",
    "e^{-2} \\\\\n",
    "y(1)\n",
    "\\end{array}\\right)\n",
    "\\end{aligned}\n",
    "$$ \n",
    "For the integral equation for $y$ on $R_{2}$ we go with dirichlet on the left and neumann on the right which is very similar to the an previous example in period2.\n"
   ]
  },
  {
   "cell_type": "code",
   "execution_count": 6,
   "metadata": {},
   "outputs": [
    {
     "name": "stdout",
     "output_type": "stream",
     "text": [
      "[[ 3.76219569 -3.62686041]\n",
      " [ 1.54308063  1.17520119]]\n",
      "[[ 0.11731043  0.3620389 ]\n",
      " [-0.15403273  0.37554828]]\n"
     ]
    }
   ],
   "source": [
    "import numpy as np \n",
    "from math import cosh, sinh\n",
    "\n",
    "A = np.array([[cosh(-2), sinh(-2)] ,[cosh(1), sinh(1)]])\n",
    "B = np.linalg.inv(A)\n",
    "\n",
    "print(A)\n",
    "print(B)"
   ]
  }
 ],
 "metadata": {
  "kernelspec": {
   "display_name": "Python 3",
   "language": "python",
   "name": "python3"
  },
  "language_info": {
   "codemirror_mode": {
    "name": "ipython",
    "version": 3
   },
   "file_extension": ".py",
   "mimetype": "text/x-python",
   "name": "python",
   "nbconvert_exporter": "python",
   "pygments_lexer": "ipython3",
   "version": "3.10.10"
  },
  "orig_nbformat": 4,
  "vscode": {
   "interpreter": {
    "hash": "61dcd53c54624714075f66cf77d2f4f7b806bcd73e530a683be31ad82b480a0b"
   }
  }
 },
 "nbformat": 4,
 "nbformat_minor": 2
}
