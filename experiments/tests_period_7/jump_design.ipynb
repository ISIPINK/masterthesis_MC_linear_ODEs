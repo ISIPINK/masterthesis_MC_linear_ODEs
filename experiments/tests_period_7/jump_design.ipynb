{
 "cells": [
  {
   "cell_type": "markdown",
   "metadata": {},
   "source": [
    "maybe we should make a sampler that goes $10 \\Delta x$ wide and $50 \\Delta x^{2}$ deep. Keeping track where to sample \n",
    "the source by sampling geometric distribution."
   ]
  }
 ],
 "metadata": {
  "language_info": {
   "name": "python"
  }
 },
 "nbformat": 4,
 "nbformat_minor": 2
}
