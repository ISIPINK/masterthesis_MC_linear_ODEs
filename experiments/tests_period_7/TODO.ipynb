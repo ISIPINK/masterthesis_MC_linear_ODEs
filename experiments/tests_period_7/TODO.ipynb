{
 "cells": [
  {
   "cell_type": "markdown",
   "metadata": {},
   "source": [
    "# TODO\n",
    "\n",
    "Dit is de TODO vanaf main commit: <br>\n",
    "1044c92d47aa430eead716821c2128b4bb9bf4e5 <br>\n",
    "\n",
    "(x,y) staat voor (tijd in dagen, extra tijd dagen) <br>\n",
    "Ik reken 1 dag werk $\\approx$ 8h werk. <br>\n",
    "Extra tijd is voor taken die niet noodzakelijk\n",
    "zijn. <br>\n",
    "Volgorde in de lijst mapped ongeveer \n",
    "in volgorde in tijd.\n",
    "\n",
    "## gedeelte parabolische PDEs (kijk 1zit)\n",
    "\n",
    "- (2d,0d) bewijs heat equation via MOL\n",
    "- (2d,0d) duidelijkere verwoording, notatie aanpassen\n",
    "- (0d,3d) unbiased MC parabolische PDE solver\n",
    "- (0d,2d) in built functie voor sampling vs pre computed\n",
    "resample\n",
    "- (0d,2d) 2 level MC met andere solver\n",
    "- (0d,1d) bewijs heat equation tijd discretisatie\n",
    "verduidelijken of verwijderen\n",
    "- (0d,3d) meer context\n",
    "\n",
    "## algemeen tekst\n",
    "\n",
    "- (1d,0d) 5tal onnauwkeurigheden uit main paper halen, verwijzing aanpassen\n",
    "- (2d,0d) future work aanpassen\n",
    "- (7d,0d) nalezen\n",
    "- (0d,1d) plots opnieuw doen in 1 notebook\n",
    "\n",
    "## literatuur\n",
    "\n",
    "- (7d,0d) nieuwe papers bijhouden\n",
    "- (0d,2d) herlees belangrijke papers\n",
    "- (1d,0d) onderhoud van tags\n",
    "- (1d,0d) onderhoud/herindelen van data map\n",
    "  https://huggingface.co/spaces/ISIPINK/zotero_map\n",
    "- (0d,1d) versnellen data map\n",
    "\n",
    "## code\n",
    "\n",
    "- (1d,0d) beschikbaarheid verbeteren (dependencies enzo en online toegankelijk maken)\n",
    "- (0d,1d) aanpassen van pseudo code\n",
    "- (0d,2d) centrale notebook python of julia maken\n",
    "\n",
    "# tijd inschatting\n",
    "In totaal zou dit 24 dagen en 20 extra dagen tijd kosten."
   ]
  }
 ],
 "metadata": {
  "kernelspec": {
   "display_name": "Python 3",
   "language": "python",
   "name": "python3"
  },
  "language_info": {
   "name": "python",
   "version": "3.10.11"
  }
 },
 "nbformat": 4,
 "nbformat_minor": 2
}
